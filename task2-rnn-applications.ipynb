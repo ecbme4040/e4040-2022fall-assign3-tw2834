{
 "cells": [
  {
   "cell_type": "markdown",
   "metadata": {},
   "source": [
    "## Columbia University\n",
    "### ECBM E4040 Neural Networks and Deep Learning. Fall 2022."
   ]
  },
  {
   "cell_type": "markdown",
   "metadata": {
    "id": "JJCMCx6ISZZw"
   },
   "source": [
    "## **Task 2: RNN application -- Tweet Sentiment Analysis** (50%)"
   ]
  },
  {
   "cell_type": "markdown",
   "metadata": {
    "id": "u8wjQhNtSffW"
   },
   "source": [
    "In this task, you are going to classify the sentiment in tweets into positive and negative using an LSTM model. The code to load the data and see its characteristics has been provided to you. \n",
    "\n",
    "In the first task, you will encode the data using one hot encoding and train an LSTM network to classify the sentiment. In the second task, you will replace the one hot encoding with an embedding layer and train another LSTM model. You will then extract the trained embeddings and visualize the word embeddings in 2 dimensions by using TSNE for dimensionality reduction. "
   ]
  },
  {
   "cell_type": "code",
   "execution_count": 2,
   "metadata": {
    "id": "UZ_G4XdfP7GK"
   },
   "outputs": [
    {
     "name": "stdout",
     "output_type": "stream",
     "text": [
      "The autoreload extension is already loaded. To reload it, use:\n",
      "  %reload_ext autoreload\n"
     ]
    }
   ],
   "source": [
    "# Import modules\n",
    "from __future__ import print_function\n",
    "import tensorflow as tf\n",
    "import numpy as np\n",
    "import json\n",
    "import time\n",
    "import matplotlib.pyplot as plt\n",
    "import pickle\n",
    "\n",
    "%matplotlib inline\n",
    "\n",
    "%load_ext autoreload\n",
    "%autoreload 2"
   ]
  },
  {
   "cell_type": "markdown",
   "metadata": {
    "id": "6MjTYqMoN8fh"
   },
   "source": [
    "## Load Data\n"
   ]
  },
  {
   "cell_type": "code",
   "execution_count": 3,
   "metadata": {
    "colab": {
     "base_uri": "https://localhost:8080/"
    },
    "id": "F55EwI6RQl1A",
    "outputId": "1e087591-3dad-4471-97df-d9af9214dddb"
   },
   "outputs": [
    {
     "name": "stdout",
     "output_type": "stream",
     "text": [
      "size of original train set: 60000\n",
      "size of original test set: 20000\n",
      "****************************************************************************************************\n",
      "size of train set: 60000, #positive: 30055, #negative: 29945\n",
      "size of test set: 1000, #positive: 510, #negative: 490\n",
      "['it', 'will', 'help', 'relieve', 'your', 'stress', 'padtoken', 'padtoken', 'padtoken', 'padtoken', 'padtoken', 'padtoken', 'padtoken', 'padtoken', 'padtoken', 'padtoken', 'padtoken', 'padtoken', 'padtoken', 'padtoken']\n",
      "sentiment: positive\n"
     ]
    }
   ],
   "source": [
    "with open(\"./tweets_data/vocabulary.pkl\", \"rb\") as f:\n",
    "    vocabulary = pickle.load(f)\n",
    "\n",
    "# load our data and separate it into tweets and labels\n",
    "train_data = json.load(open('tweets_data/trainTweets_preprocessed.json', 'r'))\n",
    "train_data = list(map(lambda row:(np.array(row[0],dtype=np.int32),str(row[1])),train_data))\n",
    "train_tweets = np.array([t[0] for t in train_data])\n",
    "train_labels = np.array([int(t[1]) for t in train_data])\n",
    "\n",
    "test_data = json.load(open('tweets_data/testTweets_preprocessed.json', 'r'))\n",
    "test_data = list(map(lambda row:(np.array(row[0],dtype=np.int32),str(row[1])),test_data))\n",
    "test_tweets = np.array([t[0] for t in test_data])\n",
    "test_labels = np.array([int(t[1]) for t in test_data])\n",
    "\n",
    "print(\"size of original train set: {}\".format(len(train_tweets)))\n",
    "print(\"size of original test set: {}\".format(len(test_tweets)))\n",
    "\n",
    "# only select first 1000 test sample for test\n",
    "test_tweets = test_tweets[:1000]\n",
    "test_labels = test_labels[:1000]\n",
    "\n",
    "print(\"*\"*100)\n",
    "print(\"size of train set: {}, #positive: {}, #negative: {}\".format(len(train_tweets), np.sum(train_labels), len(train_tweets)-np.sum(train_labels)))\n",
    "print(\"size of test set: {}, #positive: {}, #negative: {}\".format(len(test_tweets), np.sum(test_labels), len(test_tweets)-np.sum(test_labels)))\n",
    "\n",
    "# show text of the idx-th train tweet\n",
    "# The 'padtoken' is used to ensure each tweet has the same length\n",
    "idx = 100\n",
    "train_text = [vocabulary[x] for x in train_tweets[idx]]\n",
    "print(train_text)\n",
    "sentiment_label = [\"negative\", \"positive\"]\n",
    "print(\"sentiment: {}\".format(sentiment_label[train_labels[idx]]))"
   ]
  },
  {
   "cell_type": "markdown",
   "metadata": {
    "id": "dmjy9sPDOCnY"
   },
   "source": [
    "## Part 1 LSTM Encoder (15%)\n",
    "\n",
    "<font color=\"red\"><strong>TODO:</strong></font> Create a single-layer LSTM network to classify tweets.\n",
    "- Use one hot encoding to represent each word in the tweet.\n",
    "- Set LSTM units to 128.\n",
    "- Use Adam optimizer and set batch size to 32.\n",
    "\n",
    "With these settings, what accuracy could you get? You can try to change some stuff in the network to see if you could get a better accuracy. \n",
    "\n",
    "<font color=\"red\"><strong>Hint:</strong></font> tf.one_hot and Keras functional API may be useful.\n",
    "<br>https://www.tensorflow.org/api_docs/python/tf/keras/layers/LSTM"
   ]
  },
  {
   "cell_type": "code",
   "execution_count": 4,
   "metadata": {
    "scrolled": false
   },
   "outputs": [
    {
     "name": "stdout",
     "output_type": "stream",
     "text": [
      "Model: \"sequential\"\n",
      "_________________________________________________________________\n",
      "Layer (type)                 Output Shape              Param #   \n",
      "=================================================================\n",
      "lambda (Lambda)              (None, 20, 7597)          0         \n",
      "_________________________________________________________________\n",
      "lstm (LSTM)                  (None, 128)               3955712   \n",
      "_________________________________________________________________\n",
      "dense (Dense)                (None, 1)                 129       \n",
      "=================================================================\n",
      "Total params: 3,955,841\n",
      "Trainable params: 3,955,841\n",
      "Non-trainable params: 0\n",
      "_________________________________________________________________\n",
      "Epoch 1/10\n",
      "1875/1875 [==============================] - 16s 7ms/step - loss: 0.5724 - binary_accuracy: 0.6943 - val_loss: 0.5101 - val_binary_accuracy: 0.7580\n",
      "Epoch 2/10\n",
      "1875/1875 [==============================] - 13s 7ms/step - loss: 0.4592 - binary_accuracy: 0.7860 - val_loss: 0.5036 - val_binary_accuracy: 0.7690\n",
      "Epoch 3/10\n",
      "1875/1875 [==============================] - 13s 7ms/step - loss: 0.4146 - binary_accuracy: 0.8122 - val_loss: 0.4911 - val_binary_accuracy: 0.7720\n",
      "Epoch 4/10\n",
      "1875/1875 [==============================] - 13s 7ms/step - loss: 0.3678 - binary_accuracy: 0.8354 - val_loss: 0.5363 - val_binary_accuracy: 0.7510\n",
      "Epoch 5/10\n",
      "1875/1875 [==============================] - 13s 7ms/step - loss: 0.3135 - binary_accuracy: 0.8629 - val_loss: 0.5913 - val_binary_accuracy: 0.7530\n",
      "Epoch 6/10\n",
      "1875/1875 [==============================] - 13s 7ms/step - loss: 0.2646 - binary_accuracy: 0.8844 - val_loss: 0.6711 - val_binary_accuracy: 0.7540\n",
      "Epoch 7/10\n",
      "1875/1875 [==============================] - 13s 7ms/step - loss: 0.2244 - binary_accuracy: 0.9015 - val_loss: 0.7553 - val_binary_accuracy: 0.7460\n",
      "Epoch 8/10\n",
      "1875/1875 [==============================] - 13s 7ms/step - loss: 0.1923 - binary_accuracy: 0.9166 - val_loss: 0.8629 - val_binary_accuracy: 0.7400\n",
      "Epoch 9/10\n",
      "1875/1875 [==============================] - 13s 7ms/step - loss: 0.1664 - binary_accuracy: 0.9282 - val_loss: 0.8638 - val_binary_accuracy: 0.7410\n",
      "Epoch 10/10\n",
      "1875/1875 [==============================] - 13s 7ms/step - loss: 0.1451 - binary_accuracy: 0.9366 - val_loss: 1.0410 - val_binary_accuracy: 0.7220\n"
     ]
    }
   ],
   "source": [
    "###################################################\n",
    "# TODO: Create a single-layer LSTM network.       #\n",
    "#                                                 #\n",
    "###################################################\n",
    "from utils.rnn_utils import one_hot\n",
    "batch_size = 32\n",
    "\n",
    "vocab_len = len(vocabulary)\n",
    "units = 128\n",
    "\n",
    "model = tf.keras.Sequential()\n",
    "model.add(tf.keras.layers.Lambda(lambda x: tf.one_hot(tf.cast(x, 'int32'), len(vocabulary)), input_shape=(20,), output_shape=(20, len(vocabulary))))\n",
    "model.add(tf.keras.layers.LSTM(units))\n",
    "model.add(tf.keras.layers.Dense(1, activation='sigmoid'))\n",
    "\n",
    "model.summary()\n",
    "model.compile(optimizer=tf.keras.optimizers.Adam(), loss=tf.keras.losses.BinaryCrossentropy(), metrics = tf.keras.metrics.BinaryAccuracy())\n",
    "history = model.fit(train_tweets, train_labels, validation_data =(test_tweets, test_labels), \n",
    "                   epochs = 10, batch_size=batch_size)"
   ]
  },
  {
   "cell_type": "code",
   "execution_count": 5,
   "metadata": {},
   "outputs": [
    {
     "data": {
      "image/png": "[encoded data removed]",
      "text/plain": [
       "<Figure size 432x288 with 1 Axes>"
      ]
     },
     "metadata": {
      "needs_background": "light"
     },
     "output_type": "display_data"
    }
   ],
   "source": [
    "plt.plot(history.history['loss'], label='LSTM Loss')\n",
    "plt.plot(history.history['val_loss'], label='LSTM Val Loss')\n",
    "plt.title('LSTM loss')\n",
    "plt.ylabel('loss')\n",
    "plt.xlabel('No. epoch')\n",
    "plt.legend(loc=\"upper left\")\n",
    "plt.show()"
   ]
  },
  {
   "cell_type": "code",
   "execution_count": 6,
   "metadata": {},
   "outputs": [
    {
     "data": {
      "image/png": "[encoded data removed]",
      "text/plain": [
       "<Figure size 432x288 with 1 Axes>"
      ]
     },
     "metadata": {
      "needs_background": "light"
     },
     "output_type": "display_data"
    }
   ],
   "source": [
    "plt.plot(history.history['binary_accuracy'], label='LSTM acc')\n",
    "plt.plot(history.history['val_binary_accuracy'], label='LSTM Val acc')\n",
    "plt.title('LSTM loss')\n",
    "plt.ylabel('loss')\n",
    "plt.xlabel('No. epoch')\n",
    "plt.legend(loc=\"upper left\")\n",
    "plt.show()"
   ]
  },
  {
   "cell_type": "markdown",
   "metadata": {
    "id": "IBiLRGc7RL-g"
   },
   "source": [
    "## Part 2: Embedding Lookup layer (20%)\n",
    "\n",
    "### Define an embedding layer\n",
    "\n",
    "It's not hard to imagine that in the previous practices, the input we fed in are very sparse because each word was represented as a one-hot vector. This makes it difficult for the network to understand what story the input data is telling. A useful technique is *Word Embedding*.\n",
    "\n",
    "*Word Embedding*: instead of using a one-hot vector to represent each word, we can add a word embedding matrix in which each word is represented as a low-dimensional vector. Note that this representation is not sparse any more, because we're working in a continuous vector space now. Words that share similar/related semantic meaning should be 'close to each other' in this vector space (we could define a distance measure to estimate the closeness).\n",
    "\n",
    "<font color=\"red\"><strong>TODO:</strong></font> Define a similar model as above with some improvements.\n",
    "- Use an Embedding layer instead of one hot embedding.\n",
    "- Write a custom training loop to train the model instead of using model.fit().\n",
    "- Write a custom loop gives you complete control over how the model is trained.\n",
    "- Report loss and accuracy for training and validation after each epoch.\n",
    "- Display the loss value after every 500 steps. \n",
    "\n",
    "Do you see any difference in accuracy? What about training time? What inference can you draw?\n",
    "\n",
    "**Hints**: Refer to the link below.\n",
    "<br>https://www.tensorflow.org/guide/keras/writing_a_training_loop_from_scratch\n"
   ]
  },
  {
   "cell_type": "markdown",
   "metadata": {},
   "source": [
    "### Answer\n",
    "\n",
    "- Accuracies are almost similar, and training time was a little slow. \n",
    "- It had to train an additional embedding layer's encodings, thus adding more parameters. The point of the embeddings is also to give each word a sense of context, so the LSTM should better understand the task with these word embeddings. \n",
    "- With more epochs, the model with an embedding layer will surpass the model with one-hot vectors, mainly because the dense representation allows it to store contexts far better than simple one-hot vectors."
   ]
  },
  {
   "cell_type": "code",
   "execution_count": 7,
   "metadata": {
    "id": "x2mkQlVMVUny",
    "scrolled": false
   },
   "outputs": [
    {
     "name": "stdout",
     "output_type": "stream",
     "text": [
      "Model: \"model\"\n",
      "_________________________________________________________________\n",
      "Layer (type)                 Output Shape              Param #   \n",
      "=================================================================\n",
      "input_1 (InputLayer)         [(None, 20)]              0         \n",
      "_________________________________________________________________\n",
      "embedding (Embedding)        (None, 20, 128)           972416    \n",
      "_________________________________________________________________\n",
      "lstm_1 (LSTM)                (None, 128)               131584    \n",
      "_________________________________________________________________\n",
      "dense_1 (Dense)              (None, 1)                 129       \n",
      "=================================================================\n",
      "Total params: 1,104,129\n",
      "Trainable params: 1,104,129\n",
      "Non-trainable params: 0\n",
      "_________________________________________________________________\n",
      "epoch: 0\n",
      "Training loss at step 0: 0.6884384155273438\n",
      "Training loss at step 500: 0.38691478967666626\n",
      "Training loss at step 1000: 0.3857908844947815\n",
      "Training loss at step 1500: 0.48344382643699646\n",
      "Training acc over epoch: 0.7385666370391846\n",
      "Validation acc: 0.7626953125\n",
      "Time taken: 20.00315546989441\n",
      "epoch: 1\n",
      "Training loss at step 0: 0.44740110635757446\n",
      "Training loss at step 500: 0.3340258002281189\n",
      "Training loss at step 1000: 0.3364516496658325\n",
      "Training loss at step 1500: 0.4842686653137207\n",
      "Training acc over epoch: 0.789566695690155\n",
      "Validation acc: 0.755859375\n",
      "Time taken: 18.338558435440063\n",
      "epoch: 2\n",
      "Training loss at step 0: 0.3881585896015167\n",
      "Training loss at step 500: 0.2790093421936035\n",
      "Training loss at step 1000: 0.30730482935905457\n",
      "Training loss at step 1500: 0.4152803122997284\n",
      "Training acc over epoch: 0.8228499889373779\n",
      "Validation acc: 0.724609375\n",
      "Time taken: 18.192158460617065\n",
      "epoch: 3\n",
      "Training loss at step 0: 0.28018495440483093\n",
      "Training loss at step 500: 0.0803709626197815\n",
      "Training loss at step 1000: 0.291578471660614\n",
      "Training loss at step 1500: 0.406676709651947\n",
      "Training acc over epoch: 0.8548166751861572\n",
      "Validation acc: 0.7548828125\n",
      "Time taken: 18.237447023391724\n",
      "epoch: 4\n",
      "Training loss at step 0: 0.13556888699531555\n",
      "Training loss at step 500: 0.10264666378498077\n",
      "Training loss at step 1000: 0.2579215168952942\n",
      "Training loss at step 1500: 0.3986920118331909\n",
      "Training acc over epoch: 0.8714333176612854\n",
      "Validation acc: 0.740234375\n",
      "Time taken: 18.0780291557312\n",
      "epoch: 5\n",
      "Training loss at step 0: 0.10763729363679886\n",
      "Training loss at step 500: 0.2271883487701416\n",
      "Training loss at step 1000: 0.254325807094574\n",
      "Training loss at step 1500: 0.2858232259750366\n",
      "Training acc over epoch: 0.8861500024795532\n",
      "Validation acc: 0.73828125\n",
      "Time taken: 18.23896551132202\n",
      "epoch: 6\n",
      "Training loss at step 0: 0.13488027453422546\n",
      "Training loss at step 500: 0.0935809314250946\n",
      "Training loss at step 1000: 0.21366047859191895\n",
      "Training loss at step 1500: 0.13686959445476532\n",
      "Training acc over epoch: 0.8969833254814148\n",
      "Validation acc: 0.720703125\n",
      "Time taken: 18.308810472488403\n",
      "epoch: 7\n",
      "Training loss at step 0: 0.16231998801231384\n",
      "Training loss at step 500: 0.07115328311920166\n",
      "Training loss at step 1000: 0.2003924548625946\n",
      "Training loss at step 1500: 0.23157307505607605\n",
      "Training acc over epoch: 0.9069499969482422\n",
      "Validation acc: 0.734375\n",
      "Time taken: 18.42361617088318\n",
      "epoch: 8\n",
      "Training loss at step 0: 0.11372928321361542\n",
      "Training loss at step 500: 0.0637655258178711\n",
      "Training loss at step 1000: 0.16270610690116882\n",
      "Training loss at step 1500: 0.19957026839256287\n",
      "Training acc over epoch: 0.9130499958992004\n",
      "Validation acc: 0.724609375\n",
      "Time taken: 18.701479196548462\n",
      "epoch: 9\n",
      "Training loss at step 0: 0.16554942727088928\n",
      "Training loss at step 500: 0.036017000675201416\n",
      "Training loss at step 1000: 0.16473108530044556\n",
      "Training loss at step 1500: 0.1967283934354782\n",
      "Training acc over epoch: 0.9185166954994202\n",
      "Validation acc: 0.73046875\n",
      "Time taken: 18.62822127342224\n"
     ]
    }
   ],
   "source": [
    "###################################################\n",
    "# TODO: Create a single-layer LSTM network        #\n",
    "#       using Embedding layer                     #\n",
    "###################################################\n",
    "\n",
    "batch_size = 32\n",
    "vocab_len = len(vocabulary)\n",
    "units = 128\n",
    "embed_dim = 128\n",
    "\n",
    "# Training dataset pair\n",
    "train_dataset = tf.data.Dataset.from_tensor_slices((train_tweets, train_labels))\n",
    "train_dataset = train_dataset.batch(batch_size)\n",
    "\n",
    "# Validation dataset pair\n",
    "val_dataset = tf.data.Dataset.from_tensor_slices((test_tweets, test_labels))\n",
    "val_dataset = val_dataset.batch(batch_size)\n",
    "\n",
    "optimizer = tf.keras.optimizers.Adam()\n",
    "loss_fn = tf.keras.losses.BinaryCrossentropy()\n",
    "\n",
    "inputs = tf.keras.Input((20,))\n",
    "x = tf.keras.layers.Embedding(vocab_len, embed_dim, input_length=train_tweets.shape[1])(inputs)\n",
    "x = tf.keras.layers.LSTM(units)(x)\n",
    "outputs = tf.keras.layers.Dense(1, activation='sigmoid')(x)\n",
    "\n",
    "model = tf.keras.Model(inputs, outputs)\n",
    "\n",
    "model.summary()\n",
    "train_acc_metric = tf.keras.metrics.BinaryAccuracy()\n",
    "val_acc_metric = tf.keras.metrics.BinaryAccuracy()\n",
    "\n",
    "@tf.function\n",
    "def train_step(x, y):\n",
    "    with tf.GradientTape() as tape:\n",
    "        logits = model(x, training=True)\n",
    "        loss_value = loss_fn(y, logits)\n",
    "    grads = tape.gradient(loss_value, model.trainable_weights)\n",
    "    optimizer.apply_gradients(zip(grads, model.trainable_weights))\n",
    "    train_acc_metric.update_state(y, logits)\n",
    "    return loss_value\n",
    "\n",
    "@tf.function\n",
    "def val_step(x, y):\n",
    "    val_logits = model(x, training=False)\n",
    "    val_acc_metric.update_state(y, val_logits)\n",
    "\n",
    "epochs = 10\n",
    "for epoch in range(epochs):\n",
    "    print(\"epoch: {}\".format(epoch))\n",
    "    start_time = time.time()\n",
    "\n",
    "    # Iterate over the batches of the dataset.\n",
    "    for step, (x_batch_train, y_batch_train) in enumerate(train_dataset):\n",
    "        loss_value = train_step(x_batch_train, y_batch_train)\n",
    "\n",
    "        # Print loss every 500 steps\n",
    "        if step % 500 == 0:\n",
    "            print(\"Training loss at step {0}: {1}\".format(step, float(loss_value)))\n",
    "\n",
    "    # Print accuracy for each epoch\n",
    "    train_acc = train_acc_metric.result()\n",
    "    print(\"Training acc over epoch: {}\".format(float(train_acc),))\n",
    "\n",
    "    # Reset training metrics for each epoch\n",
    "    train_acc_metric.reset_states()\n",
    "\n",
    "    # Run a validation loop for each epoch.\n",
    "    for x_batch_val, y_batch_val in val_dataset:\n",
    "        val_step(x_batch_val, y_batch_val)\n",
    "\n",
    "    val_acc = val_acc_metric.result()\n",
    "    val_acc_metric.reset_states()\n",
    "    print(\"Validation acc: {}\".format(float(val_acc),))\n",
    "    print(\"Time taken: {}\".format(time.time() - start_time))\n",
    "###################################################\n",
    "# END TODO                                        #\n",
    "###################################################"
   ]
  },
  {
   "cell_type": "markdown",
   "metadata": {
    "id": "o9WYOKJtUwe5"
   },
   "source": [
    "## Part 3: Visualize word vectors via tSNE (15%)\n",
    "\n",
    "<font color=\"red\"><strong>TODO:</strong></font>\n",
    "- First, you need to retrieve embedding matrix from the network.\n",
    "- Then use tSNE to reduce each low-dimensional word vector into a 2D vector.\n",
    "- And then, you should visualize some interesting word pairs in 2D panel. (You may find scatter function in matplotlib.pyplot useful.)\n",
    "\n",
    "<font color=\"red\"><strong>Hint:</strong></font> You can use TSNE tool provided in scikit-learn. And if you encounter dead kernel problem caused by \"Intel MKL FATAL ERROR: Cannot load libmkl_avx.so or libmkl_def.so\", please reinstall scikit-learn without MKL, ie., conda install nomkl numpy scipy scikit-learn numexpr.\n",
    "\n",
    "Here we provide some word pairs for you, like female-male or country-capital. And you can observe that these word-pair will look parallel with each other in a 2D tSNE panel. And you can find some other words and explore their relationship.\n"
   ]
  },
  {
   "cell_type": "code",
   "execution_count": 26,
   "metadata": {
    "id": "aVZwhreIVlk0"
   },
   "outputs": [
    {
     "data": {
      "image/png": "[encoded data removed]",
      "text/plain": [
       "<Figure size 432x288 with 1 Axes>"
      ]
     },
     "metadata": {
      "needs_background": "light"
     },
     "output_type": "display_data"
    }
   ],
   "source": [
    "# word pairs provided\n",
    "female_male = [\"men\", \"women\", \"king\", \"queen\"]\n",
    "country_capital = [\"spain\", \"madrid\", \"italy\", \"rome\", \"japan\", \"tokyo\"]\n",
    "#you may try some other words as well\n",
    "\n",
    "###################################################\n",
    "# TODO: Visualize word vectors using TSNE.        #\n",
    "#                                                 #\n",
    "###################################################\n",
    "from sklearn.manifold import TSNE\n",
    "embeddings = model.layers[1].get_weights()[0]\n",
    "emb_tsne = TSNE(n_components=2).fit_transform(embeddings)\n",
    "\n",
    "plt.plot(emb_tsne[np.where(vocabulary == \"spain\")[0][0]], emb_tsne[np.where(vocabulary == \"madrid\")[0][0]], label='spain - madrid')\n",
    "plt.plot(emb_tsne[np.where(vocabulary == \"italy\")[0][0]], emb_tsne[np.where(vocabulary == \"rome\")[0][0]], label='italy - rome')\n",
    "plt.plot(emb_tsne[np.where(vocabulary == \"japan\")[0][0]], emb_tsne[np.where(vocabulary == \"tokyo\")[0][0]], label='japan - tokyo')\n",
    "plt.title('2d embedding projection')\n",
    "plt.ylabel('x2')\n",
    "plt.xlabel('x1')\n",
    "plt.legend(loc=\"upper left\")\n",
    "plt.show()\n",
    "###################################################\n",
    "# END TODO                                        #\n",
    "###################################################"
   ]
  },
  {
   "cell_type": "code",
   "execution_count": 25,
   "metadata": {},
   "outputs": [
    {
     "data": {
      "image/png": "[encoded data removed]",
      "text/plain": [
       "<Figure size 432x288 with 1 Axes>"
      ]
     },
     "metadata": {
      "needs_background": "light"
     },
     "output_type": "display_data"
    }
   ],
   "source": [
    "plt.plot(emb_tsne[np.where(vocabulary == \"men\")[0][0]], emb_tsne[np.where(vocabulary == \"king\")[0][0]], label='men - king')\n",
    "plt.plot(emb_tsne[np.where(vocabulary == \"women\")[0][0]], emb_tsne[np.where(vocabulary == \"queen\")[0][0]], label='women - queen')\n",
    "plt.title('2d embedding projection')\n",
    "plt.ylabel('x2')\n",
    "plt.xlabel('x1')\n",
    "plt.legend(loc=\"upper left\")\n",
    "plt.show()"
   ]
  },
  {
   "cell_type": "markdown",
   "metadata": {},
   "source": [
    "<font color=\"red\"><strong>Note:</strong></font> Install **sklearn** if you haven't already. \n",
    "\n",
    "```\n",
    "> pip install sklearn\n",
    "```"
   ]
  },
  {
   "cell_type": "code",
   "execution_count": 18,
   "metadata": {},
   "outputs": [
    {
     "data": {
      "text/plain": [
       "[array([[-0.01519295,  0.04344175,  0.04700555, ...,  0.01208677,\n",
       "         -0.04032861, -0.00466638],\n",
       "        [ 0.0050851 ,  0.02196358, -0.01415992, ...,  0.02497489,\n",
       "         -0.07362664, -0.0028065 ],\n",
       "        [ 0.02317442,  0.04506389,  0.04521729, ...,  0.05322183,\n",
       "         -0.17973998,  0.01700845],\n",
       "        ...,\n",
       "        [ 0.1989698 ,  0.11043765, -0.23294042, ..., -0.05200608,\n",
       "          0.22230044, -0.22836402],\n",
       "        [ 0.24597588,  0.02780934,  0.14276604, ...,  0.29972604,\n",
       "         -0.05575735, -0.14011434],\n",
       "        [ 0.13311054, -0.18221721,  0.28743565, ...,  0.04942198,\n",
       "          0.16795869,  0.1286519 ]], dtype=float32)]"
      ]
     },
     "execution_count": 18,
     "metadata": {},
     "output_type": "execute_result"
    }
   ],
   "source": [
    "model.layers[1].get_weights()"
   ]
  },
  {
   "cell_type": "code",
   "execution_count": 24,
   "metadata": {
    "id": "htUwuPmxWT9Q"
   },
   "outputs": [],
   "source": [
    "##Solution"
   ]
  },
  {
   "cell_type": "code",
   "execution_count": 20,
   "metadata": {
    "colab": {
     "base_uri": "https://localhost:8080/",
     "height": 267
    },
    "id": "rzrHjQbnWL6S",
    "outputId": "e2a57dd1-88f1-4a9e-926d-4a031e6f17ac"
   },
   "outputs": [
    {
     "data": {
      "image/png": "[encoded data removed]",
      "text/plain": [
       "<Figure size 432x288 with 1 Axes>"
      ]
     },
     "metadata": {
      "needs_background": "light"
     },
     "output_type": "display_data"
    }
   ],
   "source": [
    "##Solution\n",
    "\n",
    "vocab_list = list(vocabulary)\n",
    "sample_words = female_male #[\"master\", \"teacher\", \"student\", \"graduate\", \"learning\", \"teach\", \"college\", \"campus\"]\n",
    "indices =[]\n",
    "for word in sample_words:\n",
    "  indices.append(vocab_list.index(word))\n",
    "\n",
    "points = emb_tsne[indices]\n",
    "plt.scatter(points[:, 0], points[:, 1], 20)\n",
    "\n",
    "for text, pts in zip(sample_words, points):\n",
    "    # plt.annotate(text, (X_tsne[idx,0],X_tsne[idx,1]), fontsize=20)\n",
    "    plt.annotate(text, (int(pts[0]), int(pts[1])))\n",
    "    "
   ]
  },
  {
   "cell_type": "code",
   "execution_count": null,
   "metadata": {},
   "outputs": [],
   "source": []
  }
 ],
 "metadata": {
  "accelerator": "GPU",
  "colab": {
   "name": "Assignment_3_task_2_final.ipynb",
   "provenance": []
  },
  "kernelspec": {
   "display_name": "Python 3",
   "language": "python",
   "name": "python3"
  },
  "language_info": {
   "codemirror_mode": {
    "name": "ipython",
    "version": 3
   },
   "file_extension": ".py",
   "mimetype": "text/x-python",
   "name": "python",
   "nbconvert_exporter": "python",
   "pygments_lexer": "ipython3",
   "version": "3.6.9"
  },
  "vscode": {
   "interpreter": {
    "hash": "36142657f443a869bd2c1b509e6f1df9b014ad48aa206cdd00d27f8f22cb37ba"
   }
  }
 },
 "nbformat": 4,
 "nbformat_minor": 4
}
