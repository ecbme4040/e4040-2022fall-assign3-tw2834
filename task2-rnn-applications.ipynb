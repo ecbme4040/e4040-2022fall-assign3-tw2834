{
 "cells": [
  {
   "cell_type": "markdown",
   "metadata": {},
   "source": [
    "## Columbia University\n",
    "### ECBM E4040 Neural Networks and Deep Learning. Fall 2022."
   ]
  },
  {
   "cell_type": "markdown",
   "metadata": {
    "id": "JJCMCx6ISZZw"
   },
   "source": [
    "## **Task 2: RNN application -- Tweet Sentiment Analysis** (50%)"
   ]
  },
  {
   "cell_type": "markdown",
   "metadata": {
    "id": "u8wjQhNtSffW"
   },
   "source": [
    "In this task, you are going to classify the sentiment in tweets into positive and negative using an LSTM model. The code to load the data and see its characteristics has been provided to you. \n",
    "\n",
    "In the first task, you will encode the data using one hot encoding and train an LSTM network to classify the sentiment. In the second task, you will replace the one hot encoding with an embedding layer and train another LSTM model. You will then extract the trained embeddings and visualize the word embeddings in 2 dimensions by using TSNE for dimensionality reduction. "
   ]
  },
  {
   "cell_type": "code",
   "execution_count": 1,
   "metadata": {
    "id": "UZ_G4XdfP7GK"
   },
   "outputs": [],
   "source": [
    "# Import modules\n",
    "from __future__ import print_function\n",
    "import tensorflow as tf\n",
    "import numpy as np\n",
    "import json\n",
    "import time\n",
    "import matplotlib.pyplot as plt\n",
    "import pickle\n",
    "\n",
    "%matplotlib inline\n",
    "\n",
    "%load_ext autoreload\n",
    "%autoreload 2"
   ]
  },
  {
   "cell_type": "markdown",
   "metadata": {
    "id": "6MjTYqMoN8fh"
   },
   "source": [
    "## Load Data\n"
   ]
  },
  {
   "cell_type": "code",
   "execution_count": 2,
   "metadata": {
    "colab": {
     "base_uri": "https://localhost:8080/"
    },
    "id": "F55EwI6RQl1A",
    "outputId": "1e087591-3dad-4471-97df-d9af9214dddb"
   },
   "outputs": [
    {
     "name": "stdout",
     "output_type": "stream",
     "text": [
      "size of original train set: 60000\n",
      "size of original test set: 20000\n",
      "****************************************************************************************************\n",
      "size of train set: 60000, #positive: 30055, #negative: 29945\n",
      "size of test set: 1000, #positive: 510, #negative: 490\n",
      "['it', 'will', 'help', 'relieve', 'your', 'stress', 'padtoken', 'padtoken', 'padtoken', 'padtoken', 'padtoken', 'padtoken', 'padtoken', 'padtoken', 'padtoken', 'padtoken', 'padtoken', 'padtoken', 'padtoken', 'padtoken']\n",
      "sentiment: positive\n"
     ]
    }
   ],
   "source": [
    "with open(\"./tweets_data/vocabulary.pkl\", \"rb\") as f:\n",
    "    vocabulary = pickle.load(f)\n",
    "\n",
    "# load our data and separate it into tweets and labels\n",
    "train_data = json.load(open('tweets_data/trainTweets_preprocessed.json', 'r'))\n",
    "train_data = list(map(lambda row:(np.array(row[0],dtype=np.int32),str(row[1])),train_data))\n",
    "train_tweets = np.array([t[0] for t in train_data])\n",
    "train_labels = np.array([int(t[1]) for t in train_data])\n",
    "\n",
    "test_data = json.load(open('tweets_data/testTweets_preprocessed.json', 'r'))\n",
    "test_data = list(map(lambda row:(np.array(row[0],dtype=np.int32),str(row[1])),test_data))\n",
    "test_tweets = np.array([t[0] for t in test_data])\n",
    "test_labels = np.array([int(t[1]) for t in test_data])\n",
    "\n",
    "print(\"size of original train set: {}\".format(len(train_tweets)))\n",
    "print(\"size of original test set: {}\".format(len(test_tweets)))\n",
    "\n",
    "# only select first 1000 test sample for test\n",
    "test_tweets = test_tweets[:1000]\n",
    "test_labels = test_labels[:1000]\n",
    "\n",
    "print(\"*\"*100)\n",
    "print(\"size of train set: {}, #positive: {}, #negative: {}\".format(len(train_tweets), np.sum(train_labels), len(train_tweets)-np.sum(train_labels)))\n",
    "print(\"size of test set: {}, #positive: {}, #negative: {}\".format(len(test_tweets), np.sum(test_labels), len(test_tweets)-np.sum(test_labels)))\n",
    "\n",
    "# show text of the idx-th train tweet\n",
    "# The 'padtoken' is used to ensure each tweet has the same length\n",
    "idx = 100\n",
    "train_text = [vocabulary[x] for x in train_tweets[idx]]\n",
    "print(train_text)\n",
    "sentiment_label = [\"negative\", \"positive\"]\n",
    "print(\"sentiment: {}\".format(sentiment_label[train_labels[idx]]))"
   ]
  },
  {
   "cell_type": "code",
   "execution_count": 8,
   "metadata": {},
   "outputs": [
    {
     "data": {
      "text/plain": [
       "7597"
      ]
     },
     "execution_count": 8,
     "metadata": {},
     "output_type": "execute_result"
    }
   ],
   "source": [
    "len(vocabulary)"
   ]
  },
  {
   "cell_type": "markdown",
   "metadata": {
    "id": "dmjy9sPDOCnY"
   },
   "source": [
    "## Part 1 LSTM Encoder (15%)\n",
    "\n",
    "<font color=\"red\"><strong>TODO:</strong></font> Create a single-layer LSTM network to classify tweets.\n",
    "- Use one hot encoding to represent each word in the tweet.\n",
    "- Set LSTM units to 128.\n",
    "- Use Adam optimizer and set batch size to 32.\n",
    "\n",
    "With these settings, what accuracy could you get? You can try to change some stuff in the network to see if you could get a better accuracy. \n",
    "\n",
    "<font color=\"red\"><strong>Hint:</strong></font> tf.one_hot and Keras functional API may be useful.\n",
    "<br>https://www.tensorflow.org/api_docs/python/tf/keras/layers/LSTM"
   ]
  },
  {
   "cell_type": "code",
   "execution_count": 13,
   "metadata": {},
   "outputs": [],
   "source": [
    "from utils.rnn_utils import one_hot\n",
    "batch_size = 32\n",
    "\n",
    "# Training dataset pair\n",
    "train_dataset = tf.data.Dataset.from_tensor_slices((train_tweets, train_labels))\n",
    "train_dataset = train_dataset.batch(batch_size)\n",
    "\n",
    "# Validation dataset pair\n",
    "val_dataset = tf.data.Dataset.from_tensor_slices((test_tweets, test_labels))\n",
    "val_dataset = val_dataset.batch(batch_size)\n",
    "\n",
    "vocab_len = len(vocabulary)\n",
    "embed_dim = 128\n",
    "lstm_out = 100\n",
    "\n",
    "\n",
    "inputs = tf.keras.Input((20,))\n",
    "x = tf.keras.layers.Lambda(lambda i: one_hot(i, vocab_len))(inputs)"
   ]
  },
  {
   "cell_type": "code",
   "execution_count": null,
   "metadata": {
    "id": "-Mx6WgMBVI3T"
   },
   "outputs": [
    {
     "name": "stderr",
     "output_type": "stream",
     "text": [
      "2022-11-21 20:27:19.177673: I tensorflow/core/platform/cpu_feature_guard.cc:151] This TensorFlow binary is optimized with oneAPI Deep Neural Network Library (oneDNN) to use the following CPU instructions in performance-critical operations:  AVX2 FMA\n",
      "To enable them in other operations, rebuild TensorFlow with the appropriate compiler flags.\n"
     ]
    },
    {
     "name": "stdout",
     "output_type": "stream",
     "text": [
      "(None, 20)\n",
      "(None, 20, 7597) KerasTensor(type_spec=TensorSpec(shape=(None, 20, 7597), dtype=tf.int32, name=None), name='lambda/one_hot:0', description=\"created by layer 'lambda'\")\n",
      "(None, 100)\n",
      "\n",
      "Start of epoch 0\n",
      "Training loss (for one batch) at step 0: 0.6935\n",
      "Seen so far: 64 samples\n",
      "Training loss (for one batch) at step 400: 0.5929\n",
      "Seen so far: 25664 samples\n",
      "Training loss (for one batch) at step 800: 0.6384\n",
      "Seen so far: 51264 samples\n",
      "Training acc over epoch: 0.7022\n",
      "Validation acc: 0.7455\n",
      "Time taken: 561.08s\n",
      "\n",
      "Start of epoch 1\n",
      "Training loss (for one batch) at step 0: 0.3916\n",
      "Seen so far: 64 samples\n",
      "Training loss (for one batch) at step 400: 0.5136\n",
      "Seen so far: 25664 samples\n",
      "Training loss (for one batch) at step 800: 0.5696\n",
      "Seen so far: 51264 samples\n",
      "Training acc over epoch: 0.7541\n",
      "Validation acc: 0.7547\n",
      "Time taken: 582.75s\n",
      "\n",
      "Start of epoch 2\n",
      "Training loss (for one batch) at step 0: 0.4990\n",
      "Seen so far: 64 samples\n",
      "Training loss (for one batch) at step 400: 0.4650\n",
      "Seen so far: 25664 samples\n",
      "Training loss (for one batch) at step 800: 0.5485\n",
      "Seen so far: 51264 samples\n",
      "Training acc over epoch: 0.7759\n",
      "Validation acc: 0.7535\n",
      "Time taken: 729.97s\n",
      "\n",
      "Start of epoch 3\n",
      "Training loss (for one batch) at step 0: 0.4231\n",
      "Seen so far: 64 samples\n",
      "Training loss (for one batch) at step 400: 0.3657\n",
      "Seen so far: 25664 samples\n",
      "Training loss (for one batch) at step 800: 0.4653\n",
      "Seen so far: 51264 samples\n",
      "Training acc over epoch: 0.7981\n",
      "Validation acc: 0.7529\n",
      "Time taken: 502.09s\n",
      "\n",
      "Start of epoch 4\n",
      "Training loss (for one batch) at step 0: 0.4121\n",
      "Seen so far: 64 samples\n",
      "Training loss (for one batch) at step 400: 0.4471\n",
      "Seen so far: 25664 samples\n",
      "Training loss (for one batch) at step 800: 0.4404\n",
      "Seen so far: 51264 samples\n",
      "Training acc over epoch: 0.8163\n",
      "Validation acc: 0.7441\n",
      "Time taken: 516.61s\n",
      "\n",
      "Start of epoch 5\n",
      "Training loss (for one batch) at step 0: 0.4191\n",
      "Seen so far: 64 samples\n",
      "Training loss (for one batch) at step 400: 0.3741\n",
      "Seen so far: 25664 samples\n",
      "Training loss (for one batch) at step 800: 0.3845\n",
      "Seen so far: 51264 samples\n",
      "Training acc over epoch: 0.8259\n",
      "Validation acc: 0.7467\n",
      "Time taken: 503.32s\n",
      "\n",
      "Start of epoch 6\n",
      "Training loss (for one batch) at step 0: 0.3846\n",
      "Seen so far: 64 samples\n",
      "Training loss (for one batch) at step 400: 0.3318\n",
      "Seen so far: 25664 samples\n",
      "Training loss (for one batch) at step 800: 0.4465\n",
      "Seen so far: 51264 samples\n",
      "Training acc over epoch: 0.8350\n",
      "Validation acc: 0.7393\n",
      "Time taken: 505.52s\n",
      "\n",
      "Start of epoch 7\n",
      "Training loss (for one batch) at step 0: 0.4539\n",
      "Seen so far: 64 samples\n",
      "Training loss (for one batch) at step 400: 0.3804\n",
      "Seen so far: 25664 samples\n",
      "Training loss (for one batch) at step 800: 0.4046\n",
      "Seen so far: 51264 samples\n"
     ]
    }
   ],
   "source": [
    "###################################################\n",
    "# TODO: Create a single-layer LSTM network.       #\n",
    "#                                                 #\n",
    "###################################################\n",
    "from utils.rnn_utils import one_hot\n",
    "batch_size = 32\n",
    "\n",
    "# Training dataset pair\n",
    "train_dataset = tf.data.Dataset.from_tensor_slices((train_tweets, train_labels))\n",
    "train_dataset = train_dataset.batch(batch_size)\n",
    "\n",
    "# Validation dataset pair\n",
    "val_dataset = tf.data.Dataset.from_tensor_slices((test_tweets, test_labels))\n",
    "val_dataset = val_dataset.batch(batch_size)\n",
    "\n",
    "vocab_len = len(vocabulary)\n",
    "embed_dim = 128\n",
    "lstm_out = 100\n",
    "\n",
    "\n",
    "inputs = tf.keras.Input((20,))\n",
    "x = tf.keras.layers.Lambda(lambda i: one_hot(i, vocab_len))(inputs)\n",
    "x = tf.keras.layers.LSTM(128, dropout=0.2, recurrent_dropout=0.2)(tf.cast(x, tf.float32))\n",
    "x = tf.keras.layers.Dense(64,activation='relu')(x)\n",
    "outputs = tf.keras.layers.Dense(1, activation='sigmoid')(x)\n",
    "\n",
    "model = tf.keras.Model(inputs, outputs)\n",
    "optimizer = tf.keras.optimizers.Adam()\n",
    "loss_fn = tf.keras.losses.BinaryCrossentropy()\n",
    "\n",
    "train_acc_metric = tf.keras.metrics.BinaryAccuracy()\n",
    "val_acc_metric = tf.keras.metrics.BinaryAccuracy()\n",
    "\n",
    "@tf.function\n",
    "def train_step(x, y):\n",
    "    with tf.GradientTape() as tape:\n",
    "        logits = model(x, training=True)\n",
    "        loss_value = loss_fn(y, logits)\n",
    "    grads = tape.gradient(loss_value, model.trainable_weights)\n",
    "    optimizer.apply_gradients(zip(grads, model.trainable_weights))\n",
    "    train_acc_metric.update_state(y, logits)\n",
    "    return loss_value\n",
    "\n",
    "@tf.function\n",
    "def test_step(x, y):\n",
    "    val_logits = model(x, training=False)\n",
    "    val_acc_metric.update_state(y, val_logits)\n",
    "\n",
    "epochs = 10\n",
    "for epoch in range(epochs):\n",
    "    print(\"\\nStart of epoch %d\" % (epoch,))\n",
    "    start_time = time.time()\n",
    "\n",
    "    # Iterate over the batches of the dataset.\n",
    "    for step, (x_batch_train, y_batch_train) in enumerate(train_dataset):\n",
    "        loss_value = train_step(x_batch_train, y_batch_train)\n",
    "\n",
    "    # Display metrics for each epoch.\n",
    "    train_acc = train_acc_metric.result()\n",
    "    print(\"Training acc over epoch: %.4f\" % (float(train_acc),))\n",
    "\n",
    "    # Reset training metrics for each epoch\n",
    "    train_acc_metric.reset_states()\n",
    "\n",
    "    # Run a validation loop for each epoch.\n",
    "    for x_batch_val, y_batch_val in val_dataset:\n",
    "        test_step(x_batch_val, y_batch_val)\n",
    "\n",
    "    val_acc = val_acc_metric.result()\n",
    "    val_acc_metric.reset_states()\n",
    "    print(\"Validation acc: %.4f\" % (float(val_acc),))\n",
    "    print(\"Time taken: %.2fs\" % (time.time() - start_time))\n",
    "\n",
    "###################################################\n",
    "# END TODO                                        #\n",
    "###################################################"
   ]
  },
  {
   "cell_type": "markdown",
   "metadata": {
    "id": "IBiLRGc7RL-g"
   },
   "source": [
    "## Part 2: Embedding Lookup layer (20%)\n",
    "\n",
    "### Define an embedding layer\n",
    "\n",
    "It's not hard to imagine that in the previous practices, the input we fed in are very sparse because each word was represented as a one-hot vector. This makes it difficult for the network to understand what story the input data is telling. A useful technique is *Word Embedding*.\n",
    "\n",
    "*Word Embedding*: instead of using a one-hot vector to represent each word, we can add a word embedding matrix in which each word is represented as a low-dimensional vector. Note that this representation is not sparse any more, because we're working in a continuous vector space now. Words that share similar/related semantic meaning should be 'close to each other' in this vector space (we could define a distance measure to estimate the closeness).\n",
    "\n",
    "<font color=\"red\"><strong>TODO:</strong></font> Define a similar model as above with some improvements.\n",
    "- Use an Embedding layer instead of one hot embedding.\n",
    "- Write a custom training loop to train the model instead of using model.fit().\n",
    "- Write a custom loop gives you complete control over how the model is trained.\n",
    "- Report loss and accuracy for training and validation after each epoch.\n",
    "- Display the loss value after every 500 steps. \n",
    "\n",
    "Do you see any difference in accuracy? What about training time? What inference can you draw?\n",
    "\n",
    "**Hints**: Refer to the link below.\n",
    "<br>https://www.tensorflow.org/guide/keras/writing_a_training_loop_from_scratch\n"
   ]
  },
  {
   "cell_type": "code",
   "execution_count": null,
   "metadata": {
    "id": "x2mkQlVMVUny"
   },
   "outputs": [],
   "source": [
    "###################################################\n",
    "# TODO: Create a single-layer LSTM network        #\n",
    "#       using Embedding layer                     #\n",
    "###################################################\n",
    "batch_size = 32\n",
    "\n",
    "# Training dataset pair\n",
    "train_dataset = tf.data.Dataset.from_tensor_slices((train_tweets, train_labels))\n",
    "train_dataset = train_dataset.batch(batch_size)\n",
    "\n",
    "# Validation dataset pair\n",
    "val_dataset = tf.data.Dataset.from_tensor_slices((test_tweets, test_labels))\n",
    "val_dataset = val_dataset.batch(batch_size)\n",
    "\n",
    "vocab_len = len(vocabulary)\n",
    "embed_dim = 128\n",
    "lstm_out = 100\n",
    "\n",
    "inputs = tf.keras.Input((20,))\n",
    "embed = tf.keras.layers.Embedding(vocab_len, embed_dim, input_length=train_tweets.shape[1])(inputs)\n",
    "x = tf.keras.layers.SpatialDropout1D(0.4)(embed)\n",
    "x = tf.keras.layers.LSTM(128, dropout=0.2, recurrent_dropout=0.2)(x)\n",
    "x = tf.keras.layers.Dense(64,activation='relu')(x)\n",
    "outputs = tf.keras.layers.Dense(1, activation='sigmoid')(x)\n",
    "\n",
    "model = tf.keras.Model(inputs, outputs)\n",
    "optimizer = tf.keras.optimizers.Adam()\n",
    "loss_fn = tf.keras.losses.BinaryCrossentropy()\n",
    "\n",
    "train_acc_metric = tf.keras.metrics.BinaryAccuracy()\n",
    "val_acc_metric = tf.keras.metrics.BinaryAccuracy()\n",
    "\n",
    "@tf.function\n",
    "def train_step(x, y):\n",
    "    with tf.GradientTape() as tape:\n",
    "        logits = model(x, training=True)\n",
    "        loss_value = loss_fn(y, logits)\n",
    "    grads = tape.gradient(loss_value, model.trainable_weights)\n",
    "    optimizer.apply_gradients(zip(grads, model.trainable_weights))\n",
    "    train_acc_metric.update_state(y, logits)\n",
    "    return loss_value\n",
    "\n",
    "@tf.function\n",
    "def test_step(x, y):\n",
    "    val_logits = model(x, training=False)\n",
    "    val_acc_metric.update_state(y, val_logits)\n",
    "\n",
    "epochs = 10\n",
    "for epoch in range(epochs):\n",
    "    print(\"\\nStart of epoch %d\" % (epoch,))\n",
    "    start_time = time.time()\n",
    "\n",
    "    # Iterate over the batches of the dataset.\n",
    "    for step, (x_batch_train, y_batch_train) in enumerate(train_dataset):\n",
    "        loss_value = train_step(x_batch_train, y_batch_train)\n",
    "\n",
    "    # Display metrics for each epoch.\n",
    "    train_acc = train_acc_metric.result()\n",
    "    print(\"Training acc over epoch: %.4f\" % (float(train_acc),))\n",
    "\n",
    "    # Reset training metrics for each epoch\n",
    "    train_acc_metric.reset_states()\n",
    "\n",
    "    # Run a validation loop for each epoch.\n",
    "    for x_batch_val, y_batch_val in val_dataset:\n",
    "        test_step(x_batch_val, y_batch_val)\n",
    "\n",
    "    val_acc = val_acc_metric.result()\n",
    "    val_acc_metric.reset_states()\n",
    "    print(\"Validation acc: %.4f\" % (float(val_acc),))\n",
    "    print(\"Time taken: %.2fs\" % (time.time() - start_time))\n",
    "\n",
    "###################################################\n",
    "# END TODO                                        #\n",
    "###################################################"
   ]
  },
  {
   "cell_type": "markdown",
   "metadata": {
    "id": "o9WYOKJtUwe5"
   },
   "source": [
    "## Part 3: Visualize word vectors via tSNE (15%)\n",
    "\n",
    "<font color=\"red\"><strong>TODO:</strong></font>\n",
    "- First, you need to retrieve embedding matrix from the network.\n",
    "- Then use tSNE to reduce each low-dimensional word vector into a 2D vector.\n",
    "- And then, you should visualize some interesting word pairs in 2D panel. (You may find scatter function in matplotlib.pyplot useful.)\n",
    "\n",
    "<font color=\"red\"><strong>Hint:</strong></font> You can use TSNE tool provided in scikit-learn. And if you encounter dead kernel problem caused by \"Intel MKL FATAL ERROR: Cannot load libmkl_avx.so or libmkl_def.so\", please reinstall scikit-learn without MKL, ie., conda install nomkl numpy scipy scikit-learn numexpr.\n",
    "\n",
    "Here we provide some word pairs for you, like female-male or country-capital. And you can observe that these word-pair will look parallel with each other in a 2D tSNE panel. And you can find some other words and explore their relationship.\n"
   ]
  },
  {
   "cell_type": "code",
   "execution_count": null,
   "metadata": {
    "id": "aVZwhreIVlk0"
   },
   "outputs": [],
   "source": [
    "# word pairs provided\n",
    "female_male = [\"men\", \"women\", \"king\", \"queen\"]\n",
    "country_capital = [\"spain\", \"madrid\", \"italy\", \"rome\", \"japan\", \"tokyo\"]\n",
    "#you may try some other words as well\n",
    "\n",
    "###################################################\n",
    "# TODO: Visualize word vectors using TSNE.        #\n",
    "#                                                 #\n",
    "###################################################\n",
    "\n",
    "\n",
    "###################################################\n",
    "# END TODO                                        #\n",
    "###################################################"
   ]
  },
  {
   "cell_type": "markdown",
   "metadata": {},
   "source": [
    "<font color=\"red\"><strong>Note:</strong></font> Install **sklearn** if you haven't already. \n",
    "\n",
    "```\n",
    "> pip install sklearn\n",
    "```"
   ]
  },
  {
   "cell_type": "code",
   "execution_count": null,
   "metadata": {
    "id": "htUwuPmxWT9Q"
   },
   "outputs": [],
   "source": [
    "##Solution\n",
    "\n",
    "from sklearn.manifold import TSNE\n",
    "embeddings = model.layers[0].get_weights()[0]\n",
    "emb_tsne = TSNE(n_components=2).fit_transform(embeddings)"
   ]
  },
  {
   "cell_type": "code",
   "execution_count": null,
   "metadata": {
    "colab": {
     "base_uri": "https://localhost:8080/",
     "height": 267
    },
    "id": "rzrHjQbnWL6S",
    "outputId": "e2a57dd1-88f1-4a9e-926d-4a031e6f17ac"
   },
   "outputs": [],
   "source": [
    "##Solution\n",
    "\n",
    "vocab_list = list(vocabulary)\n",
    "sample_words = female_male #[\"master\", \"teacher\", \"student\", \"graduate\", \"learning\", \"teach\", \"college\", \"campus\"]\n",
    "indices =[]\n",
    "for word in sample_words:\n",
    "  indices.append(vocab_list.index(word))\n",
    "\n",
    "points = emb_tsne[indices]\n",
    "plt.scatter(points[:, 0], points[:, 1], 20)\n",
    "\n",
    "for text, pts in zip(sample_words, points):\n",
    "    # plt.annotate(text, (X_tsne[idx,0],X_tsne[idx,1]), fontsize=20)\n",
    "    plt.annotate(text, (int(pts[0]), int(pts[1])))\n",
    "    "
   ]
  },
  {
   "cell_type": "code",
   "execution_count": null,
   "metadata": {},
   "outputs": [],
   "source": []
  }
 ],
 "metadata": {
  "accelerator": "GPU",
  "colab": {
   "name": "Assignment_3_task_2_final.ipynb",
   "provenance": []
  },
  "kernelspec": {
   "display_name": "Python 3 (ipykernel)",
   "language": "python",
   "name": "python3"
  },
  "language_info": {
   "codemirror_mode": {
    "name": "ipython",
    "version": 3
   },
   "file_extension": ".py",
   "mimetype": "text/x-python",
   "name": "python",
   "nbconvert_exporter": "python",
   "pygments_lexer": "ipython3",
   "version": "3.9.7"
  },
  "vscode": {
   "interpreter": {
    "hash": "36142657f443a869bd2c1b509e6f1df9b014ad48aa206cdd00d27f8f22cb37ba"
   }
  }
 },
 "nbformat": 4,
 "nbformat_minor": 4
}
