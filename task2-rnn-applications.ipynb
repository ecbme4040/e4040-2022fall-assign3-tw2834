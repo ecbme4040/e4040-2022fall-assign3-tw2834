{
 "cells": [
  {
   "cell_type": "markdown",
   "metadata": {},
   "source": [
    "## Columbia University\n",
    "### ECBM E4040 Neural Networks and Deep Learning. Fall 2022."
   ]
  },
  {
   "cell_type": "markdown",
   "metadata": {
    "id": "JJCMCx6ISZZw"
   },
   "source": [
    "## **Task 2: RNN application -- Tweet Sentiment Analysis** (50%)"
   ]
  },
  {
   "cell_type": "markdown",
   "metadata": {
    "id": "u8wjQhNtSffW"
   },
   "source": [
    "In this task, you are going to classify the sentiment in tweets into positive and negative using an LSTM model. The code to load the data and see its characteristics has been provided to you. \n",
    "\n",
    "In the first task, you will encode the data using one hot encoding and train an LSTM network to classify the sentiment. In the second task, you will replace the one hot encoding with an embedding layer and train another LSTM model. You will then extract the trained embeddings and visualize the word embeddings in 2 dimensions by using TSNE for dimensionality reduction. "
   ]
  },
  {
   "cell_type": "code",
   "execution_count": 1,
   "metadata": {
    "id": "UZ_G4XdfP7GK"
   },
   "outputs": [],
   "source": [
    "# Import modules\n",
    "from __future__ import print_function\n",
    "import tensorflow as tf\n",
    "import numpy as np\n",
    "import json\n",
    "import time\n",
    "import matplotlib.pyplot as plt\n",
    "import pickle\n",
    "\n",
    "%matplotlib inline\n",
    "\n",
    "%load_ext autoreload\n",
    "%autoreload 2"
   ]
  },
  {
   "cell_type": "markdown",
   "metadata": {
    "id": "6MjTYqMoN8fh"
   },
   "source": [
    "## Load Data\n"
   ]
  },
  {
   "cell_type": "code",
   "execution_count": 2,
   "metadata": {
    "colab": {
     "base_uri": "https://localhost:8080/"
    },
    "id": "F55EwI6RQl1A",
    "outputId": "1e087591-3dad-4471-97df-d9af9214dddb"
   },
   "outputs": [
    {
     "name": "stdout",
     "output_type": "stream",
     "text": [
      "size of original train set: 60000\n",
      "size of original test set: 20000\n",
      "****************************************************************************************************\n",
      "size of train set: 60000, #positive: 30055, #negative: 29945\n",
      "size of test set: 1000, #positive: 510, #negative: 490\n",
      "['it', 'will', 'help', 'relieve', 'your', 'stress', 'padtoken', 'padtoken', 'padtoken', 'padtoken', 'padtoken', 'padtoken', 'padtoken', 'padtoken', 'padtoken', 'padtoken', 'padtoken', 'padtoken', 'padtoken', 'padtoken']\n",
      "sentiment: positive\n"
     ]
    }
   ],
   "source": [
    "with open(\"./tweets_data/vocabulary.pkl\", \"rb\") as f:\n",
    "    vocabulary = pickle.load(f)\n",
    "\n",
    "# load our data and separate it into tweets and labels\n",
    "train_data = json.load(open('tweets_data/trainTweets_preprocessed.json', 'r'))\n",
    "train_data = list(map(lambda row:(np.array(row[0],dtype=np.int32),str(row[1])),train_data))\n",
    "train_tweets = np.array([t[0] for t in train_data])\n",
    "train_labels = np.array([int(t[1]) for t in train_data])\n",
    "\n",
    "test_data = json.load(open('tweets_data/testTweets_preprocessed.json', 'r'))\n",
    "test_data = list(map(lambda row:(np.array(row[0],dtype=np.int32),str(row[1])),test_data))\n",
    "test_tweets = np.array([t[0] for t in test_data])\n",
    "test_labels = np.array([int(t[1]) for t in test_data])\n",
    "\n",
    "print(\"size of original train set: {}\".format(len(train_tweets)))\n",
    "print(\"size of original test set: {}\".format(len(test_tweets)))\n",
    "\n",
    "# only select first 1000 test sample for test\n",
    "test_tweets = test_tweets[:1000]\n",
    "test_labels = test_labels[:1000]\n",
    "\n",
    "print(\"*\"*100)\n",
    "print(\"size of train set: {}, #positive: {}, #negative: {}\".format(len(train_tweets), np.sum(train_labels), len(train_tweets)-np.sum(train_labels)))\n",
    "print(\"size of test set: {}, #positive: {}, #negative: {}\".format(len(test_tweets), np.sum(test_labels), len(test_tweets)-np.sum(test_labels)))\n",
    "\n",
    "# show text of the idx-th train tweet\n",
    "# The 'padtoken' is used to ensure each tweet has the same length\n",
    "idx = 100\n",
    "train_text = [vocabulary[x] for x in train_tweets[idx]]\n",
    "print(train_text)\n",
    "sentiment_label = [\"negative\", \"positive\"]\n",
    "print(\"sentiment: {}\".format(sentiment_label[train_labels[idx]]))"
   ]
  },
  {
   "cell_type": "code",
   "execution_count": 5,
   "metadata": {},
   "outputs": [
    {
     "data": {
      "text/plain": [
       "60000"
      ]
     },
     "execution_count": 5,
     "metadata": {},
     "output_type": "execute_result"
    }
   ],
   "source": [
    "len(train_tweets)"
   ]
  },
  {
   "cell_type": "markdown",
   "metadata": {
    "id": "dmjy9sPDOCnY"
   },
   "source": [
    "## Part 1 LSTM Encoder (15%)\n",
    "\n",
    "<font color=\"red\"><strong>TODO:</strong></font> Create a single-layer LSTM network to classify tweets.\n",
    "- Use one hot encoding to represent each word in the tweet.\n",
    "- Set LSTM units to 128.\n",
    "- Use Adam optimizer and set batch size to 32.\n",
    "\n",
    "With these settings, what accuracy could you get? You can try to change some stuff in the network to see if you could get a better accuracy. \n",
    "\n",
    "<font color=\"red\"><strong>Hint:</strong></font> tf.one_hot and Keras functional API may be useful.\n",
    "<br>https://www.tensorflow.org/api_docs/python/tf/keras/layers/LSTM"
   ]
  },
  {
   "cell_type": "code",
   "execution_count": 9,
   "metadata": {
    "scrolled": false
   },
   "outputs": [
    {
     "name": "stdout",
     "output_type": "stream",
     "text": [
      "Model: \"model_2\"\n",
      "_________________________________________________________________\n",
      "Layer (type)                 Output Shape              Param #   \n",
      "=================================================================\n",
      "input_3 (InputLayer)         [(None, 20)]              0         \n",
      "_________________________________________________________________\n",
      "lambda_2 (Lambda)            (None, 20, 7597)          0         \n",
      "_________________________________________________________________\n",
      "tf.cast_2 (TFOpLambda)       (None, 20, 7597)          0         \n",
      "_________________________________________________________________\n",
      "lstm_2 (LSTM)                (None, 128)               3955712   \n",
      "_________________________________________________________________\n",
      "dense_3 (Dense)              (None, 1)                 129       \n",
      "=================================================================\n",
      "Total params: 3,955,841\n",
      "Trainable params: 3,955,841\n",
      "Non-trainable params: 0\n",
      "_________________________________________________________________\n",
      "Epoch 1/15\n",
      "1875/1875 [==============================] - 16s 8ms/step - loss: 0.5850 - accuracy: 0.6798 - val_loss: 0.5073 - val_accuracy: 0.7610\n",
      "Epoch 2/15\n",
      "1875/1875 [==============================] - 15s 8ms/step - loss: 0.4788 - accuracy: 0.7732 - val_loss: 0.4997 - val_accuracy: 0.7600\n",
      "Epoch 3/15\n",
      "1875/1875 [==============================] - 15s 8ms/step - loss: 0.4427 - accuracy: 0.7937 - val_loss: 0.4958 - val_accuracy: 0.7650\n",
      "Epoch 4/15\n",
      "1875/1875 [==============================] - 14s 8ms/step - loss: 0.4039 - accuracy: 0.8156 - val_loss: 0.5097 - val_accuracy: 0.7690\n",
      "Epoch 5/15\n",
      "1875/1875 [==============================] - 14s 8ms/step - loss: 0.3597 - accuracy: 0.8387 - val_loss: 0.5268 - val_accuracy: 0.7580\n",
      "Epoch 6/15\n",
      "1875/1875 [==============================] - 15s 8ms/step - loss: 0.3346 - accuracy: 0.8486 - val_loss: 0.5794 - val_accuracy: 0.7640\n",
      "Epoch 7/15\n",
      "1875/1875 [==============================] - 15s 8ms/step - loss: 0.3024 - accuracy: 0.8634 - val_loss: 0.5615 - val_accuracy: 0.7460\n",
      "Epoch 8/15\n",
      "1875/1875 [==============================] - 14s 8ms/step - loss: 0.2692 - accuracy: 0.8806 - val_loss: 0.6278 - val_accuracy: 0.7430\n",
      "Epoch 9/15\n",
      "1875/1875 [==============================] - 14s 8ms/step - loss: 0.2537 - accuracy: 0.8878 - val_loss: 0.6524 - val_accuracy: 0.7460\n",
      "Epoch 10/15\n",
      "1875/1875 [==============================] - 15s 8ms/step - loss: 0.2335 - accuracy: 0.8960 - val_loss: 0.7488 - val_accuracy: 0.7470\n",
      "Epoch 11/15\n",
      "1875/1875 [==============================] - 15s 8ms/step - loss: 0.2130 - accuracy: 0.9063 - val_loss: 0.7312 - val_accuracy: 0.7490\n",
      "Epoch 12/15\n",
      "1875/1875 [==============================] - 15s 8ms/step - loss: 0.2033 - accuracy: 0.9131 - val_loss: 0.7964 - val_accuracy: 0.7300\n",
      "Epoch 13/15\n",
      "1875/1875 [==============================] - 15s 8ms/step - loss: 0.1885 - accuracy: 0.9186 - val_loss: 0.7548 - val_accuracy: 0.7300\n",
      "Epoch 14/15\n",
      "1875/1875 [==============================] - 15s 8ms/step - loss: 0.1832 - accuracy: 0.9227 - val_loss: 0.8735 - val_accuracy: 0.7320\n",
      "Epoch 15/15\n",
      "1875/1875 [==============================] - 15s 8ms/step - loss: 0.1746 - accuracy: 0.9239 - val_loss: 0.8359 - val_accuracy: 0.7430\n"
     ]
    }
   ],
   "source": [
    "###################################################\n",
    "# TODO: Create a single-layer LSTM network.       #\n",
    "#                                                 #\n",
    "###################################################\n",
    "from utils.rnn_utils import one_hot\n",
    "batch_size = 32\n",
    "\n",
    "vocab_len = len(vocabulary)\n",
    "embed_dim = 128\n",
    "lstm_out = 100\n",
    "\n",
    "\n",
    "inputs = tf.keras.Input((20,))\n",
    "x = tf.keras.layers.Lambda(lambda i: one_hot(i, vocab_len))(inputs)\n",
    "x = tf.keras.layers.LSTM(embed_dim, dropout=0.1, recurrent_dropout=0.1)(tf.cast(x, tf.float32))\n",
    "# x = tf.keras.layers.Dense(64, activation='relu')(x)\n",
    "outputs = tf.keras.layers.Dense(1, activation='sigmoid')(x)\n",
    "\n",
    "model = tf.keras.Model(inputs, outputs)\n",
    "model.summary()\n",
    "model.compile(loss=tf.keras.losses.BinaryCrossentropy(),\n",
    "              optimizer=tf.keras.optimizers.Adam(learning_rate=1e-3),\n",
    "              metrics=['accuracy'])\n",
    "history_LSTM = model.fit(train_tweets, train_labels, batch_size=batch_size, epochs=15, validation_data=(test_tweets, test_labels),)"
   ]
  },
  {
   "cell_type": "code",
   "execution_count": 10,
   "metadata": {},
   "outputs": [
    {
     "data": {
      "image/png": "[encoded data removed]",
      "text/plain": [
       "<Figure size 432x288 with 1 Axes>"
      ]
     },
     "metadata": {
      "needs_background": "light"
     },
     "output_type": "display_data"
    }
   ],
   "source": [
    "plt.plot(history_LSTM.history['loss'], label='LSTM Loss')\n",
    "plt.plot(history_LSTM.history['val_loss'], label='LSTM Val Loss')\n",
    "plt.title('LSTM loss')\n",
    "plt.ylabel('loss')\n",
    "plt.xlabel('No. epoch')\n",
    "plt.legend(loc=\"upper left\")\n",
    "plt.show()"
   ]
  },
  {
   "cell_type": "code",
   "execution_count": 11,
   "metadata": {},
   "outputs": [
    {
     "data": {
      "image/png": "[encoded data removed]",
      "text/plain": [
       "<Figure size 432x288 with 1 Axes>"
      ]
     },
     "metadata": {
      "needs_background": "light"
     },
     "output_type": "display_data"
    }
   ],
   "source": [
    "plt.plot(history_LSTM.history['accuracy'], label='LSTM acc')\n",
    "plt.plot(history_LSTM.history['val_accuracy'], label='LSTM Val acc')\n",
    "plt.title('LSTM loss')\n",
    "plt.ylabel('loss')\n",
    "plt.xlabel('No. epoch')\n",
    "plt.legend(loc=\"upper left\")\n",
    "plt.show()"
   ]
  },
  {
   "cell_type": "markdown",
   "metadata": {
    "id": "IBiLRGc7RL-g"
   },
   "source": [
    "## Part 2: Embedding Lookup layer (20%)\n",
    "\n",
    "### Define an embedding layer\n",
    "\n",
    "It's not hard to imagine that in the previous practices, the input we fed in are very sparse because each word was represented as a one-hot vector. This makes it difficult for the network to understand what story the input data is telling. A useful technique is *Word Embedding*.\n",
    "\n",
    "*Word Embedding*: instead of using a one-hot vector to represent each word, we can add a word embedding matrix in which each word is represented as a low-dimensional vector. Note that this representation is not sparse any more, because we're working in a continuous vector space now. Words that share similar/related semantic meaning should be 'close to each other' in this vector space (we could define a distance measure to estimate the closeness).\n",
    "\n",
    "<font color=\"red\"><strong>TODO:</strong></font> Define a similar model as above with some improvements.\n",
    "- Use an Embedding layer instead of one hot embedding.\n",
    "- Write a custom training loop to train the model instead of using model.fit().\n",
    "- Write a custom loop gives you complete control over how the model is trained.\n",
    "- Report loss and accuracy for training and validation after each epoch.\n",
    "- Display the loss value after every 500 steps. \n",
    "\n",
    "Do you see any difference in accuracy? What about training time? What inference can you draw?\n",
    "\n",
    "**Hints**: Refer to the link below.\n",
    "<br>https://www.tensorflow.org/guide/keras/writing_a_training_loop_from_scratch\n"
   ]
  },
  {
   "cell_type": "code",
   "execution_count": 12,
   "metadata": {
    "id": "x2mkQlVMVUny"
   },
   "outputs": [
    {
     "name": "stdout",
     "output_type": "stream",
     "text": [
      "Model: \"model_3\"\n",
      "_________________________________________________________________\n",
      "Layer (type)                 Output Shape              Param #   \n",
      "=================================================================\n",
      "input_4 (InputLayer)         [(None, 20)]              0         \n",
      "_________________________________________________________________\n",
      "embedding (Embedding)        (None, 20, 128)           972416    \n",
      "_________________________________________________________________\n",
      "spatial_dropout1d (SpatialDr (None, 20, 128)           0         \n",
      "_________________________________________________________________\n",
      "lstm_3 (LSTM)                (None, 128)               131584    \n",
      "_________________________________________________________________\n",
      "dense_4 (Dense)              (None, 1)                 129       \n",
      "=================================================================\n",
      "Total params: 1,104,129\n",
      "Trainable params: 1,104,129\n",
      "Non-trainable params: 0\n",
      "_________________________________________________________________\n",
      "Epoch 1/15\n",
      "1875/1875 [==============================] - 21s 11ms/step - loss: 0.5750 - accuracy: 0.6938 - val_loss: 0.5036 - val_accuracy: 0.7550\n",
      "Epoch 2/15\n",
      "1875/1875 [==============================] - 19s 10ms/step - loss: 0.4538 - accuracy: 0.7886 - val_loss: 0.5048 - val_accuracy: 0.7570\n",
      "Epoch 3/15\n",
      "1875/1875 [==============================] - 20s 10ms/step - loss: 0.4235 - accuracy: 0.8076 - val_loss: 0.4878 - val_accuracy: 0.7810\n",
      "Epoch 4/15\n",
      "1875/1875 [==============================] - 20s 11ms/step - loss: 0.3893 - accuracy: 0.8224 - val_loss: 0.5037 - val_accuracy: 0.7850\n",
      "Epoch 5/15\n",
      "1875/1875 [==============================] - 20s 10ms/step - loss: 0.3660 - accuracy: 0.8336 - val_loss: 0.5446 - val_accuracy: 0.7710\n",
      "Epoch 6/15\n",
      "1875/1875 [==============================] - 20s 10ms/step - loss: 0.3422 - accuracy: 0.8470 - val_loss: 0.5631 - val_accuracy: 0.7700\n",
      "Epoch 7/15\n",
      "1875/1875 [==============================] - 20s 11ms/step - loss: 0.3155 - accuracy: 0.8590 - val_loss: 0.5949 - val_accuracy: 0.7630\n",
      "Epoch 8/15\n",
      "1875/1875 [==============================] - 20s 11ms/step - loss: 0.2984 - accuracy: 0.8667 - val_loss: 0.6609 - val_accuracy: 0.7640\n",
      "Epoch 9/15\n",
      "1875/1875 [==============================] - 20s 11ms/step - loss: 0.2760 - accuracy: 0.8767 - val_loss: 0.7013 - val_accuracy: 0.7540\n",
      "Epoch 10/15\n",
      "1875/1875 [==============================] - 20s 11ms/step - loss: 0.2578 - accuracy: 0.8858 - val_loss: 0.7403 - val_accuracy: 0.7510\n",
      "Epoch 11/15\n",
      "1875/1875 [==============================] - 20s 11ms/step - loss: 0.2432 - accuracy: 0.8923 - val_loss: 0.7941 - val_accuracy: 0.7340\n",
      "Epoch 12/15\n",
      "1875/1875 [==============================] - 20s 10ms/step - loss: 0.2255 - accuracy: 0.9002 - val_loss: 0.8504 - val_accuracy: 0.7180\n",
      "Epoch 13/15\n",
      "1875/1875 [==============================] - 20s 11ms/step - loss: 0.2163 - accuracy: 0.9023 - val_loss: 0.8304 - val_accuracy: 0.7510\n",
      "Epoch 14/15\n",
      "1875/1875 [==============================] - 20s 10ms/step - loss: 0.2015 - accuracy: 0.9123 - val_loss: 0.9106 - val_accuracy: 0.7290\n",
      "Epoch 15/15\n",
      "1875/1875 [==============================] - 20s 11ms/step - loss: 0.1918 - accuracy: 0.9156 - val_loss: 0.9012 - val_accuracy: 0.7340\n"
     ]
    }
   ],
   "source": [
    "###################################################\n",
    "# TODO: Create a single-layer LSTM network        #\n",
    "#       using Embedding layer                     #\n",
    "###################################################\n",
    "batch_size = 32\n",
    "vocab_len = len(vocabulary)\n",
    "embed_dim = 128\n",
    "lstm_out = 100\n",
    "\n",
    "inputs = tf.keras.Input((20,))\n",
    "embed = tf.keras.layers.Embedding(vocab_len, embed_dim, input_length=train_tweets.shape[1])(inputs)\n",
    "x = tf.keras.layers.SpatialDropout1D(0.4)(embed)\n",
    "x = tf.keras.layers.LSTM(128)(x)\n",
    "# x = tf.keras.layers.Dense(64,activation='relu')(x)\n",
    "outputs = tf.keras.layers.Dense(1, activation='sigmoid')(x)\n",
    "\n",
    "model = tf.keras.Model(inputs, outputs)\n",
    "model.summary()\n",
    "model.compile(loss=tf.keras.losses.BinaryCrossentropy(),\n",
    "              optimizer=tf.keras.optimizers.Adam(learning_rate=1e-3),\n",
    "              metrics=['accuracy'])\n",
    "history_Embedded = model.fit(train_tweets, train_labels, batch_size=batch_size, epochs=15, validation_data=(test_tweets, test_labels),)\n",
    "\n",
    "###################################################\n",
    "# END TODO                                        #\n",
    "###################################################"
   ]
  },
  {
   "cell_type": "code",
   "execution_count": 13,
   "metadata": {},
   "outputs": [
    {
     "data": {
      "image/png": "[encoded data removed]",
      "text/plain": [
       "<Figure size 432x288 with 1 Axes>"
      ]
     },
     "metadata": {
      "needs_background": "light"
     },
     "output_type": "display_data"
    }
   ],
   "source": [
    "plt.plot(history_Embedded.history['loss'], label='Embedded Loss')\n",
    "plt.plot(history_Embedded.history['val_loss'], label='Embedded Val Loss')\n",
    "plt.title('Embedded loss')\n",
    "plt.ylabel('loss')\n",
    "plt.xlabel('No. epoch')\n",
    "plt.legend(loc=\"upper left\")\n",
    "plt.show()"
   ]
  },
  {
   "cell_type": "markdown",
   "metadata": {
    "id": "o9WYOKJtUwe5"
   },
   "source": [
    "## Part 3: Visualize word vectors via tSNE (15%)\n",
    "\n",
    "<font color=\"red\"><strong>TODO:</strong></font>\n",
    "- First, you need to retrieve embedding matrix from the network.\n",
    "- Then use tSNE to reduce each low-dimensional word vector into a 2D vector.\n",
    "- And then, you should visualize some interesting word pairs in 2D panel. (You may find scatter function in matplotlib.pyplot useful.)\n",
    "\n",
    "<font color=\"red\"><strong>Hint:</strong></font> You can use TSNE tool provided in scikit-learn. And if you encounter dead kernel problem caused by \"Intel MKL FATAL ERROR: Cannot load libmkl_avx.so or libmkl_def.so\", please reinstall scikit-learn without MKL, ie., conda install nomkl numpy scipy scikit-learn numexpr.\n",
    "\n",
    "Here we provide some word pairs for you, like female-male or country-capital. And you can observe that these word-pair will look parallel with each other in a 2D tSNE panel. And you can find some other words and explore their relationship.\n"
   ]
  },
  {
   "cell_type": "code",
   "execution_count": null,
   "metadata": {
    "id": "aVZwhreIVlk0"
   },
   "outputs": [],
   "source": [
    "# word pairs provided\n",
    "female_male = [\"men\", \"women\", \"king\", \"queen\"]\n",
    "country_capital = [\"spain\", \"madrid\", \"italy\", \"rome\", \"japan\", \"tokyo\"]\n",
    "#you may try some other words as well\n",
    "\n",
    "###################################################\n",
    "# TODO: Visualize word vectors using TSNE.        #\n",
    "#                                                 #\n",
    "###################################################\n",
    "\n",
    "\n",
    "###################################################\n",
    "# END TODO                                        #\n",
    "###################################################"
   ]
  },
  {
   "cell_type": "markdown",
   "metadata": {},
   "source": [
    "<font color=\"red\"><strong>Note:</strong></font> Install **sklearn** if you haven't already. \n",
    "\n",
    "```\n",
    "> pip install sklearn\n",
    "```"
   ]
  },
  {
   "cell_type": "code",
   "execution_count": 1,
   "metadata": {
    "id": "htUwuPmxWT9Q"
   },
   "outputs": [
    {
     "ename": "NameError",
     "evalue": "name 'model' is not defined",
     "output_type": "error",
     "traceback": [
      "\u001b[0;31m---------------------------------------------------------------------------\u001b[0m",
      "\u001b[0;31mNameError\u001b[0m                                 Traceback (most recent call last)",
      "\u001b[0;32m/var/folders/1p/5r2k3w5s7_scq10b99pk3kn00000gn/T/ipykernel_1303/1724970668.py\u001b[0m in \u001b[0;36m<module>\u001b[0;34m\u001b[0m\n\u001b[1;32m      2\u001b[0m \u001b[0;34m\u001b[0m\u001b[0m\n\u001b[1;32m      3\u001b[0m \u001b[0;32mfrom\u001b[0m \u001b[0msklearn\u001b[0m\u001b[0;34m.\u001b[0m\u001b[0mmanifold\u001b[0m \u001b[0;32mimport\u001b[0m \u001b[0mTSNE\u001b[0m\u001b[0;34m\u001b[0m\u001b[0;34m\u001b[0m\u001b[0m\n\u001b[0;32m----> 4\u001b[0;31m \u001b[0membeddings\u001b[0m \u001b[0;34m=\u001b[0m \u001b[0mmodel\u001b[0m\u001b[0;34m.\u001b[0m\u001b[0mlayers\u001b[0m\u001b[0;34m[\u001b[0m\u001b[0;36m0\u001b[0m\u001b[0;34m]\u001b[0m\u001b[0;34m.\u001b[0m\u001b[0mget_weights\u001b[0m\u001b[0;34m(\u001b[0m\u001b[0;34m)\u001b[0m\u001b[0;34m[\u001b[0m\u001b[0;36m0\u001b[0m\u001b[0;34m]\u001b[0m\u001b[0;34m\u001b[0m\u001b[0;34m\u001b[0m\u001b[0m\n\u001b[0m\u001b[1;32m      5\u001b[0m \u001b[0memb_tsne\u001b[0m \u001b[0;34m=\u001b[0m \u001b[0mTSNE\u001b[0m\u001b[0;34m(\u001b[0m\u001b[0mn_components\u001b[0m\u001b[0;34m=\u001b[0m\u001b[0;36m2\u001b[0m\u001b[0;34m)\u001b[0m\u001b[0;34m.\u001b[0m\u001b[0mfit_transform\u001b[0m\u001b[0;34m(\u001b[0m\u001b[0membeddings\u001b[0m\u001b[0;34m)\u001b[0m\u001b[0;34m\u001b[0m\u001b[0;34m\u001b[0m\u001b[0m\n",
      "\u001b[0;31mNameError\u001b[0m: name 'model' is not defined"
     ]
    }
   ],
   "source": [
    "##Solution\n",
    "\n",
    "from sklearn.manifold import TSNE\n",
    "embeddings = model.layers[0].get_weights()[0]\n",
    "emb_tsne = TSNE(n_components=2).fit_transform(embeddings)"
   ]
  },
  {
   "cell_type": "code",
   "execution_count": null,
   "metadata": {
    "colab": {
     "base_uri": "https://localhost:8080/",
     "height": 267
    },
    "id": "rzrHjQbnWL6S",
    "outputId": "e2a57dd1-88f1-4a9e-926d-4a031e6f17ac"
   },
   "outputs": [],
   "source": [
    "##Solution\n",
    "\n",
    "vocab_list = list(vocabulary)\n",
    "sample_words = female_male #[\"master\", \"teacher\", \"student\", \"graduate\", \"learning\", \"teach\", \"college\", \"campus\"]\n",
    "indices =[]\n",
    "for word in sample_words:\n",
    "  indices.append(vocab_list.index(word))\n",
    "\n",
    "points = emb_tsne[indices]\n",
    "plt.scatter(points[:, 0], points[:, 1], 20)\n",
    "\n",
    "for text, pts in zip(sample_words, points):\n",
    "    # plt.annotate(text, (X_tsne[idx,0],X_tsne[idx,1]), fontsize=20)\n",
    "    plt.annotate(text, (int(pts[0]), int(pts[1])))\n",
    "    "
   ]
  },
  {
   "cell_type": "code",
   "execution_count": null,
   "metadata": {},
   "outputs": [],
   "source": []
  }
 ],
 "metadata": {
  "accelerator": "GPU",
  "colab": {
   "name": "Assignment_3_task_2_final.ipynb",
   "provenance": []
  },
  "kernelspec": {
   "display_name": "Python 3",
   "language": "python",
   "name": "python3"
  },
  "language_info": {
   "codemirror_mode": {
    "name": "ipython",
    "version": 3
   },
   "file_extension": ".py",
   "mimetype": "text/x-python",
   "name": "python",
   "nbconvert_exporter": "python",
   "pygments_lexer": "ipython3",
   "version": "3.6.9"
  },
  "vscode": {
   "interpreter": {
    "hash": "36142657f443a869bd2c1b509e6f1df9b014ad48aa206cdd00d27f8f22cb37ba"
   }
  }
 },
 "nbformat": 4,
 "nbformat_minor": 4
}
