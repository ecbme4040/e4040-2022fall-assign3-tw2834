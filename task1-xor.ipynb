{
 "cells": [
  {
   "cell_type": "markdown",
   "metadata": {},
   "source": [
    "## Columbia University\n",
    "### ECBM E4040 Neural Networks and Deep Learning. Fall 2022."
   ]
  },
  {
   "cell_type": "markdown",
   "metadata": {},
   "source": [
    "## **Task 1: XOR** (50%)"
   ]
  },
  {
   "cell_type": "code",
   "execution_count": 18,
   "metadata": {},
   "outputs": [
    {
     "name": "stdout",
     "output_type": "stream",
     "text": [
      "Using CPU\n",
      "The autoreload extension is already loaded. To reload it, use:\n",
      "  %reload_ext autoreload\n",
      "2.8.0\n"
     ]
    }
   ],
   "source": [
    "# Import modules\n",
    "from __future__ import print_function\n",
    "import tensorflow as tf\n",
    "\n",
    "physical_devices = tf.config.experimental.list_physical_devices('GPU')\n",
    "if len(physical_devices) > 0:\n",
    "    print('Using GPU(0):', physical_devices[0])\n",
    "    tf.config.experimental.set_memory_growth(physical_devices[0], enable=True)\n",
    "else:\n",
    "    print('Using CPU')\n",
    "\n",
    "import numpy as np\n",
    "from numpy.random import shuffle\n",
    "import time\n",
    "import matplotlib.pyplot as plt\n",
    "\n",
    "# Plot configurations\n",
    "%matplotlib inline\n",
    "\n",
    "# Notebook auto reloads code. (Ref: http://stackoverflow.com/questions/1907993/autoreload-of-modules-in-ipython)\n",
    "%load_ext autoreload\n",
    "%autoreload 2\n",
    "print(tf.__version__)"
   ]
  },
  {
   "cell_type": "markdown",
   "metadata": {},
   "source": [
    "##  Part 1: Backpropagation through time (10%)"
   ]
  },
  {
   "cell_type": "markdown",
   "metadata": {},
   "source": [
    "**Question:** Consider some input data $x_1, x_2$ and groud truth $p_1, p_2$ (the indices denote different time steps), a simple RNN network is shown in the following figure. \n",
    "\n",
    "![bptt](./img/bptt2.jpg)\n",
    "\n",
    "Here, $w_x, w_h, b_1, w, b_2 \\in R$ are scalar parameters. Loss function is **mean squared error (MSE)**. "
   ]
  },
  {
   "cell_type": "markdown",
   "metadata": {},
   "source": [
    "<font color=\"red\"><strong>TODO:</strong></font>\n",
    "\n",
    "Assume the input $(x_1, x_2) = (1, -1)$, ground truth $(p_1, p_2) = (0, 1)$, $h_0 = 0$, and $(w_x, w_h, b_1, w, b_2) = (1, -2, 3, 2, 1)$, derive both the forward and backward pass (keep $4$ digits after the decimal). "
   ]
  },
  {
   "cell_type": "markdown",
   "metadata": {},
   "source": [
    "<font color=\"red\"><strong>Hint:</strong></font> The sigmoid function and its derivative\n",
    "\n",
    "$$\n",
    "\\sigma (x) = \\frac{1}{1 + e^{-x}}, \\quad\n",
    "\\nabla_x \\sigma (x) = \\frac{e^{-x}}{1 + e^{-x}} = \\sigma (x) (1 - \\sigma (x))\n",
    "$$\n",
    "\n",
    "- Derive the equations and intermediate variables first before plugging in values, don't just fill in the answers\n",
    "- Use latex style equations\n",
    "- You derivations don't need to be wrapped with special color :)"
   ]
  },
  {
   "cell_type": "markdown",
   "metadata": {},
   "source": [
    "<font color=\"red\"><strong>Asnwer:</strong></font>\n",
    "\n",
    "$$\\text{Your Derivations Here.}$$\n",
    "\n",
    "- The gradients\n",
    "\n",
    "$$\n",
    "\\begin{cases}\n",
    "\\nabla_{w_x} L = \\color{cyan}{[nu.]} \\\\\n",
    "\\nabla_{w_h} L = \\color{cyan}{[nu.]} \\\\\n",
    "\\nabla_{b_1} L = \\color{cyan}{[nu.]} \\\\\n",
    "\\nabla_{w} L = \\color{cyan}{[nu.]} \\\\\n",
    "\\nabla_{b_2} L = \\color{cyan}{[nu.]} \\\\\n",
    "\\end{cases}\n",
    "$$"
   ]
  },
  {
   "cell_type": "code",
   "execution_count": 19,
   "metadata": {},
   "outputs": [
    {
     "name": "stdout",
     "output_type": "stream",
     "text": [
      "Verified by tensorflow (TODO compare values with your hand-written calculations):\n",
      "dwx = 0.0079, dwh = -0.0060, db1 = -0.0043, dw = 0.0374, db2 = 0.0322\n"
     ]
    }
   ],
   "source": [
    "# use tensorflow to verify the answer.\n",
    "with tf.GradientTape() as G:\n",
    "    wx = tf.Variable(1.0, dtype=tf.float64)\n",
    "    wh = tf.Variable(-2.0, dtype=tf.float64)\n",
    "    b1 = tf.Variable(3.0, dtype=tf.float64)\n",
    "    w = tf.Variable(2.0, dtype=tf.float64)\n",
    "    b2 = tf.Variable(1.0, dtype=tf.float64)\n",
    "\n",
    "    h0 = tf.Variable(0.0, dtype=tf.float64)\n",
    "    x = tf.Variable((1.0, -1.0), dtype=tf.float64)\n",
    "    p = tf.Variable((0.0, 1.0), dtype=tf.float64)\n",
    "\n",
    "    y = []\n",
    "    h1 = tf.sigmoid(wx*x[0] + wh*h0 + b1)\n",
    "    y.append(tf.sigmoid(w*h1 + b2))\n",
    "    h2 = tf.sigmoid(wx*x[1] + wh*h1 + b1)\n",
    "    y.append(tf.sigmoid(w*h2 + b2))\n",
    "\n",
    "    loss = 0.5*(tf.square(p[0]-y[0]) + tf.square(p[1]-y[1]))\n",
    "\n",
    "    dw_t, db2_t, dwx_t, dwh_t, db1_t = G.gradient(loss, [w, b2, wx, wh, b1])\n",
    "\n",
    "\n",
    "print(\"Verified by tensorflow (TODO compare values with your hand-written calculations):\")\n",
    "print(\"dwx = {:.4f}, dwh = {:.4f}, db1 = {:.4f}, dw = {:.4f}, db2 = {:.4f}\".format(dwx_t, dwh_t, db1_t, dw_t, db2_t))"
   ]
  },
  {
   "cell_type": "markdown",
   "metadata": {},
   "source": [
    "## Part 2: Use TensorFlow modules to create XOR network (15%)\n",
    "\n",
    "In this part, you need to build and train an XOR network that can learn the XOR function. It is a very simple implementation of RNN and will give you an idea how RNN is built and how to train it."
   ]
  },
  {
   "cell_type": "markdown",
   "metadata": {},
   "source": [
    "### XOR network\n",
    "\n",
    "![xnor_net](./img/xnor.png)\n",
    "\n",
    "XOR network can learn the XOR ($\\oplus$) function. If input \n",
    "\n",
    "$$\n",
    "(x_0, ..., x_7) = (0, 0, 1, 1, 1, 1, 1, 0)\n",
    "$$\n",
    "\n",
    "Then output should be\n",
    "\n",
    "$$\n",
    "(y_0, ..., y_7) = (0, 0, 1, 0, 1, 0, 1, 1)\n",
    "$$\n",
    "\n",
    "That is, \n",
    "\n",
    "$$\n",
    "y_n = x_0 \\oplus x_1 \\oplus ... \\oplus x_{n-1} \\oplus x_{n}\n",
    "$$\n",
    "\n",
    "It is also interesting to realize that the equation effectively equivalates to \n",
    "\n",
    "$$\n",
    "y_i = \\sum_{j = 0}^i x_j \\mod 2\n",
    "$$"
   ]
  },
  {
   "cell_type": "markdown",
   "metadata": {},
   "source": [
    "### Create a data set\n",
    "This function provides a way to generate the data which is needed for the training process. You should utilize it when building your training function for the GRU. Read the source code for more information."
   ]
  },
  {
   "cell_type": "code",
   "execution_count": 20,
   "metadata": {},
   "outputs": [],
   "source": [
    "from utils.dataset import create_xor_dataset"
   ]
  },
  {
   "cell_type": "code",
   "execution_count": 21,
   "metadata": {},
   "outputs": [
    {
     "data": {
      "text/plain": [
       "(array([[[0],\n",
       "         [0],\n",
       "         [0],\n",
       "         [1],\n",
       "         [1],\n",
       "         [0],\n",
       "         [1],\n",
       "         [1]]]),\n",
       " array([[0, 0, 0, 1, 0, 0, 1, 0]]))"
      ]
     },
     "execution_count": 21,
     "metadata": {},
     "output_type": "execute_result"
    }
   ],
   "source": [
    "create_xor_dataset(1)"
   ]
  },
  {
   "cell_type": "markdown",
   "metadata": {},
   "source": [
    "### Build a network using a TensorFlow LSTMCell and GRUCell\n",
    "\n",
    "In this section, you are asked to build a XOR net using a TensorFlow LSTMCell and a GRUCell. In TensorFlow 2, these two cells are supported by Keras. Please check online documents below.\n",
    "\n",
    "Use TensorFlow to build and train your XOR net. The dataset is already provided. You will do the following:\n",
    "- Learn how to use `tf.keras.layers.LSTM` and `tf.keras.layers.GRU` in TensorFlow(Keras). \n",
    "- Choose appropriate parameters to build a model (Sequential Model in Keras is suggested). \n",
    "- Compile your model with appropriate loss function, optimizer, metrics, etc.\n",
    "- Train your model and see the loss history.\n",
    "\n",
    "Tips: \n",
    "1. Make sure that the shape of your data is corrrect after every step.\n",
    "2. Choose your loss function according to your network design.\n",
    "3. Choose 'accuracy' as your metrics when compiling your model.\n",
    "4. Make sure that names of history for the network with LSTMCell and GRUCell (which you used while training) are the same as the ones in the plotting functions.\n",
    "4. Feel free to ask TAs if you get stuck somewhere.\n",
    "\n",
    "Reference: \n",
    "1. [TensorFlow(Keras): Working with RNNs](https://keras.io/guides/working_with_rnns/)\n",
    "2. [TensorFlow: Recurrent Neural Networks (RNN) with Keras](https://www.tensorflow.org/guide/keras/rnn)\n",
    "3. [TensorFlow LSTM Cell](https://www.tensorflow.org/api_docs/python/tf/keras/layers/LSTM)\n",
    "4. [TensorFlow GRU Cell](https://www.tensorflow.org/api_docs/python/tf/keras/layers/GRU)\n",
    "5. [TensorFlow: Sequential Model](https://www.tensorflow.org/guide/keras/sequential_model)\n"
   ]
  },
  {
   "cell_type": "markdown",
   "metadata": {},
   "source": [
    "### Build a network with LSTM"
   ]
  },
  {
   "cell_type": "code",
   "execution_count": 22,
   "metadata": {
    "pycharm": {
     "is_executing": true
    }
   },
   "outputs": [
    {
     "name": "stdout",
     "output_type": "stream",
     "text": [
      "Input data: (1000, 8, 1) int64\n",
      "Labels: (1000, 8) int64\n"
     ]
    }
   ],
   "source": [
    "in_data, out_data = create_xor_dataset(1000) # create a dataset with a batch size of 1000\n",
    "print('Input data:', in_data.shape, in_data.dtype)\n",
    "print('Labels:', out_data.shape, out_data.dtype)"
   ]
  },
  {
   "cell_type": "markdown",
   "metadata": {},
   "source": [
    "#### Interpreting RNN Inputs\n",
    "\n",
    "Typically, the input data of an RNN has form of\n",
    "\n",
    "$$\n",
    "X \\in R^{T \\times N \\times D}\n",
    "$$\n",
    "\n",
    "where $T$ is ***the number of time steps***, $N$ is the batch size and $D$ is the dimension of each input. \n",
    "\n",
    "At each time step $t$, we feed \n",
    "\n",
    "$$\n",
    "X_t \\in R^{N \\times D}\n",
    "$$\n",
    "\n",
    "into the RNN to generate an output (i.e. the hidden state) $h_t \\in R^{N \\times K}$. \n",
    "\n",
    "Some tasks only take interest in the final output $h_T$, while others need the output from all of the time steps as \n",
    "\n",
    "$$\n",
    "H = [h_1, \\dots, h_T] \\in R^{T \\times N \\times K}\n",
    "$$"
   ]
  },
  {
   "cell_type": "markdown",
   "metadata": {},
   "source": [
    "<font color=\"red\"><strong>NOTE:</strong></font>\n",
    "\n",
    "In real-life RNN models, the orders of $T$ and $N$ are actually exchangable by specifying certain model parameters, which is `time_major` in Tensorflow and `batch_first` in Pytorch. \n",
    "\n",
    "Use whatever you like in your implementations, but make sure to have a consistent input shape. "
   ]
  },
  {
   "cell_type": "markdown",
   "metadata": {},
   "source": [
    "<span style=\"color:red\">__TODO:__</span> Answer the question: \n",
    "\n",
    "We talked about two usages of RNN model: \n",
    "\n",
    "- Return only $h_T$\n",
    "- Return all $H = [h_1, \\dots, h_T]$\n",
    "\n",
    "In the context of our XOR function, which one should we use? "
   ]
  },
  {
   "cell_type": "markdown",
   "metadata": {},
   "source": [
    "## Answer\n",
    "In case of XOR function, we will use:\n",
    " - Return all $H = [h_1, \\dots, h_T]$ where each $h_T$ for each input bit."
   ]
  },
  {
   "cell_type": "markdown",
   "metadata": {},
   "source": [
    "<font color=\"red\"><strong>HINT:</strong></font>\n",
    "\n",
    "Upon answering the question above, think about how this is done with Tensorflow. Please reference [`LSTM` documents](https://www.tensorflow.org/api_docs/python/tf/keras/layers/LSTM). "
   ]
  },
  {
   "cell_type": "markdown",
   "metadata": {},
   "source": [
    "#### Hint for creating a model with LSTM\n",
    "\n",
    "```\n",
    "model = tf.keras.Sequential() \n",
    "model.add([LAYER1])\n",
    "model.add([LAYER2])\n",
    "model.add([...])\n",
    "model.add([OUTPUT_LAYER])\n",
    "\n",
    "model.summary() \n",
    "model.compile(loss=[LOSS_FUNCTION], optimizer=[OPTIMIZER], metrics=['accuracy'])\n",
    "\n",
    "history_LSTM = model.fit(in_data, out_data, batch_size=64, epochs=15) \n",
    "```"
   ]
  },
  {
   "cell_type": "markdown",
   "metadata": {},
   "source": [
    "<span style=\"color:red\">__TODO:__</span> Build a LSTM Network"
   ]
  },
  {
   "cell_type": "code",
   "execution_count": 23,
   "metadata": {
    "pycharm": {
     "is_executing": true
    },
    "scrolled": true
   },
   "outputs": [
    {
     "name": "stdout",
     "output_type": "stream",
     "text": [
      "Model: \"sequential_6\"\n",
      "_________________________________________________________________\n",
      " Layer (type)                Output Shape              Param #   \n",
      "=================================================================\n",
      " lstm_4 (LSTM)               (None, 8, 128)            66560     \n",
      "                                                                 \n",
      " dense_12 (Dense)            (None, 8, 64)             8256      \n",
      "                                                                 \n",
      " dense_13 (Dense)            (None, 8, 1)              65        \n",
      "                                                                 \n",
      "=================================================================\n",
      "Total params: 74,881\n",
      "Trainable params: 74,881\n",
      "Non-trainable params: 0\n",
      "_________________________________________________________________\n",
      "Epoch 1/70\n",
      "16/16 [==============================] - 3s 17ms/step - loss: 0.6921 - accuracy: 0.5304\n",
      "Epoch 2/70\n",
      "16/16 [==============================] - 0s 20ms/step - loss: 0.6899 - accuracy: 0.5656\n",
      "Epoch 3/70\n",
      "16/16 [==============================] - 0s 22ms/step - loss: 0.6896 - accuracy: 0.5631\n",
      "Epoch 4/70\n",
      "16/16 [==============================] - 0s 20ms/step - loss: 0.6900 - accuracy: 0.5466\n",
      "Epoch 5/70\n",
      "16/16 [==============================] - 0s 15ms/step - loss: 0.6899 - accuracy: 0.5459\n",
      "Epoch 6/70\n",
      "16/16 [==============================] - 0s 18ms/step - loss: 0.6876 - accuracy: 0.5433\n",
      "Epoch 7/70\n",
      "16/16 [==============================] - 0s 19ms/step - loss: 0.6859 - accuracy: 0.5454\n",
      "Epoch 8/70\n",
      "16/16 [==============================] - 0s 20ms/step - loss: 0.6843 - accuracy: 0.5461\n",
      "Epoch 9/70\n",
      "16/16 [==============================] - 0s 17ms/step - loss: 0.6816 - accuracy: 0.5479\n",
      "Epoch 10/70\n",
      "16/16 [==============================] - 0s 16ms/step - loss: 0.6792 - accuracy: 0.5365\n",
      "Epoch 11/70\n",
      "16/16 [==============================] - 0s 19ms/step - loss: 0.6733 - accuracy: 0.5387\n",
      "Epoch 12/70\n",
      "16/16 [==============================] - 0s 18ms/step - loss: 0.6619 - accuracy: 0.5384\n",
      "Epoch 13/70\n",
      "16/16 [==============================] - 0s 16ms/step - loss: 0.6516 - accuracy: 0.5724\n",
      "Epoch 14/70\n",
      "16/16 [==============================] - 0s 18ms/step - loss: 0.6496 - accuracy: 0.5686\n",
      "Epoch 15/70\n",
      "16/16 [==============================] - 0s 15ms/step - loss: 0.6285 - accuracy: 0.5991\n",
      "Epoch 16/70\n",
      "16/16 [==============================] - 0s 15ms/step - loss: 0.6323 - accuracy: 0.5934\n",
      "Epoch 17/70\n",
      "16/16 [==============================] - 0s 15ms/step - loss: 0.6286 - accuracy: 0.6094\n",
      "Epoch 18/70\n",
      "16/16 [==============================] - 0s 15ms/step - loss: 0.6232 - accuracy: 0.6102\n",
      "Epoch 19/70\n",
      "16/16 [==============================] - 0s 14ms/step - loss: 0.6250 - accuracy: 0.6061\n",
      "Epoch 20/70\n",
      "16/16 [==============================] - 0s 15ms/step - loss: 0.6123 - accuracy: 0.6134\n",
      "Epoch 21/70\n",
      "16/16 [==============================] - 0s 14ms/step - loss: 0.6197 - accuracy: 0.6024\n",
      "Epoch 22/70\n",
      "16/16 [==============================] - 0s 15ms/step - loss: 0.6125 - accuracy: 0.6086\n",
      "Epoch 23/70\n",
      "16/16 [==============================] - 0s 15ms/step - loss: 0.6049 - accuracy: 0.6105\n",
      "Epoch 24/70\n",
      "16/16 [==============================] - 0s 17ms/step - loss: 0.5921 - accuracy: 0.6083\n",
      "Epoch 25/70\n",
      "16/16 [==============================] - 0s 14ms/step - loss: 0.5932 - accuracy: 0.6110\n",
      "Epoch 26/70\n",
      "16/16 [==============================] - 0s 16ms/step - loss: 0.5980 - accuracy: 0.6184\n",
      "Epoch 27/70\n",
      "16/16 [==============================] - 0s 16ms/step - loss: 0.5885 - accuracy: 0.6135\n",
      "Epoch 28/70\n",
      "16/16 [==============================] - 0s 16ms/step - loss: 0.5835 - accuracy: 0.6263\n",
      "Epoch 29/70\n",
      "16/16 [==============================] - 0s 16ms/step - loss: 0.5818 - accuracy: 0.6215\n",
      "Epoch 30/70\n",
      "16/16 [==============================] - 0s 15ms/step - loss: 0.5707 - accuracy: 0.6274\n",
      "Epoch 31/70\n",
      "16/16 [==============================] - 0s 16ms/step - loss: 0.5623 - accuracy: 0.6317\n",
      "Epoch 32/70\n",
      "16/16 [==============================] - 0s 15ms/step - loss: 0.5403 - accuracy: 0.6518\n",
      "Epoch 33/70\n",
      "16/16 [==============================] - 0s 14ms/step - loss: 0.5363 - accuracy: 0.6589\n",
      "Epoch 34/70\n",
      "16/16 [==============================] - 0s 15ms/step - loss: 0.5317 - accuracy: 0.6695\n",
      "Epoch 35/70\n",
      "16/16 [==============================] - 0s 17ms/step - loss: 0.5217 - accuracy: 0.6706\n",
      "Epoch 36/70\n",
      "16/16 [==============================] - 0s 16ms/step - loss: 0.5027 - accuracy: 0.6951\n",
      "Epoch 37/70\n",
      "16/16 [==============================] - 0s 15ms/step - loss: 0.4816 - accuracy: 0.7053\n",
      "Epoch 38/70\n",
      "16/16 [==============================] - 0s 15ms/step - loss: 0.4651 - accuracy: 0.7184\n",
      "Epoch 39/70\n",
      "16/16 [==============================] - 0s 14ms/step - loss: 0.4531 - accuracy: 0.7394\n",
      "Epoch 40/70\n",
      "16/16 [==============================] - 0s 14ms/step - loss: 0.4336 - accuracy: 0.7536\n",
      "Epoch 41/70\n",
      "16/16 [==============================] - 0s 14ms/step - loss: 0.4098 - accuracy: 0.7781\n",
      "Epoch 42/70\n",
      "16/16 [==============================] - 0s 14ms/step - loss: 0.4085 - accuracy: 0.7874\n",
      "Epoch 43/70\n",
      "16/16 [==============================] - 0s 15ms/step - loss: 0.3624 - accuracy: 0.8205\n",
      "Epoch 44/70\n",
      "16/16 [==============================] - 0s 15ms/step - loss: 0.3331 - accuracy: 0.8479\n",
      "Epoch 45/70\n",
      "16/16 [==============================] - 0s 15ms/step - loss: 0.3067 - accuracy: 0.8614\n",
      "Epoch 46/70\n",
      "16/16 [==============================] - 0s 15ms/step - loss: 0.2870 - accuracy: 0.8781\n",
      "Epoch 47/70\n",
      "16/16 [==============================] - 0s 16ms/step - loss: 0.2853 - accuracy: 0.8889\n",
      "Epoch 48/70\n",
      "16/16 [==============================] - 0s 15ms/step - loss: 0.2375 - accuracy: 0.9066\n",
      "Epoch 49/70\n",
      "16/16 [==============================] - 0s 16ms/step - loss: 0.2444 - accuracy: 0.9097\n",
      "Epoch 50/70\n",
      "16/16 [==============================] - 0s 16ms/step - loss: 0.2319 - accuracy: 0.9097\n",
      "Epoch 51/70\n",
      "16/16 [==============================] - 0s 16ms/step - loss: 0.1941 - accuracy: 0.9284\n",
      "Epoch 52/70\n",
      "16/16 [==============================] - 0s 14ms/step - loss: 0.1957 - accuracy: 0.9330\n",
      "Epoch 53/70\n",
      "16/16 [==============================] - 0s 14ms/step - loss: 0.2024 - accuracy: 0.9246\n",
      "Epoch 54/70\n",
      "16/16 [==============================] - 0s 14ms/step - loss: 0.1751 - accuracy: 0.9401\n",
      "Epoch 55/70\n",
      "16/16 [==============================] - 0s 14ms/step - loss: 0.1765 - accuracy: 0.9455\n",
      "Epoch 56/70\n",
      "16/16 [==============================] - 0s 16ms/step - loss: 0.2084 - accuracy: 0.9385\n",
      "Epoch 57/70\n",
      "16/16 [==============================] - 0s 19ms/step - loss: 0.2181 - accuracy: 0.9259\n",
      "Epoch 58/70\n",
      "16/16 [==============================] - 0s 17ms/step - loss: 0.2033 - accuracy: 0.9273\n",
      "Epoch 59/70\n",
      "16/16 [==============================] - 0s 17ms/step - loss: 0.1796 - accuracy: 0.9465\n",
      "Epoch 60/70\n",
      "16/16 [==============================] - 0s 18ms/step - loss: 0.1661 - accuracy: 0.9471\n",
      "Epoch 61/70\n",
      "16/16 [==============================] - 0s 19ms/step - loss: 0.1400 - accuracy: 0.9610\n",
      "Epoch 62/70\n",
      "16/16 [==============================] - 0s 17ms/step - loss: 0.1684 - accuracy: 0.9529\n",
      "Epoch 63/70\n",
      "16/16 [==============================] - 0s 17ms/step - loss: 0.1374 - accuracy: 0.9582\n",
      "Epoch 64/70\n",
      "16/16 [==============================] - 0s 16ms/step - loss: 0.1392 - accuracy: 0.9603\n",
      "Epoch 65/70\n",
      "16/16 [==============================] - 0s 15ms/step - loss: 0.1308 - accuracy: 0.9619\n",
      "Epoch 66/70\n",
      "16/16 [==============================] - 0s 16ms/step - loss: 0.1590 - accuracy: 0.9524\n",
      "Epoch 67/70\n",
      "16/16 [==============================] - 0s 18ms/step - loss: 0.1333 - accuracy: 0.9538\n",
      "Epoch 68/70\n",
      "16/16 [==============================] - 0s 15ms/step - loss: 0.1668 - accuracy: 0.9504\n",
      "Epoch 69/70\n",
      "16/16 [==============================] - 0s 18ms/step - loss: 0.1388 - accuracy: 0.9572\n",
      "Epoch 70/70\n",
      "16/16 [==============================] - 0s 20ms/step - loss: 0.1659 - accuracy: 0.9520\n"
     ]
    }
   ],
   "source": [
    "###################################################\n",
    "# TODO: build a network with LSTM and train it    #\n",
    "#                                                 #\n",
    "###################################################\n",
    "model = tf.keras.Sequential()\n",
    "model.add(tf.keras.layers.LSTM(128, input_shape=(8, 1), activation='tanh', recurrent_activation='sigmoid', return_sequences=True, dropout=0.2, recurrent_dropout=0.2))\n",
    "# model.add(tf.keras.layers.GRU(128, input_shape=(8, 1), activation='relu', return_sequences=True, dropout=0.2, recurrent_dropout=0.2))\n",
    "model.add(tf.keras.layers.Dense(64))\n",
    "model.add(tf.keras.layers.Dense(1, activation=\"sigmoid\"))\n",
    "\n",
    "model.summary()\n",
    "model.compile(loss=tf.keras.losses.BinaryCrossentropy(),\n",
    "              optimizer='adam',\n",
    "              metrics=['accuracy'])\n",
    "history_LSTM = model.fit(in_data, out_data, batch_size=64, epochs=70)\n",
    "\n",
    "\n",
    "###################################################\n",
    "# END TODO                                        #\n",
    "###################################################"
   ]
  },
  {
   "cell_type": "markdown",
   "metadata": {},
   "source": [
    "### Build a network with GRU"
   ]
  },
  {
   "cell_type": "code",
   "execution_count": 24,
   "metadata": {
    "pycharm": {
     "is_executing": true
    }
   },
   "outputs": [
    {
     "name": "stdout",
     "output_type": "stream",
     "text": [
      "Input data: (1000, 8, 1) int64\n",
      "Labels: (1000, 8) int64\n"
     ]
    }
   ],
   "source": [
    "in_data, out_data = create_xor_dataset(1000) # create a dataset with a batch size of 1000\n",
    "print('Input data:', in_data.shape, in_data.dtype)\n",
    "print('Labels:', out_data.shape, out_data.dtype)"
   ]
  },
  {
   "cell_type": "markdown",
   "metadata": {},
   "source": [
    "<span style=\"color:red\">__TODO:__</span> Build a GRU Network"
   ]
  },
  {
   "cell_type": "code",
   "execution_count": 25,
   "metadata": {},
   "outputs": [
    {
     "name": "stdout",
     "output_type": "stream",
     "text": [
      "Model: \"sequential_7\"\n",
      "_________________________________________________________________\n",
      " Layer (type)                Output Shape              Param #   \n",
      "=================================================================\n",
      " gru_2 (GRU)                 (None, 8, 128)            50304     \n",
      "                                                                 \n",
      " dense_14 (Dense)            (None, 8, 64)             8256      \n",
      "                                                                 \n",
      " dense_15 (Dense)            (None, 8, 1)              65        \n",
      "                                                                 \n",
      "=================================================================\n",
      "Total params: 58,625\n",
      "Trainable params: 58,625\n",
      "Non-trainable params: 0\n",
      "_________________________________________________________________\n",
      "Epoch 1/70\n",
      "16/16 [==============================] - 2s 14ms/step - loss: 0.6908 - accuracy: 0.5311\n",
      "Epoch 2/70\n",
      "16/16 [==============================] - 0s 15ms/step - loss: 0.6882 - accuracy: 0.5479\n",
      "Epoch 3/70\n",
      "16/16 [==============================] - 0s 15ms/step - loss: 0.6851 - accuracy: 0.5569\n",
      "Epoch 4/70\n",
      "16/16 [==============================] - 0s 14ms/step - loss: 0.6868 - accuracy: 0.5479\n",
      "Epoch 5/70\n",
      "16/16 [==============================] - 0s 14ms/step - loss: 0.6853 - accuracy: 0.5456\n",
      "Epoch 6/70\n",
      "16/16 [==============================] - 0s 16ms/step - loss: 0.6832 - accuracy: 0.5433\n",
      "Epoch 7/70\n",
      "16/16 [==============================] - 0s 15ms/step - loss: 0.6781 - accuracy: 0.5504\n",
      "Epoch 8/70\n",
      "16/16 [==============================] - 0s 19ms/step - loss: 0.6711 - accuracy: 0.5571\n",
      "Epoch 9/70\n",
      "16/16 [==============================] - 0s 14ms/step - loss: 0.6657 - accuracy: 0.5665\n",
      "Epoch 10/70\n",
      "16/16 [==============================] - 0s 17ms/step - loss: 0.6590 - accuracy: 0.5726\n",
      "Epoch 11/70\n",
      "16/16 [==============================] - 0s 17ms/step - loss: 0.6459 - accuracy: 0.5874\n",
      "Epoch 12/70\n",
      "16/16 [==============================] - 0s 16ms/step - loss: 0.6445 - accuracy: 0.5914\n",
      "Epoch 13/70\n",
      "16/16 [==============================] - 0s 17ms/step - loss: 0.6399 - accuracy: 0.5950\n",
      "Epoch 14/70\n",
      "16/16 [==============================] - 0s 15ms/step - loss: 0.6287 - accuracy: 0.6083\n",
      "Epoch 15/70\n",
      "16/16 [==============================] - 0s 15ms/step - loss: 0.6288 - accuracy: 0.6024\n",
      "Epoch 16/70\n",
      "16/16 [==============================] - 0s 18ms/step - loss: 0.6323 - accuracy: 0.5960\n",
      "Epoch 17/70\n",
      "16/16 [==============================] - 0s 14ms/step - loss: 0.6216 - accuracy: 0.6116\n",
      "Epoch 18/70\n",
      "16/16 [==============================] - 0s 13ms/step - loss: 0.6230 - accuracy: 0.5984\n",
      "Epoch 19/70\n",
      "16/16 [==============================] - 0s 15ms/step - loss: 0.6228 - accuracy: 0.6083\n",
      "Epoch 20/70\n",
      "16/16 [==============================] - 0s 14ms/step - loss: 0.6068 - accuracy: 0.6256\n",
      "Epoch 21/70\n",
      "16/16 [==============================] - 0s 18ms/step - loss: 0.6085 - accuracy: 0.6152\n",
      "Epoch 22/70\n",
      "16/16 [==============================] - 0s 15ms/step - loss: 0.5996 - accuracy: 0.6346\n",
      "Epoch 23/70\n",
      "16/16 [==============================] - 0s 15ms/step - loss: 0.5984 - accuracy: 0.6305\n",
      "Epoch 24/70\n",
      "16/16 [==============================] - 0s 14ms/step - loss: 0.5864 - accuracy: 0.6421\n",
      "Epoch 25/70\n",
      "16/16 [==============================] - 0s 14ms/step - loss: 0.5840 - accuracy: 0.6463\n",
      "Epoch 26/70\n",
      "16/16 [==============================] - 0s 14ms/step - loss: 0.5754 - accuracy: 0.6564\n",
      "Epoch 27/70\n",
      "16/16 [==============================] - 0s 15ms/step - loss: 0.5756 - accuracy: 0.6489\n",
      "Epoch 28/70\n",
      "16/16 [==============================] - 0s 13ms/step - loss: 0.5596 - accuracy: 0.6702\n",
      "Epoch 29/70\n",
      "16/16 [==============================] - 0s 14ms/step - loss: 0.5576 - accuracy: 0.6704\n",
      "Epoch 30/70\n",
      "16/16 [==============================] - 0s 13ms/step - loss: 0.5427 - accuracy: 0.6816\n",
      "Epoch 31/70\n",
      "16/16 [==============================] - 0s 13ms/step - loss: 0.5239 - accuracy: 0.7085\n",
      "Epoch 32/70\n",
      "16/16 [==============================] - 0s 13ms/step - loss: 0.4969 - accuracy: 0.7381\n",
      "Epoch 33/70\n",
      "16/16 [==============================] - 0s 14ms/step - loss: 0.4993 - accuracy: 0.7264\n",
      "Epoch 34/70\n",
      "16/16 [==============================] - 0s 13ms/step - loss: 0.4925 - accuracy: 0.7299\n",
      "Epoch 35/70\n",
      "16/16 [==============================] - 0s 13ms/step - loss: 0.4586 - accuracy: 0.7602\n",
      "Epoch 36/70\n",
      "16/16 [==============================] - 0s 14ms/step - loss: 0.4445 - accuracy: 0.7692\n",
      "Epoch 37/70\n",
      "16/16 [==============================] - 0s 13ms/step - loss: 0.4473 - accuracy: 0.7759\n",
      "Epoch 38/70\n",
      "16/16 [==============================] - 0s 13ms/step - loss: 0.4172 - accuracy: 0.7845\n",
      "Epoch 39/70\n",
      "16/16 [==============================] - 0s 13ms/step - loss: 0.3775 - accuracy: 0.8096\n",
      "Epoch 40/70\n",
      "16/16 [==============================] - 0s 14ms/step - loss: 0.3911 - accuracy: 0.8110\n",
      "Epoch 41/70\n",
      "16/16 [==============================] - 0s 14ms/step - loss: 0.3650 - accuracy: 0.8289\n",
      "Epoch 42/70\n",
      "16/16 [==============================] - 0s 14ms/step - loss: 0.3671 - accuracy: 0.8359\n",
      "Epoch 43/70\n",
      "16/16 [==============================] - 0s 13ms/step - loss: 0.3515 - accuracy: 0.8454\n",
      "Epoch 44/70\n",
      "16/16 [==============================] - 0s 14ms/step - loss: 0.3220 - accuracy: 0.8646\n",
      "Epoch 45/70\n",
      "16/16 [==============================] - 0s 13ms/step - loss: 0.3514 - accuracy: 0.8554\n",
      "Epoch 46/70\n",
      "16/16 [==============================] - 0s 14ms/step - loss: 0.3062 - accuracy: 0.8710\n",
      "Epoch 47/70\n",
      "16/16 [==============================] - 0s 12ms/step - loss: 0.3127 - accuracy: 0.8708\n",
      "Epoch 48/70\n",
      "16/16 [==============================] - 0s 12ms/step - loss: 0.2874 - accuracy: 0.8849\n",
      "Epoch 49/70\n",
      "16/16 [==============================] - 0s 12ms/step - loss: 0.2971 - accuracy: 0.8775\n",
      "Epoch 50/70\n",
      "16/16 [==============================] - 0s 12ms/step - loss: 0.3004 - accuracy: 0.8735\n",
      "Epoch 51/70\n",
      "16/16 [==============================] - 0s 13ms/step - loss: 0.2927 - accuracy: 0.8866\n",
      "Epoch 52/70\n",
      "16/16 [==============================] - 0s 12ms/step - loss: 0.2914 - accuracy: 0.8866\n",
      "Epoch 53/70\n",
      "16/16 [==============================] - 0s 12ms/step - loss: 0.2871 - accuracy: 0.8931\n",
      "Epoch 54/70\n",
      "16/16 [==============================] - 0s 13ms/step - loss: 0.2643 - accuracy: 0.9070\n",
      "Epoch 55/70\n",
      "16/16 [==============================] - 0s 13ms/step - loss: 0.2708 - accuracy: 0.9011\n",
      "Epoch 56/70\n",
      "16/16 [==============================] - 0s 13ms/step - loss: 0.2703 - accuracy: 0.8961\n",
      "Epoch 57/70\n",
      "16/16 [==============================] - 0s 13ms/step - loss: 0.2513 - accuracy: 0.9062\n",
      "Epoch 58/70\n",
      "16/16 [==============================] - 0s 13ms/step - loss: 0.2595 - accuracy: 0.9034\n",
      "Epoch 59/70\n",
      "16/16 [==============================] - 0s 13ms/step - loss: 0.2839 - accuracy: 0.8955\n",
      "Epoch 60/70\n",
      "16/16 [==============================] - 0s 14ms/step - loss: 0.2519 - accuracy: 0.9089\n",
      "Epoch 61/70\n",
      "16/16 [==============================] - 0s 13ms/step - loss: 0.2493 - accuracy: 0.9025\n",
      "Epoch 62/70\n",
      "16/16 [==============================] - 0s 13ms/step - loss: 0.2455 - accuracy: 0.9124\n",
      "Epoch 63/70\n",
      "16/16 [==============================] - 0s 13ms/step - loss: 0.2446 - accuracy: 0.9168\n",
      "Epoch 64/70\n",
      "16/16 [==============================] - 0s 14ms/step - loss: 0.2214 - accuracy: 0.9254\n",
      "Epoch 65/70\n",
      "16/16 [==============================] - 0s 19ms/step - loss: 0.2089 - accuracy: 0.9364\n",
      "Epoch 66/70\n",
      "16/16 [==============================] - 0s 14ms/step - loss: 0.2303 - accuracy: 0.9240\n",
      "Epoch 67/70\n",
      "16/16 [==============================] - 0s 13ms/step - loss: 0.2394 - accuracy: 0.9230\n",
      "Epoch 68/70\n",
      "16/16 [==============================] - 0s 16ms/step - loss: 0.2188 - accuracy: 0.9264\n",
      "Epoch 69/70\n",
      "16/16 [==============================] - 0s 13ms/step - loss: 0.2445 - accuracy: 0.9240\n",
      "Epoch 70/70\n",
      "16/16 [==============================] - 0s 15ms/step - loss: 0.2099 - accuracy: 0.9270\n"
     ]
    }
   ],
   "source": [
    "###################################################\n",
    "# TODO: build a model with GRU and train it.      #\n",
    "#                                                 #\n",
    "###################################################\n",
    "model = tf.keras.Sequential()\n",
    "model.add(tf.keras.layers.GRU(128, input_shape=(8, 1), activation='tanh', recurrent_activation='sigmoid', return_sequences=True, dropout=0.2, recurrent_dropout=0.2))\n",
    "# model.add(tf.keras.layers.GRU(128, input_shape=(8, 1), activation='relu', return_sequences=True, dropout=0.2, recurrent_dropout=0.2))\n",
    "model.add(tf.keras.layers.Dense(64))\n",
    "model.add(tf.keras.layers.Dense(1, activation=\"sigmoid\"))\n",
    "\n",
    "model.summary()\n",
    "model.compile(loss=tf.keras.losses.BinaryCrossentropy(),\n",
    "              optimizer='adam',\n",
    "              metrics=['accuracy'])\n",
    "history_GRU = model.fit(in_data, out_data, batch_size=64, epochs=70)\n",
    "\n",
    "\n",
    "###################################################\n",
    "# END TODO                                        #\n",
    "###################################################"
   ]
  },
  {
   "cell_type": "markdown",
   "metadata": {},
   "source": [
    "### Visualize loss and accuracy"
   ]
  },
  {
   "cell_type": "code",
   "execution_count": 26,
   "metadata": {},
   "outputs": [
    {
     "data": {
      "image/png": "[encoded data removed]",
      "text/plain": [
       "<Figure size 432x288 with 1 Axes>"
      ]
     },
     "metadata": {
      "needs_background": "light"
     },
     "output_type": "display_data"
    }
   ],
   "source": [
    "plt.plot(history_LSTM.history['loss'], label='LSTM')\n",
    "plt.plot(history_GRU.history['loss'], label='GRU')\n",
    "plt.title('LSTM/GRU loss')\n",
    "plt.ylabel('loss')\n",
    "plt.xlabel('No. epoch')\n",
    "plt.legend(loc=\"upper left\")\n",
    "plt.show()"
   ]
  },
  {
   "cell_type": "code",
   "execution_count": 27,
   "metadata": {},
   "outputs": [
    {
     "data": {
      "image/png": "[encoded data removed]",
      "text/plain": [
       "<Figure size 432x288 with 1 Axes>"
      ]
     },
     "metadata": {
      "needs_background": "light"
     },
     "output_type": "display_data"
    }
   ],
   "source": [
    "plt.plot(history_LSTM.history['accuracy'], label='LSTM')\n",
    "plt.plot(history_GRU.history['accuracy'], label='GRU')\n",
    "plt.title('LSTM/GRU accuracy')\n",
    "plt.ylabel('accuracy')\n",
    "plt.xlabel('No. epoch')\n",
    "plt.legend(loc=\"upper left\")\n",
    "plt.show()"
   ]
  },
  {
   "cell_type": "markdown",
   "metadata": {},
   "source": [
    "<span style=\"color:red\">__TODO:__</span> Answer the question:\n",
    "\n",
    "Which part of this task have you been struggling with most of the  time? Describe how you resolved it.s"
   ]
  },
  {
   "cell_type": "markdown",
   "metadata": {},
   "source": []
  },
  {
   "cell_type": "markdown",
   "metadata": {},
   "source": [
    "<span style=\"color:red\">__TODO:__</span> Answer the question:\n",
    "\n",
    "Which loss function did you use? Why?"
   ]
  },
  {
   "cell_type": "markdown",
   "metadata": {},
   "source": []
  },
  {
   "cell_type": "markdown",
   "metadata": {},
   "source": [
    "## Part 3 :  Build your own LSTMCell (25%)\n",
    "\n",
    "In this part, you need to build your own LSTM Cell to achieve the LSTM functionality (including different types of gates that constitute the cell).\n",
    "\n",
    "It is recommanded to see the course slides and [`LSTM` source code](https://github.com/keras-team/keras/blob/v2.10.0/keras/layers/rnn/lstm.py). [This link](https://colah.github.io/posts/2015-08-Understanding-LSTMs) also provides a good intuition. \n",
    "\n",
    "![](./img/lstm_cell.png)\n",
    "\n",
    "**Note that this is a simplified figure and not all operations are illustrated.** Please refer to the lectures and follow the equations. "
   ]
  },
  {
   "cell_type": "markdown",
   "metadata": {},
   "source": [
    "Assume some **old** carry state $c_{t-1}$ and hidden state $h_{t-1}$, we try to compute the **new states** given some input $X_t$ using the ideas of LSTM. \n",
    "\n",
    "Remember that for an LSTM cell, we actually have (yellow boxes from left to right) a **forget gate**, an **input gate**, a **cell** and an **output gate**, whose output can be denoted by $f_{t-1}$, $i_{t-1}$, $\\tilde{c}_{t-1}$ and $o_{t-1}$. Each yellow box in the graph denotes a linear projection followed by a particular activation (`sigmoid` or `tanh`). \n",
    "\n",
    "Then for some input $X_t \\in R^{N \\times D}$ and a target output dimension $K$ (also called \"units\"), let's first combine the inputs with the old hidden state $h_{t-1} \\in R^{N \\times K}$ by projecting them into the same dimension \n",
    "\n",
    "$$\n",
    "Z_t = X_t + h_{t-1} W_h\n",
    "$$\n",
    "\n",
    "where $W_h \\in R^{K \\times D}$. Then all new states can be computed one by one as \n",
    "\n",
    "$$\n",
    "\\begin{cases}\n",
    "f_t = \\sigma (Z_t W_f) \\\\\n",
    "i_t = \\sigma (Z_t W_i) \\\\\n",
    "\\tilde{c}_t = \\tanh (Z_t W_c) \\\\\n",
    "o_t = \\sigma (Z_t W_o)\n",
    "\\end{cases}\n",
    "$$\n",
    "\n",
    "where the weights (also called kernels)\n",
    "\n",
    "$$\n",
    "W_f, W_i, W_c, W_o \\in R^{D \\times K}\n",
    "$$\n",
    "\n",
    "Then the **new** carry state is given by the **old carry state** passing through the forget gate and combining with the input\n",
    "\n",
    "$$\n",
    "c_t = f_t \\odot c_{t-1} + i_t \\odot \\tilde{c}_t\n",
    "$$\n",
    "\n",
    "And the hidden state is given by the **new carry state** passing through the output gate\n",
    "\n",
    "$$\n",
    "h_t = o_t \\odot \\tanh (c_t)\n",
    "$$"
   ]
  },
  {
   "cell_type": "markdown",
   "metadata": {},
   "source": [
    "Note that when computing each state, we are actually computing the four linear projections on $Z_t$, which is **four** projections on $X_t$ and **eight** (becuase of the $W_h$) projections on $h_{t-1}$. This doesn't look smart enough, so let's rewrite the equations. \n",
    "\n",
    "First define a kernel $W \\in R^{D \\times 4 K}$, which can be thought of as\n",
    "\n",
    "$$\n",
    "W \\gets [W_f, W_i, W_c, W_o]\n",
    "$$\n",
    "\n",
    "Similarly define a recurrent kernel $W_r \\in R^{K \\times 4 K}$, which is equivalent to \n",
    "\n",
    "$$\n",
    "W_r \\gets W_h W = [W_h W_f, W_h W_i, W_h W_c, W_h W_o]\n",
    "$$\n",
    "\n",
    "\n",
    "We can, of course, also add a bias $b \\in R^{4 K}$, and now all the projections simplifies to \n",
    "\n",
    "$$\n",
    "Z_t = X_t W + h_{t-1} W_r + \\mathbb{1} b^T \\in R^{N \\times 4 K}\n",
    "$$\n",
    "\n",
    "We do exactly **one** projection on $X_t$ and **one** on $h_{t-1}$. Then we partition $Z_t$ into \n",
    "\n",
    "$$\n",
    "[z_t^f, z_t^i, z_t^c, z_t^o] \\gets Z_t, \\quad\n",
    "z_t^* \\in R^{N \\times K}\n",
    "$$\n",
    "\n",
    "Easily, \n",
    "\n",
    "$$\n",
    "\\begin{cases}\n",
    "f_t = \\sigma (z_t^f) \\\\\n",
    "i_t = \\sigma (z_t^i) \\\\\n",
    "\\tilde{c}_t = \\tanh (z_t^c) \\\\\n",
    "o_t = \\sigma (z_t^o)\n",
    "\\end{cases}\n",
    "$$\n",
    "\n",
    "And the rest stays the same. "
   ]
  },
  {
   "cell_type": "markdown",
   "metadata": {},
   "source": [
    "<span style=\"color:red\">__TODO:__</span> \n",
    "\n",
    "1. Complete the model `LSTMCell` in **utils/LSTM.py**\n",
    "2. Verify the function with Tensorflow by running the provided code"
   ]
  },
  {
   "cell_type": "markdown",
   "metadata": {},
   "source": [
    "<span style=\"color:red\">__NOTE:__</span> \n",
    "\n",
    "You should use the \"simplified\" (second) set of equations as tensorflow does. "
   ]
  },
  {
   "cell_type": "code",
   "execution_count": 28,
   "metadata": {},
   "outputs": [
    {
     "name": "stdout",
     "output_type": "stream",
     "text": [
      "Simple verification:\n"
     ]
    },
    {
     "ename": "AttributeError",
     "evalue": "'NoneType' object has no attribute 'numpy'",
     "output_type": "error",
     "traceback": [
      "\u001b[0;31m---------------------------------------------------------------------------\u001b[0m",
      "\u001b[0;31mAttributeError\u001b[0m                            Traceback (most recent call last)",
      "\u001b[0;32m/var/folders/1p/5r2k3w5s7_scq10b99pk3kn00000gn/T/ipykernel_722/2190403037.py\u001b[0m in \u001b[0;36m<module>\u001b[0;34m\u001b[0m\n\u001b[1;32m     33\u001b[0m \u001b[0;34m\u001b[0m\u001b[0m\n\u001b[1;32m     34\u001b[0m \u001b[0mprint\u001b[0m\u001b[0;34m(\u001b[0m\u001b[0;34m'Simple verification:'\u001b[0m\u001b[0;34m)\u001b[0m\u001b[0;34m\u001b[0m\u001b[0;34m\u001b[0m\u001b[0m\n\u001b[0;32m---> 35\u001b[0;31m \u001b[0mprint\u001b[0m\u001b[0;34m(\u001b[0m\u001b[0;34m'Is h correct?'\u001b[0m\u001b[0;34m,\u001b[0m \u001b[0mnp\u001b[0m\u001b[0;34m.\u001b[0m\u001b[0mallclose\u001b[0m\u001b[0;34m(\u001b[0m\u001b[0mh\u001b[0m\u001b[0;34m.\u001b[0m\u001b[0mnumpy\u001b[0m\u001b[0;34m(\u001b[0m\u001b[0;34m)\u001b[0m\u001b[0;34m,\u001b[0m \u001b[0mh_tf\u001b[0m\u001b[0;34m.\u001b[0m\u001b[0mnumpy\u001b[0m\u001b[0;34m(\u001b[0m\u001b[0;34m)\u001b[0m\u001b[0;34m)\u001b[0m\u001b[0;34m)\u001b[0m\u001b[0;34m\u001b[0m\u001b[0;34m\u001b[0m\u001b[0m\n\u001b[0m\u001b[1;32m     36\u001b[0m \u001b[0mprint\u001b[0m\u001b[0;34m(\u001b[0m\u001b[0;34m'Is c correct?'\u001b[0m\u001b[0;34m,\u001b[0m \u001b[0mnp\u001b[0m\u001b[0;34m.\u001b[0m\u001b[0mallclose\u001b[0m\u001b[0;34m(\u001b[0m\u001b[0mc\u001b[0m\u001b[0;34m.\u001b[0m\u001b[0mnumpy\u001b[0m\u001b[0;34m(\u001b[0m\u001b[0;34m)\u001b[0m\u001b[0;34m,\u001b[0m \u001b[0mc_tf\u001b[0m\u001b[0;34m.\u001b[0m\u001b[0mnumpy\u001b[0m\u001b[0;34m(\u001b[0m\u001b[0;34m)\u001b[0m\u001b[0;34m)\u001b[0m\u001b[0;34m)\u001b[0m\u001b[0;34m\u001b[0m\u001b[0;34m\u001b[0m\u001b[0m\n",
      "\u001b[0;31mAttributeError\u001b[0m: 'NoneType' object has no attribute 'numpy'"
     ]
    }
   ],
   "source": [
    "# Veirification Code\n",
    "# Please don't change anything\n",
    "\n",
    "from utils.LSTM import LSTMCell\n",
    "\n",
    "batch_size = 4\n",
    "input_dim = 8\n",
    "units = 64\n",
    "\n",
    "inputs = tf.random.normal((batch_size, input_dim))\n",
    "states = [tf.random.normal((batch_size, units)), tf.zeros((batch_size, units))]\n",
    "\n",
    "# By default, the weights will be initialized randomly (as is specified in the code). \n",
    "# Here we try to enforce deterministic (non-random) initializers \n",
    "# so that the two results can be correctly compared. \n",
    "# NOTE: You should NOT do this and leave them to default during actual training\n",
    "\n",
    "lstm_cell = LSTMCell(\n",
    "    units, \n",
    "    kernel_initializer=tf.keras.initializers.Ones, \n",
    "    recurrent_initializer=tf.keras.initializers.Ones, \n",
    "    bias_initializer=tf.keras.initializers.Zeros\n",
    ")\n",
    "h, (_, c) = lstm_cell(inputs, states)\n",
    "\n",
    "lstm_cell_tf = tf.keras.layers.LSTMCell(\n",
    "    units, \n",
    "    kernel_initializer='ones', \n",
    "    recurrent_initializer='ones', \n",
    "    bias_initializer='zeros'\n",
    ")\n",
    "h_tf, (_, c_tf) = lstm_cell_tf(inputs, states)\n",
    "\n",
    "print('Simple verification:')\n",
    "print('Is h correct?', np.allclose(h.numpy(), h_tf.numpy()))\n",
    "print('Is c correct?', np.allclose(c.numpy(), c_tf.numpy()))"
   ]
  },
  {
   "cell_type": "code",
   "execution_count": null,
   "metadata": {},
   "outputs": [],
   "source": [
    "in_data, out_data = create_xor_dataset(1024)# create a dataset with a batch size of 1000"
   ]
  },
  {
   "cell_type": "markdown",
   "metadata": {},
   "source": [
    "#### Hint on building a model with your own LSTMCell\n",
    "\n",
    "When creating an RNN with your own custom cell, you can just plug in your `LSTMCell` as a building block into a basic `RNN` layer, specify other parameters (e.g. input_shape) as needed, and add it into your model as you did with other layers before. \n",
    "\n",
    "```\n",
    "self.rnn = tf.keras.layers.RNN([YOUR_CELL], **OTHER_ARGS)\n",
    "```\n",
    "\n",
    "For details, please refer to https://www.tensorflow.org/guide/keras/rnn. "
   ]
  },
  {
   "cell_type": "markdown",
   "metadata": {},
   "source": [
    "<span style=\"color:red\">__TODO:__</span> Complete the model `LSTMModel` in **utils/LSTM.py**"
   ]
  },
  {
   "cell_type": "markdown",
   "metadata": {},
   "source": [
    "<span style=\"color:red\">__NOTE:__</span> \n",
    "\n",
    "We are trying to use a custom layer (our `LSTMCell`) with multiple `call` arguments (\"inputs\" and \"states\"). The pre-building of these types of models is currently NOT allowed in tensorflow. \n",
    "\n",
    "So be sure NOT to call `model.summary()`. Compile and fit it directly and the building will be automatically done in runtime. "
   ]
  },
  {
   "cell_type": "markdown",
   "metadata": {},
   "source": [
    "<span style=\"color:red\">__TODO:__</span> Train your `LSTMModel`"
   ]
  },
  {
   "cell_type": "code",
   "execution_count": null,
   "metadata": {},
   "outputs": [],
   "source": [
    "from utils.LSTM import LSTMModel\n",
    "\n",
    "###################################################\n",
    "# TODO: Instantiate your own model and train it.  #\n",
    "###################################################\n",
    "model = tf.keras.Sequential()\n",
    "model.add(tf.keras.layers.LSTM(128, input_shape=(8, 1), activation='tanh', recurrent_activation='sigmoid', return_sequences=True, dropout=0.2, recurrent_dropout=0.2))\n",
    "model.add(tf.keras.layers.Dense(64))\n",
    "model.add(tf.keras.layers.Dense(1, activation=\"sigmoid\"))\n",
    "\n",
    "model.summary()\n",
    "model.compile(loss=tf.keras.losses.BinaryCrossentropy(),\n",
    "              optimizer='adam',\n",
    "              metrics=['accuracy'])\n",
    "history = model.fit(in_data, out_data, batch_size=64, epochs=70)\n",
    "\n",
    "\n",
    "###################################################\n",
    "# END TODO                                        #\n",
    "###################################################"
   ]
  },
  {
   "cell_type": "markdown",
   "metadata": {},
   "source": [
    "### Visualize loss and accuracy"
   ]
  },
  {
   "cell_type": "code",
   "execution_count": null,
   "metadata": {},
   "outputs": [],
   "source": [
    "plt.plot(history.history['loss'], label='loss')\n",
    "plt.plot(history.history['accuracy'], label='accuracy')\n",
    "plt.title('Training history')\n",
    "plt.ylabel('value')\n",
    "plt.xlabel('No. epoch')\n",
    "plt.legend(loc=\"upper left\")\n",
    "plt.show()"
   ]
  },
  {
   "cell_type": "code",
   "execution_count": null,
   "metadata": {},
   "outputs": [],
   "source": []
  }
 ],
 "metadata": {
  "kernelspec": {
   "display_name": "Python 3 (ipykernel)",
   "language": "python",
   "name": "python3"
  },
  "language_info": {
   "codemirror_mode": {
    "name": "ipython",
    "version": 3
   },
   "file_extension": ".py",
   "mimetype": "text/x-python",
   "name": "python",
   "nbconvert_exporter": "python",
   "pygments_lexer": "ipython3",
   "version": "3.9.7"
  },
  "vscode": {
   "interpreter": {
    "hash": "36142657f443a869bd2c1b509e6f1df9b014ad48aa206cdd00d27f8f22cb37ba"
   }
  }
 },
 "nbformat": 4,
 "nbformat_minor": 4
}
