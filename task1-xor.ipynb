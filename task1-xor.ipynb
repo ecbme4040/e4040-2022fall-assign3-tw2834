{
 "cells": [
  {
   "cell_type": "markdown",
   "metadata": {},
   "source": [
    "## Columbia University\n",
    "### ECBM E4040 Neural Networks and Deep Learning. Fall 2022."
   ]
  },
  {
   "cell_type": "markdown",
   "metadata": {},
   "source": [
    "## **Task 1: XOR** (50%)"
   ]
  },
  {
   "cell_type": "code",
   "execution_count": 43,
   "metadata": {},
   "outputs": [
    {
     "name": "stdout",
     "output_type": "stream",
     "text": [
      "Using CPU\n",
      "The autoreload extension is already loaded. To reload it, use:\n",
      "  %reload_ext autoreload\n",
      "2.8.0\n"
     ]
    }
   ],
   "source": [
    "# Import modules\n",
    "from __future__ import print_function\n",
    "import tensorflow as tf\n",
    "\n",
    "physical_devices = tf.config.experimental.list_physical_devices('GPU')\n",
    "if len(physical_devices) > 0:\n",
    "    print('Using GPU(0):', physical_devices[0])\n",
    "    tf.config.experimental.set_memory_growth(physical_devices[0], enable=True)\n",
    "else:\n",
    "    print('Using CPU')\n",
    "\n",
    "import numpy as np\n",
    "from numpy.random import shuffle\n",
    "import time\n",
    "import matplotlib.pyplot as plt\n",
    "\n",
    "# Plot configurations\n",
    "%matplotlib inline\n",
    "\n",
    "# Notebook auto reloads code. (Ref: http://stackoverflow.com/questions/1907993/autoreload-of-modules-in-ipython)\n",
    "%load_ext autoreload\n",
    "%autoreload 2\n",
    "print(tf.__version__)"
   ]
  },
  {
   "cell_type": "markdown",
   "metadata": {},
   "source": [
    "##  Part 1: Backpropagation through time (10%)"
   ]
  },
  {
   "cell_type": "markdown",
   "metadata": {},
   "source": [
    "**Question:** Consider some input data $x_1, x_2$ and groud truth $p_1, p_2$ (the indices denote different time steps), a simple RNN network is shown in the following figure. \n",
    "\n",
    "![bptt](./img/bptt2.jpg)\n",
    "\n",
    "Here, $w_x, w_h, b_1, w, b_2 \\in R$ are scalar parameters. Loss function is **mean squared error (MSE)**. "
   ]
  },
  {
   "cell_type": "markdown",
   "metadata": {},
   "source": [
    "<font color=\"red\"><strong>TODO:</strong></font>\n",
    "\n",
    "Assume the input $(x_1, x_2) = (1, -1)$, ground truth $(p_1, p_2) = (0, 1)$, $h_0 = 0$, and $(w_x, w_h, b_1, w, b_2) = (1, -2, 3, 2, 1)$, derive both the forward and backward pass (keep $4$ digits after the decimal). "
   ]
  },
  {
   "cell_type": "markdown",
   "metadata": {},
   "source": [
    "<font color=\"red\"><strong>Hint:</strong></font> The sigmoid function and its derivative\n",
    "\n",
    "$$\n",
    "\\sigma (x) = \\frac{1}{1 + e^{-x}}, \\quad\n",
    "\\nabla_x \\sigma (x) = \\frac{e^{-x}}{1 + e^{-x}} = \\sigma (x) (1 - \\sigma (x))\n",
    "$$\n",
    "\n",
    "- Derive the equations and intermediate variables first before plugging in values, don't just fill in the answers\n",
    "- Use latex style equations\n",
    "- You derivations don't need to be wrapped with special color :)"
   ]
  },
  {
   "cell_type": "markdown",
   "metadata": {},
   "source": [
    "<font color=\"red\"><strong>Asnwer:</strong></font>\n",
    "\n",
    "$$\\text{Your Derivations Here.}$$\n",
    "$(x_1, x_2) = (1, -1)$\n",
    "$(p_1, p_2) = (0, 1)$, and $(w_x, w_h, b_1, w, b_2) = (1, -2, 3, 2, 1) \\\\ $\n",
    "$h_0 = 0 \\\\ $ \n",
    "$h_1 = \\sigma (w_x*x_1 + w_h*h_0 + b1) = \\sigma (4) = 0.982 \\\\ $\n",
    "$y_1 = \\sigma (w*h_1 + b2) = \\sigma (2.964) = 0.9509 \\\\ $\n",
    "$h_2 = \\sigma (w_x*x_2 + w_h*h_1 + b1) = \\sigma (0.036) = 0.509 \\\\ $\n",
    "$y_2 = \\sigma (w*h_2 + b2) = \\sigma (2.0179) = 0.8827 \\\\ $\n",
    "\n",
    "- Loss function for time t\n",
    "\n",
    "$ L_t = 1/2(y_t -p_t)^2 \\\\ $ \n",
    "$$ \\frac{\\partial L_1}{\\partial w_x} = \\frac{\\partial L_1}{\\partial y_1} \\frac{\\partial y_1}{\\partial h_1} \\frac{\\partial h_1}{\\partial w_x} \\\\ $$\n",
    "$$\\frac{\\partial L_1}{\\partial w_x} = (y_1 - p_1)*y_1(1- y_1)*w*h_1(1- h_1)*x_1$$\n",
    "$$\\frac{\\partial L_1}{\\partial w_x} = 0.0016$$\n",
    "$$ \\frac{\\partial L_2}{\\partial w_x} = \\frac{\\partial L_2}{\\partial y_2} \\frac{\\partial y_2}{\\partial h_2} \\frac{\\partial h_2}{\\partial w_x} \\\\ $$\n",
    "$$\\frac{\\partial L_2}{\\partial w_x} = (y_2 - p_2)*y_2(1- y_2)*w*h_2(1- h_2)*x_2$$\n",
    "$$\\frac{\\partial L_2}{\\partial w_x} = 0.0063$$\n",
    "$$ \\nabla_{w_x} L = \\frac{\\partial L_1}{\\partial w_x}  + \\frac{\\partial L_2}{\\partial w_x} $$\n",
    "$$ \\nabla_{w_x} L = 0.0079$$\n",
    "\n",
    "$$ \\frac{\\partial L_1}{\\partial w_h} = \\frac{\\partial L_1}{\\partial y_1} \\frac{\\partial y_1}{\\partial h_1} \\frac{\\partial h_1}{\\partial w_h} \\\\ $$\n",
    "$$ \\frac{\\partial L_1}{\\partial w_h} = (y_1 - p_1)*y_1(1- y_1)*w*h_1(1- h_1)*h_0$$\n",
    "$$ \\frac{\\partial L_1}{\\partial w_h} = 0 $$\n",
    "\n",
    "$$ \\frac{\\partial L_2}{\\partial w_h} = \\frac{\\partial L_2}{\\partial y_2} \\frac{\\partial y_2}{\\partial h_2} \\frac{\\partial h_2}{\\partial w_h} \\\\ $$\n",
    "$$ \\frac{\\partial L_2}{\\partial w_h} = (y_2 - p_2)*y_2(1- y_2)*w*h_2(1- h_2)*h_1$$\n",
    "$$ \\frac{\\partial L_2}{\\partial w_h} = -0.0060$$\n",
    "$$\\nabla_{w_h} L = \\frac{\\partial L_1}{\\partial w_h} + \\frac{\\partial L_2}{\\partial w_h} $$\n",
    "$$\\nabla_{w_h} L = -0.0060$$\n",
    "\n",
    "$$ \\frac{\\partial L_1}{\\partial b_1} = \\frac{\\partial L_1}{\\partial y_1} \\frac{\\partial y_1}{\\partial h_1} \\frac{\\partial h_1}{\\partial b_1} \\\\ $$\n",
    "$$ \\frac{\\partial L_1}{\\partial b_1} = (y_1 - p_1)*y_1(1- y_1)*w*h_1(1- h_1)$$\n",
    "$$ \\frac{\\partial L_1}{\\partial b_1} = 0.0016$$\n",
    "\n",
    "$$ \\frac{\\partial L_2}{\\partial b_1} = \\frac{\\partial L_2}{\\partial y_2} \\frac{\\partial y_2}{\\partial h_2} \\frac{\\partial h_2}{\\partial b_1} $$\n",
    "$$ \\frac{\\partial L_2}{\\partial b_1} = (y_2 - p_2)*y_2(1- y_2)*w*h_2(1- h_2)$$\n",
    "$$ \\frac{\\partial L_2}{\\partial b_1} = -0.0060$$\n",
    "$$\\nabla_{b_1} L = \\frac{\\partial L_1}{\\partial b_1} + \\frac{\\partial L_2}{\\partial b_1} $$\n",
    "$$\\nabla_{b_1} L = -0.0044$$\n",
    "\n",
    "$$ \\frac{\\partial L_1}{\\partial w} = \\frac{\\partial L_1}{\\partial y_1} \\frac{\\partial y_1}{\\partial w} $$\n",
    "$$ \\frac{\\partial L_1}{\\partial b_1} = (y_1 - p_1)*y_1(1- y_1)*h_1$$\n",
    "$$ \\frac{\\partial L_1}{\\partial b_1} = 0.0436$$\n",
    " \n",
    "$$ \\frac{\\partial L_2}{\\partial w} = \\frac{\\partial L_2}{\\partial y_2} \\frac{\\partial y_2}{\\partial w} $$\n",
    "$$ \\frac{\\partial L_2}{\\partial w} = (y_2 - p_2)*y_2(1- y_2)*h_2$$\n",
    "$$ \\frac{\\partial L_2}{\\partial w} = 0.0062$$\n",
    "$$ \\nabla_{w} L = 0.0374$$\n",
    "\n",
    "$$ \\frac{\\partial L_1}{\\partial b_2} = \\frac{\\partial L_1}{\\partial y_1} \\frac{\\partial y_1}{\\partial b_2}  $$\n",
    "$$ \\frac{\\partial L_1}{\\partial b_2} = (y_1 - p_1)*y_1(1- y_1)$$\n",
    "$$ \\frac{\\partial L_1}{\\partial b_2} = 0.0016$$\n",
    "\n",
    "$$ \\frac{\\partial L_2}{\\partial b_2} = \\frac{\\partial L_2}{\\partial y_2} \\frac{\\partial y_2}{\\partial b_2} $$\n",
    "$$ \\frac{\\partial L_2}{\\partial b_2} = (y_2 - p_2)*y_2(1- y_2)$$\n",
    "$$ \\frac{\\partial L_2}{\\partial b_2} = 0.0443$$\n",
    "$$\\nabla_{b_2} L = \\frac{\\partial L_1}{\\partial b_2} + \\frac{\\partial L_2}{\\partial b_2} $$\n",
    "$$\\nabla_{b_2} L = 0.0322$$\n",
    "\n",
    "- The gradients\n",
    "\n",
    "$$\n",
    "\\begin{cases}\n",
    "\\nabla_{w_x} L = \\color{cyan}{[0.0079]} \\\\\n",
    "\\nabla_{w_h} L = \\color{cyan}{[-0.0060]} \\\\\n",
    "\\nabla_{b_1} L = \\color{cyan}{[-0.0044]} \\\\\n",
    "\\nabla_{w} L = \\color{cyan}{[0.0374]} \\\\\n",
    "\\nabla_{b_2} L = \\color{cyan}{[0.0322]} \\\\\n",
    "\\end{cases}\n",
    "$$"
   ]
  },
  {
   "cell_type": "code",
   "execution_count": 102,
   "metadata": {},
   "outputs": [
    {
     "name": "stdout",
     "output_type": "stream",
     "text": [
      "Verified by tensorflow (TODO compare values with your hand-written calculations):\n",
      "dwx = 0.0079, dwh = -0.0060, db1 = -0.0043, dw = 0.0374, db2 = 0.0322\n"
     ]
    }
   ],
   "source": [
    "# use tensorflow to verify the answer.\n",
    "with tf.GradientTape() as G:\n",
    "    wx = tf.Variable(1.0, dtype=tf.float64)\n",
    "    wh = tf.Variable(-2.0, dtype=tf.float64)\n",
    "    b1 = tf.Variable(3.0, dtype=tf.float64)\n",
    "    w = tf.Variable(2.0, dtype=tf.float64)\n",
    "    b2 = tf.Variable(1.0, dtype=tf.float64)\n",
    "\n",
    "    h0 = tf.Variable(0.0, dtype=tf.float64)\n",
    "    x = tf.Variable((1.0, -1.0), dtype=tf.float64)\n",
    "    p = tf.Variable((0.0, 1.0), dtype=tf.float64)\n",
    "\n",
    "    y = []\n",
    "    h1 = tf.sigmoid(wx*x[0] + wh*h0 + b1)\n",
    "    y.append(tf.sigmoid(w*h1 + b2))\n",
    "    h2 = tf.sigmoid(wx*x[1] + wh*h1 + b1)\n",
    "    y.append(tf.sigmoid(w*h2 + b2))\n",
    "\n",
    "    loss = 0.5*(tf.square(p[0]-y[0]) + tf.square(p[1]-y[1]))\n",
    "\n",
    "    dw_t, db2_t, dwx_t, dwh_t, db1_t = G.gradient(loss, [w, b2, wx, wh, b1])\n",
    "\n",
    "\n",
    "print(\"Verified by tensorflow (TODO compare values with your hand-written calculations):\")\n",
    "print(\"dwx = {:.4f}, dwh = {:.4f}, db1 = {:.4f}, dw = {:.4f}, db2 = {:.4f}\".format(dwx_t, dwh_t, db1_t, dw_t, db2_t))"
   ]
  },
  {
   "cell_type": "markdown",
   "metadata": {},
   "source": [
    "## Part 2: Use TensorFlow modules to create XOR network (15%)\n",
    "\n",
    "In this part, you need to build and train an XOR network that can learn the XOR function. It is a very simple implementation of RNN and will give you an idea how RNN is built and how to train it."
   ]
  },
  {
   "cell_type": "markdown",
   "metadata": {},
   "source": [
    "### XOR network\n",
    "\n",
    "![xnor_net](./img/xnor.png)\n",
    "\n",
    "XOR network can learn the XOR ($\\oplus$) function. If input \n",
    "\n",
    "$$\n",
    "(x_0, ..., x_7) = (0, 0, 1, 1, 1, 1, 1, 0)\n",
    "$$\n",
    "\n",
    "Then output should be\n",
    "\n",
    "$$\n",
    "(y_0, ..., y_7) = (0, 0, 1, 0, 1, 0, 1, 1)\n",
    "$$\n",
    "\n",
    "That is, \n",
    "\n",
    "$$\n",
    "y_n = x_0 \\oplus x_1 \\oplus ... \\oplus x_{n-1} \\oplus x_{n}\n",
    "$$\n",
    "\n",
    "It is also interesting to realize that the equation effectively equivalates to \n",
    "\n",
    "$$\n",
    "y_i = \\sum_{j = 0}^i x_j \\mod 2\n",
    "$$"
   ]
  },
  {
   "cell_type": "markdown",
   "metadata": {},
   "source": [
    "### Create a data set\n",
    "This function provides a way to generate the data which is needed for the training process. You should utilize it when building your training function for the GRU. Read the source code for more information."
   ]
  },
  {
   "cell_type": "code",
   "execution_count": 103,
   "metadata": {},
   "outputs": [],
   "source": [
    "from utils.dataset import create_xor_dataset"
   ]
  },
  {
   "cell_type": "code",
   "execution_count": 104,
   "metadata": {},
   "outputs": [
    {
     "data": {
      "text/plain": [
       "(array([[[0],\n",
       "         [0],\n",
       "         [1],\n",
       "         [0],\n",
       "         [1],\n",
       "         [1],\n",
       "         [1],\n",
       "         [0]]]),\n",
       " array([[0, 0, 1, 1, 0, 1, 0, 0]]))"
      ]
     },
     "execution_count": 104,
     "metadata": {},
     "output_type": "execute_result"
    }
   ],
   "source": [
    "create_xor_dataset(1)"
   ]
  },
  {
   "cell_type": "markdown",
   "metadata": {},
   "source": [
    "### Build a network using a TensorFlow LSTMCell and GRUCell\n",
    "\n",
    "In this section, you are asked to build a XOR net using a TensorFlow LSTMCell and a GRUCell. In TensorFlow 2, these two cells are supported by Keras. Please check online documents below.\n",
    "\n",
    "Use TensorFlow to build and train your XOR net. The dataset is already provided. You will do the following:\n",
    "- Learn how to use `tf.keras.layers.LSTM` and `tf.keras.layers.GRU` in TensorFlow(Keras). \n",
    "- Choose appropriate parameters to build a model (Sequential Model in Keras is suggested). \n",
    "- Compile your model with appropriate loss function, optimizer, metrics, etc.\n",
    "- Train your model and see the loss history.\n",
    "\n",
    "Tips: \n",
    "1. Make sure that the shape of your data is corrrect after every step.\n",
    "2. Choose your loss function according to your network design.\n",
    "3. Choose 'accuracy' as your metrics when compiling your model.\n",
    "4. Make sure that names of history for the network with LSTMCell and GRUCell (which you used while training) are the same as the ones in the plotting functions.\n",
    "4. Feel free to ask TAs if you get stuck somewhere.\n",
    "\n",
    "Reference: \n",
    "1. [TensorFlow(Keras): Working with RNNs](https://keras.io/guides/working_with_rnns/)\n",
    "2. [TensorFlow: Recurrent Neural Networks (RNN) with Keras](https://www.tensorflow.org/guide/keras/rnn)\n",
    "3. [TensorFlow LSTM Cell](https://www.tensorflow.org/api_docs/python/tf/keras/layers/LSTM)\n",
    "4. [TensorFlow GRU Cell](https://www.tensorflow.org/api_docs/python/tf/keras/layers/GRU)\n",
    "5. [TensorFlow: Sequential Model](https://www.tensorflow.org/guide/keras/sequential_model)\n"
   ]
  },
  {
   "cell_type": "markdown",
   "metadata": {},
   "source": [
    "### Build a network with LSTM"
   ]
  },
  {
   "cell_type": "code",
   "execution_count": 105,
   "metadata": {
    "pycharm": {
     "is_executing": true
    }
   },
   "outputs": [
    {
     "name": "stdout",
     "output_type": "stream",
     "text": [
      "Input data: (1000, 8, 1) int64\n",
      "Labels: (1000, 8) int64\n"
     ]
    }
   ],
   "source": [
    "in_data, out_data = create_xor_dataset(1000) # create a dataset with a batch size of 1000\n",
    "print('Input data:', in_data.shape, in_data.dtype)\n",
    "print('Labels:', out_data.shape, out_data.dtype)"
   ]
  },
  {
   "cell_type": "markdown",
   "metadata": {},
   "source": [
    "#### Interpreting RNN Inputs\n",
    "\n",
    "Typically, the input data of an RNN has form of\n",
    "\n",
    "$$\n",
    "X \\in R^{T \\times N \\times D}\n",
    "$$\n",
    "\n",
    "where $T$ is ***the number of time steps***, $N$ is the batch size and $D$ is the dimension of each input. \n",
    "\n",
    "At each time step $t$, we feed \n",
    "\n",
    "$$\n",
    "X_t \\in R^{N \\times D}\n",
    "$$\n",
    "\n",
    "into the RNN to generate an output (i.e. the hidden state) $h_t \\in R^{N \\times K}$. \n",
    "\n",
    "Some tasks only take interest in the final output $h_T$, while others need the output from all of the time steps as \n",
    "\n",
    "$$\n",
    "H = [h_1, \\dots, h_T] \\in R^{T \\times N \\times K}\n",
    "$$"
   ]
  },
  {
   "cell_type": "markdown",
   "metadata": {},
   "source": [
    "<font color=\"red\"><strong>NOTE:</strong></font>\n",
    "\n",
    "In real-life RNN models, the orders of $T$ and $N$ are actually exchangable by specifying certain model parameters, which is `time_major` in Tensorflow and `batch_first` in Pytorch. \n",
    "\n",
    "Use whatever you like in your implementations, but make sure to have a consistent input shape. "
   ]
  },
  {
   "cell_type": "markdown",
   "metadata": {},
   "source": [
    "<span style=\"color:red\">__TODO:__</span> Answer the question: \n",
    "\n",
    "We talked about two usages of RNN model: \n",
    "\n",
    "- Return only $h_T$\n",
    "- Return all $H = [h_1, \\dots, h_T]$\n",
    "\n",
    "In the context of our XOR function, which one should we use? "
   ]
  },
  {
   "cell_type": "markdown",
   "metadata": {},
   "source": [
    "## Answer\n",
    "In case of XOR function, we will use:\n",
    " - Return all $H = [h_1, \\dots, h_T]$ where each $h_T$ for each input bit."
   ]
  },
  {
   "cell_type": "markdown",
   "metadata": {},
   "source": [
    "<font color=\"red\"><strong>HINT:</strong></font>\n",
    "\n",
    "Upon answering the question above, think about how this is done with Tensorflow. Please reference [`LSTM` documents](https://www.tensorflow.org/api_docs/python/tf/keras/layers/LSTM). "
   ]
  },
  {
   "cell_type": "markdown",
   "metadata": {},
   "source": [
    "#### Hint for creating a model with LSTM\n",
    "\n",
    "```\n",
    "model = tf.keras.Sequential() \n",
    "model.add([LAYER1])\n",
    "model.add([LAYER2])\n",
    "model.add([...])\n",
    "model.add([OUTPUT_LAYER])\n",
    "\n",
    "model.summary() \n",
    "model.compile(loss=[LOSS_FUNCTION], optimizer=[OPTIMIZER], metrics=['accuracy'])\n",
    "\n",
    "history_LSTM = model.fit(in_data, out_data, batch_size=64, epochs=15) \n",
    "```"
   ]
  },
  {
   "cell_type": "markdown",
   "metadata": {},
   "source": [
    "<span style=\"color:red\">__TODO:__</span> Build a LSTM Network"
   ]
  },
  {
   "cell_type": "code",
   "execution_count": 108,
   "metadata": {
    "pycharm": {
     "is_executing": true
    },
    "scrolled": true
   },
   "outputs": [
    {
     "name": "stdout",
     "output_type": "stream",
     "text": [
      "Model: \"sequential_37\"\n",
      "_________________________________________________________________\n",
      " Layer (type)                Output Shape              Param #   \n",
      "=================================================================\n",
      " lstm_30 (LSTM)              (None, 8, 128)            66560     \n",
      "                                                                 \n",
      " dense_106 (Dense)           (None, 8, 1)              129       \n",
      "                                                                 \n",
      "=================================================================\n",
      "Total params: 66,689\n",
      "Trainable params: 66,689\n",
      "Non-trainable params: 0\n",
      "_________________________________________________________________\n",
      "Epoch 1/15\n",
      "13/13 [==============================] - 2s 52ms/step - loss: 0.6901 - accuracy: 0.5672 - val_loss: 0.6849 - val_accuracy: 0.5531\n",
      "Epoch 2/15\n",
      "13/13 [==============================] - 0s 15ms/step - loss: 0.6816 - accuracy: 0.5566 - val_loss: 0.6676 - val_accuracy: 0.5444\n",
      "Epoch 3/15\n",
      "13/13 [==============================] - 0s 14ms/step - loss: 0.6419 - accuracy: 0.5544 - val_loss: 0.5912 - val_accuracy: 0.6044\n",
      "Epoch 4/15\n",
      "13/13 [==============================] - 0s 13ms/step - loss: 0.5597 - accuracy: 0.6448 - val_loss: 0.5271 - val_accuracy: 0.6637\n",
      "Epoch 5/15\n",
      "13/13 [==============================] - 0s 14ms/step - loss: 0.5162 - accuracy: 0.6841 - val_loss: 0.4983 - val_accuracy: 0.6719\n",
      "Epoch 6/15\n",
      "13/13 [==============================] - 0s 15ms/step - loss: 0.4794 - accuracy: 0.7023 - val_loss: 0.4096 - val_accuracy: 0.7731\n",
      "Epoch 7/15\n",
      "13/13 [==============================] - 0s 14ms/step - loss: 0.2399 - accuracy: 0.9058 - val_loss: 0.0619 - val_accuracy: 1.0000\n",
      "Epoch 8/15\n",
      "13/13 [==============================] - 0s 15ms/step - loss: 0.0343 - accuracy: 0.9994 - val_loss: 0.0135 - val_accuracy: 1.0000\n",
      "Epoch 9/15\n",
      "13/13 [==============================] - 0s 16ms/step - loss: 0.0088 - accuracy: 1.0000 - val_loss: 0.0052 - val_accuracy: 1.0000\n",
      "Epoch 10/15\n",
      "13/13 [==============================] - 0s 16ms/step - loss: 0.0040 - accuracy: 1.0000 - val_loss: 0.0031 - val_accuracy: 1.0000\n",
      "Epoch 11/15\n",
      "13/13 [==============================] - 0s 15ms/step - loss: 0.0026 - accuracy: 1.0000 - val_loss: 0.0022 - val_accuracy: 1.0000\n",
      "Epoch 12/15\n",
      "13/13 [==============================] - 0s 13ms/step - loss: 0.0020 - accuracy: 1.0000 - val_loss: 0.0017 - val_accuracy: 1.0000\n",
      "Epoch 13/15\n",
      "13/13 [==============================] - 0s 13ms/step - loss: 0.0016 - accuracy: 1.0000 - val_loss: 0.0015 - val_accuracy: 1.0000\n",
      "Epoch 14/15\n",
      "13/13 [==============================] - 0s 15ms/step - loss: 0.0013 - accuracy: 1.0000 - val_loss: 0.0012 - val_accuracy: 1.0000\n",
      "Epoch 15/15\n",
      "13/13 [==============================] - 0s 13ms/step - loss: 0.0012 - accuracy: 1.0000 - val_loss: 0.0011 - val_accuracy: 1.0000\n"
     ]
    }
   ],
   "source": [
    "###################################################\n",
    "# TODO: build a network with LSTM and train it    #\n",
    "#                                                 #\n",
    "###################################################\n",
    "model = tf.keras.Sequential()\n",
    "model.add(tf.keras.layers.LSTM(128, input_shape=(8, 1), return_sequences=True))\n",
    "model.add(tf.keras.layers.Dense(1, activation=\"sigmoid\"))\n",
    "\n",
    "model.summary()\n",
    "model.compile(loss=tf.keras.losses.BinaryCrossentropy(),\n",
    "              optimizer=tf.keras.optimizers.Adam(learning_rate=0.01),\n",
    "              metrics=['accuracy'])\n",
    "history_LSTM = model.fit(in_data, out_data, batch_size=64, epochs=15, validation_split=0.2)\n",
    "\n",
    "\n",
    "###################################################\n",
    "# END TODO                                        #\n",
    "###################################################"
   ]
  },
  {
   "cell_type": "markdown",
   "metadata": {},
   "source": [
    "### Build a network with GRU"
   ]
  },
  {
   "cell_type": "code",
   "execution_count": 109,
   "metadata": {
    "pycharm": {
     "is_executing": true
    }
   },
   "outputs": [
    {
     "name": "stdout",
     "output_type": "stream",
     "text": [
      "Input data: (1000, 8, 1) int64\n",
      "Labels: (1000, 8) int64\n"
     ]
    }
   ],
   "source": [
    "in_data, out_data = create_xor_dataset(1000) # create a dataset with a batch size of 1000\n",
    "print('Input data:', in_data.shape, in_data.dtype)\n",
    "print('Labels:', out_data.shape, out_data.dtype)"
   ]
  },
  {
   "cell_type": "markdown",
   "metadata": {},
   "source": [
    "<span style=\"color:red\">__TODO:__</span> Build a GRU Network"
   ]
  },
  {
   "cell_type": "code",
   "execution_count": 110,
   "metadata": {},
   "outputs": [
    {
     "name": "stdout",
     "output_type": "stream",
     "text": [
      "Model: \"sequential_38\"\n",
      "_________________________________________________________________\n",
      " Layer (type)                Output Shape              Param #   \n",
      "=================================================================\n",
      " gru_7 (GRU)                 (None, 8, 128)            50304     \n",
      "                                                                 \n",
      " dense_107 (Dense)           (None, 8, 1)              129       \n",
      "                                                                 \n",
      "=================================================================\n",
      "Total params: 50,433\n",
      "Trainable params: 50,433\n",
      "Non-trainable params: 0\n",
      "_________________________________________________________________\n",
      "Epoch 1/15\n",
      "13/13 [==============================] - 3s 88ms/step - loss: 0.6877 - accuracy: 0.5547 - val_loss: 0.6831 - val_accuracy: 0.5675\n",
      "Epoch 2/15\n",
      "13/13 [==============================] - 0s 14ms/step - loss: 0.6749 - accuracy: 0.5717 - val_loss: 0.6537 - val_accuracy: 0.5656\n",
      "Epoch 3/15\n",
      "13/13 [==============================] - 0s 13ms/step - loss: 0.6128 - accuracy: 0.6300 - val_loss: 0.5599 - val_accuracy: 0.7094\n",
      "Epoch 4/15\n",
      "13/13 [==============================] - 0s 13ms/step - loss: 0.5307 - accuracy: 0.6953 - val_loss: 0.4963 - val_accuracy: 0.7038\n",
      "Epoch 5/15\n",
      "13/13 [==============================] - 0s 14ms/step - loss: 0.4649 - accuracy: 0.7327 - val_loss: 0.4334 - val_accuracy: 0.7475\n",
      "Epoch 6/15\n",
      "13/13 [==============================] - 0s 14ms/step - loss: 0.3667 - accuracy: 0.8269 - val_loss: 0.3121 - val_accuracy: 0.8244\n",
      "Epoch 7/15\n",
      "13/13 [==============================] - 0s 20ms/step - loss: 0.1492 - accuracy: 0.9528 - val_loss: 0.0440 - val_accuracy: 0.9944\n",
      "Epoch 8/15\n",
      "13/13 [==============================] - 0s 12ms/step - loss: 0.0198 - accuracy: 0.9989 - val_loss: 0.0079 - val_accuracy: 1.0000\n",
      "Epoch 9/15\n",
      "13/13 [==============================] - 0s 15ms/step - loss: 0.0056 - accuracy: 1.0000 - val_loss: 0.0038 - val_accuracy: 1.0000\n",
      "Epoch 10/15\n",
      "13/13 [==============================] - 0s 14ms/step - loss: 0.0032 - accuracy: 1.0000 - val_loss: 0.0026 - val_accuracy: 1.0000\n",
      "Epoch 11/15\n",
      "13/13 [==============================] - 0s 14ms/step - loss: 0.0023 - accuracy: 1.0000 - val_loss: 0.0020 - val_accuracy: 1.0000\n",
      "Epoch 12/15\n",
      "13/13 [==============================] - 0s 15ms/step - loss: 0.0018 - accuracy: 1.0000 - val_loss: 0.0016 - val_accuracy: 1.0000\n",
      "Epoch 13/15\n",
      "13/13 [==============================] - 0s 15ms/step - loss: 0.0015 - accuracy: 1.0000 - val_loss: 0.0014 - val_accuracy: 1.0000\n",
      "Epoch 14/15\n",
      "13/13 [==============================] - 0s 14ms/step - loss: 0.0013 - accuracy: 1.0000 - val_loss: 0.0012 - val_accuracy: 1.0000\n",
      "Epoch 15/15\n",
      "13/13 [==============================] - 0s 16ms/step - loss: 0.0011 - accuracy: 1.0000 - val_loss: 0.0010 - val_accuracy: 1.0000\n"
     ]
    }
   ],
   "source": [
    "###################################################\n",
    "# TODO: build a model with GRU and train it.      #\n",
    "#                                                 #\n",
    "###################################################\n",
    "model = tf.keras.Sequential()\n",
    "model.add(tf.keras.layers.GRU(128, input_shape=(8, 1), return_sequences=True))\n",
    "model.add(tf.keras.layers.Dense(1, activation=\"sigmoid\"))\n",
    "\n",
    "model.summary()\n",
    "model.compile(loss=tf.keras.losses.BinaryCrossentropy(),\n",
    "              optimizer=tf.keras.optimizers.Adam(learning_rate=0.01),\n",
    "              metrics=['accuracy'])\n",
    "history_GRU = model.fit(in_data, out_data, batch_size=64, epochs=15, validation_split=0.2)\n",
    "\n",
    "\n",
    "###################################################\n",
    "# END TODO                                        #\n",
    "###################################################"
   ]
  },
  {
   "cell_type": "markdown",
   "metadata": {},
   "source": [
    "### Visualize loss and accuracy"
   ]
  },
  {
   "cell_type": "code",
   "execution_count": 111,
   "metadata": {},
   "outputs": [
    {
     "data": {
      "image/png": "[encoded data removed]",
      "text/plain": [
       "<Figure size 432x288 with 1 Axes>"
      ]
     },
     "metadata": {
      "needs_background": "light"
     },
     "output_type": "display_data"
    }
   ],
   "source": [
    "plt.plot(history_LSTM.history['loss'], label='LSTM')\n",
    "plt.plot(history_GRU.history['loss'], label='GRU')\n",
    "plt.title('LSTM/GRU loss')\n",
    "plt.ylabel('loss')\n",
    "plt.xlabel('No. epoch')\n",
    "plt.legend(loc=\"upper left\")\n",
    "plt.show()"
   ]
  },
  {
   "cell_type": "code",
   "execution_count": 112,
   "metadata": {},
   "outputs": [
    {
     "data": {
      "image/png": "[encoded data removed]",
      "text/plain": [
       "<Figure size 432x288 with 1 Axes>"
      ]
     },
     "metadata": {
      "needs_background": "light"
     },
     "output_type": "display_data"
    }
   ],
   "source": [
    "plt.plot(history_LSTM.history['accuracy'], label='LSTM')\n",
    "plt.plot(history_GRU.history['accuracy'], label='GRU')\n",
    "plt.title('LSTM/GRU accuracy')\n",
    "plt.ylabel('accuracy')\n",
    "plt.xlabel('No. epoch')\n",
    "plt.legend(loc=\"upper left\")\n",
    "plt.show()"
   ]
  },
  {
   "cell_type": "markdown",
   "metadata": {},
   "source": [
    "<span style=\"color:red\">__TODO:__</span> Answer the question:\n",
    "\n",
    "Which part of this task have you been struggling with most of the  time? Describe how you resolved it.s"
   ]
  },
  {
   "cell_type": "markdown",
   "metadata": {},
   "source": [
    "### Answer\n",
    "I had a hard time understanding LSTM architecture and its implementation. Thus, I read many articles on LSTM and Keras' implementation documents to understand better."
   ]
  },
  {
   "cell_type": "markdown",
   "metadata": {},
   "source": [
    "<span style=\"color:red\">__TODO:__</span> Answer the question:\n",
    "\n",
    "Which loss function did you use? Why?"
   ]
  },
  {
   "cell_type": "markdown",
   "metadata": {},
   "source": [
    "### Answer\n",
    "\n"
   ]
  },
  {
   "cell_type": "markdown",
   "metadata": {},
   "source": [
    "## Part 3 :  Build your own LSTMCell (25%)\n",
    "\n",
    "In this part, you need to build your own LSTM Cell to achieve the LSTM functionality (including different types of gates that constitute the cell).\n",
    "\n",
    "It is recommanded to see the course slides and [`LSTM` source code](https://github.com/keras-team/keras/blob/v2.10.0/keras/layers/rnn/lstm.py). [This link](https://colah.github.io/posts/2015-08-Understanding-LSTMs) also provides a good intuition. \n",
    "\n",
    "![](./img/lstm_cell.png)\n",
    "\n",
    "**Note that this is a simplified figure and not all operations are illustrated.** Please refer to the lectures and follow the equations. "
   ]
  },
  {
   "cell_type": "markdown",
   "metadata": {},
   "source": [
    "Assume some **old** carry state $c_{t-1}$ and hidden state $h_{t-1}$, we try to compute the **new states** given some input $X_t$ using the ideas of LSTM. \n",
    "\n",
    "Remember that for an LSTM cell, we actually have (yellow boxes from left to right) a **forget gate**, an **input gate**, a **cell** and an **output gate**, whose output can be denoted by $f_{t-1}$, $i_{t-1}$, $\\tilde{c}_{t-1}$ and $o_{t-1}$. Each yellow box in the graph denotes a linear projection followed by a particular activation (`sigmoid` or `tanh`). \n",
    "\n",
    "Then for some input $X_t \\in R^{N \\times D}$ and a target output dimension $K$ (also called \"units\"), let's first combine the inputs with the old hidden state $h_{t-1} \\in R^{N \\times K}$ by projecting them into the same dimension \n",
    "\n",
    "$$\n",
    "Z_t = X_t + h_{t-1} W_h\n",
    "$$\n",
    "\n",
    "where $W_h \\in R^{K \\times D}$. Then all new states can be computed one by one as \n",
    "\n",
    "$$\n",
    "\\begin{cases}\n",
    "f_t = \\sigma (Z_t W_f) \\\\\n",
    "i_t = \\sigma (Z_t W_i) \\\\\n",
    "\\tilde{c}_t = \\tanh (Z_t W_c) \\\\\n",
    "o_t = \\sigma (Z_t W_o)\n",
    "\\end{cases}\n",
    "$$\n",
    "\n",
    "where the weights (also called kernels)\n",
    "\n",
    "$$\n",
    "W_f, W_i, W_c, W_o \\in R^{D \\times K}\n",
    "$$\n",
    "\n",
    "Then the **new** carry state is given by the **old carry state** passing through the forget gate and combining with the input\n",
    "\n",
    "$$\n",
    "c_t = f_t \\odot c_{t-1} + i_t \\odot \\tilde{c}_t\n",
    "$$\n",
    "\n",
    "And the hidden state is given by the **new carry state** passing through the output gate\n",
    "\n",
    "$$\n",
    "h_t = o_t \\odot \\tanh (c_t)\n",
    "$$"
   ]
  },
  {
   "cell_type": "markdown",
   "metadata": {},
   "source": [
    "Note that when computing each state, we are actually computing the four linear projections on $Z_t$, which is **four** projections on $X_t$ and **eight** (becuase of the $W_h$) projections on $h_{t-1}$. This doesn't look smart enough, so let's rewrite the equations. \n",
    "\n",
    "First define a kernel $W \\in R^{D \\times 4 K}$, which can be thought of as\n",
    "\n",
    "$$\n",
    "W \\gets [W_f, W_i, W_c, W_o]\n",
    "$$\n",
    "\n",
    "Similarly define a recurrent kernel $W_r \\in R^{K \\times 4 K}$, which is equivalent to \n",
    "\n",
    "$$\n",
    "W_r \\gets W_h W = [W_h W_f, W_h W_i, W_h W_c, W_h W_o]\n",
    "$$\n",
    "\n",
    "\n",
    "We can, of course, also add a bias $b \\in R^{4 K}$, and now all the projections simplifies to \n",
    "\n",
    "$$\n",
    "Z_t = X_t W + h_{t-1} W_r + \\mathbb{1} b^T \\in R^{N \\times 4 K}\n",
    "$$\n",
    "\n",
    "We do exactly **one** projection on $X_t$ and **one** on $h_{t-1}$. Then we partition $Z_t$ into \n",
    "\n",
    "$$\n",
    "[z_t^f, z_t^i, z_t^c, z_t^o] \\gets Z_t, \\quad\n",
    "z_t^* \\in R^{N \\times K}\n",
    "$$\n",
    "\n",
    "Easily, \n",
    "\n",
    "$$\n",
    "\\begin{cases}\n",
    "f_t = \\sigma (z_t^f) \\\\\n",
    "i_t = \\sigma (z_t^i) \\\\\n",
    "\\tilde{c}_t = \\tanh (z_t^c) \\\\\n",
    "o_t = \\sigma (z_t^o)\n",
    "\\end{cases}\n",
    "$$\n",
    "\n",
    "And the rest stays the same. "
   ]
  },
  {
   "cell_type": "markdown",
   "metadata": {},
   "source": [
    "<span style=\"color:red\">__TODO:__</span> \n",
    "\n",
    "1. Complete the model `LSTMCell` in **utils/LSTM.py**\n",
    "2. Verify the function with Tensorflow by running the provided code"
   ]
  },
  {
   "cell_type": "markdown",
   "metadata": {},
   "source": [
    "<span style=\"color:red\">__NOTE:__</span> \n",
    "\n",
    "You should use the \"simplified\" (second) set of equations as tensorflow does. "
   ]
  },
  {
   "cell_type": "code",
   "execution_count": 5,
   "metadata": {},
   "outputs": [],
   "source": [
    "from utils.LSTM import LSTMCell\n",
    "\n",
    "batch_size = 4\n",
    "input_dim = 8\n",
    "units = 64\n",
    "\n",
    "inputs = tf.random.normal((batch_size, input_dim))\n",
    "states = [tf.random.normal((batch_size, units)), tf.zeros((batch_size, units))]"
   ]
  },
  {
   "cell_type": "code",
   "execution_count": 7,
   "metadata": {},
   "outputs": [
    {
     "data": {
      "text/plain": [
       "TensorShape([4, 8])"
      ]
     },
     "execution_count": 7,
     "metadata": {},
     "output_type": "execute_result"
    }
   ],
   "source": [
    "inputs.shape"
   ]
  },
  {
   "cell_type": "code",
   "execution_count": 113,
   "metadata": {},
   "outputs": [
    {
     "name": "stdout",
     "output_type": "stream",
     "text": [
      "Simple verification:\n",
      "Is h correct? True\n",
      "Is c correct? True\n"
     ]
    }
   ],
   "source": [
    "# Veirification Code\n",
    "# Please don't change anything\n",
    "\n",
    "from utils.LSTM import LSTMCell\n",
    "\n",
    "batch_size = 4\n",
    "input_dim = 8\n",
    "units = 64\n",
    "\n",
    "inputs = tf.random.normal((batch_size, input_dim))\n",
    "states = [tf.random.normal((batch_size, units)), tf.zeros((batch_size, units))]\n",
    "\n",
    "# By default, the weights will be initialized randomly (as is specified in the code). \n",
    "# Here we try to enforce deterministic (non-random) initializers \n",
    "# so that the two results can be correctly compared. \n",
    "# NOTE: You should NOT do this and leave them to default during actual training\n",
    "\n",
    "lstm_cell = LSTMCell(\n",
    "    units, \n",
    "    kernel_initializer=tf.keras.initializers.Ones, \n",
    "    recurrent_initializer=tf.keras.initializers.Ones, \n",
    "    bias_initializer=tf.keras.initializers.Zeros\n",
    ")\n",
    "h, (_, c) = lstm_cell(inputs, states)\n",
    "\n",
    "lstm_cell_tf = tf.keras.layers.LSTMCell(\n",
    "    units, \n",
    "    kernel_initializer='ones', \n",
    "    recurrent_initializer='ones', \n",
    "    bias_initializer='zeros'\n",
    ")\n",
    "h_tf, (_, c_tf) = lstm_cell_tf(inputs, states)\n",
    "\n",
    "print('Simple verification:')\n",
    "print('Is h correct?', np.allclose(h.numpy(), h_tf.numpy()))\n",
    "print('Is c correct?', np.allclose(c.numpy(), c_tf.numpy()))"
   ]
  },
  {
   "cell_type": "code",
   "execution_count": 115,
   "metadata": {},
   "outputs": [
    {
     "data": {
      "text/plain": [
       "TensorShape([4, 64])"
      ]
     },
     "execution_count": 115,
     "metadata": {},
     "output_type": "execute_result"
    }
   ],
   "source": [
    "h.shape"
   ]
  },
  {
   "cell_type": "code",
   "execution_count": 16,
   "metadata": {},
   "outputs": [],
   "source": [
    "in_data, out_data = create_xor_dataset(1024)# create a dataset with a batch size of 1000"
   ]
  },
  {
   "cell_type": "code",
   "execution_count": 31,
   "metadata": {},
   "outputs": [
    {
     "data": {
      "text/plain": [
       "(1000, 8, 1)"
      ]
     },
     "execution_count": 31,
     "metadata": {},
     "output_type": "execute_result"
    }
   ],
   "source": [
    "in_data.shape"
   ]
  },
  {
   "cell_type": "markdown",
   "metadata": {},
   "source": [
    "#### Hint on building a model with your own LSTMCell\n",
    "\n",
    "When creating an RNN with your own custom cell, you can just plug in your `LSTMCell` as a building block into a basic `RNN` layer, specify other parameters (e.g. input_shape) as needed, and add it into your model as you did with other layers before. \n",
    "\n",
    "```\n",
    "self.rnn = tf.keras.layers.RNN([YOUR_CELL], **OTHER_ARGS)\n",
    "```\n",
    "\n",
    "For details, please refer to https://www.tensorflow.org/guide/keras/rnn. "
   ]
  },
  {
   "cell_type": "markdown",
   "metadata": {},
   "source": [
    "<span style=\"color:red\">__TODO:__</span> Complete the model `LSTMModel` in **utils/LSTM.py**"
   ]
  },
  {
   "cell_type": "markdown",
   "metadata": {},
   "source": [
    "<span style=\"color:red\">__NOTE:__</span> \n",
    "\n",
    "We are trying to use a custom layer (our `LSTMCell`) with multiple `call` arguments (\"inputs\" and \"states\"). The pre-building of these types of models is currently NOT allowed in tensorflow. \n",
    "\n",
    "So be sure NOT to call `model.summary()`. Compile and fit it directly and the building will be automatically done in runtime. "
   ]
  },
  {
   "cell_type": "markdown",
   "metadata": {},
   "source": [
    "<span style=\"color:red\">__TODO:__</span> Train your `LSTMModel`"
   ]
  },
  {
   "cell_type": "code",
   "execution_count": 96,
   "metadata": {},
   "outputs": [
    {
     "name": "stdout",
     "output_type": "stream",
     "text": [
      "Epoch 1/70\n",
      "160/160 [==============================] - 3s 8ms/step - loss: 0.7012 - accuracy: 0.0787 - val_loss: 0.6951 - val_accuracy: 0.0200\n",
      "Epoch 2/70\n",
      "160/160 [==============================] - 1s 5ms/step - loss: 0.6963 - accuracy: 0.1112 - val_loss: 0.6974 - val_accuracy: 0.0200\n",
      "Epoch 3/70\n",
      "160/160 [==============================] - 1s 5ms/step - loss: 0.6966 - accuracy: 0.1312 - val_loss: 0.6976 - val_accuracy: 0.0200\n",
      "Epoch 4/70\n",
      "160/160 [==============================] - 1s 5ms/step - loss: 0.6960 - accuracy: 0.0613 - val_loss: 0.6965 - val_accuracy: 0.1150\n",
      "Epoch 5/70\n",
      "160/160 [==============================] - 1s 5ms/step - loss: 0.6979 - accuracy: 0.0475 - val_loss: 0.6959 - val_accuracy: 0.1150\n",
      "Epoch 6/70\n",
      "160/160 [==============================] - 1s 5ms/step - loss: 0.6964 - accuracy: 0.0975 - val_loss: 0.6965 - val_accuracy: 0.0200\n",
      "Epoch 7/70\n",
      "160/160 [==============================] - 1s 5ms/step - loss: 0.6972 - accuracy: 0.1125 - val_loss: 0.7020 - val_accuracy: 0.0100\n",
      "Epoch 8/70\n",
      "160/160 [==============================] - 1s 5ms/step - loss: 0.6962 - accuracy: 0.1000 - val_loss: 0.6943 - val_accuracy: 0.0200\n",
      "Epoch 9/70\n",
      "160/160 [==============================] - 1s 6ms/step - loss: 0.6954 - accuracy: 0.0913 - val_loss: 0.7013 - val_accuracy: 0.1150\n",
      "Epoch 10/70\n",
      "160/160 [==============================] - 1s 6ms/step - loss: 0.6969 - accuracy: 0.0875 - val_loss: 0.6968 - val_accuracy: 0.0200\n",
      "Epoch 11/70\n",
      "160/160 [==============================] - 1s 5ms/step - loss: 0.6974 - accuracy: 0.0637 - val_loss: 0.6969 - val_accuracy: 0.0200\n",
      "Epoch 12/70\n",
      "160/160 [==============================] - 1s 5ms/step - loss: 0.6969 - accuracy: 0.0312 - val_loss: 0.6979 - val_accuracy: 0.1150\n",
      "Epoch 13/70\n",
      "160/160 [==============================] - 1s 5ms/step - loss: 0.6951 - accuracy: 0.1587 - val_loss: 0.6959 - val_accuracy: 0.4950\n",
      "Epoch 14/70\n",
      "160/160 [==============================] - 1s 6ms/step - loss: 0.6935 - accuracy: 0.3388 - val_loss: 0.6902 - val_accuracy: 0.0350\n",
      "Epoch 15/70\n",
      "160/160 [==============================] - 1s 6ms/step - loss: 0.6915 - accuracy: 0.4525 - val_loss: 0.6908 - val_accuracy: 0.0950\n",
      "Epoch 16/70\n",
      "160/160 [==============================] - 1s 5ms/step - loss: 0.6922 - accuracy: 0.2200 - val_loss: 0.6879 - val_accuracy: 0.3300\n",
      "Epoch 17/70\n",
      "160/160 [==============================] - 1s 5ms/step - loss: 0.6934 - accuracy: 0.2262 - val_loss: 0.6941 - val_accuracy: 0.5300\n",
      "Epoch 18/70\n",
      "160/160 [==============================] - 1s 5ms/step - loss: 0.6912 - accuracy: 0.3525 - val_loss: 0.6961 - val_accuracy: 0.0950\n",
      "Epoch 19/70\n",
      "160/160 [==============================] - 1s 6ms/step - loss: 0.6918 - accuracy: 0.2225 - val_loss: 0.6961 - val_accuracy: 0.5100\n",
      "Epoch 20/70\n",
      "160/160 [==============================] - 1s 6ms/step - loss: 0.6912 - accuracy: 0.1925 - val_loss: 0.6910 - val_accuracy: 0.5500\n",
      "Epoch 21/70\n",
      "160/160 [==============================] - 1s 6ms/step - loss: 0.6912 - accuracy: 0.3125 - val_loss: 0.6939 - val_accuracy: 0.5500\n",
      "Epoch 22/70\n",
      "160/160 [==============================] - 1s 6ms/step - loss: 0.6908 - accuracy: 0.2387 - val_loss: 0.6865 - val_accuracy: 0.5600\n",
      "Epoch 23/70\n",
      "160/160 [==============================] - 1s 6ms/step - loss: 0.6898 - accuracy: 0.2212 - val_loss: 0.6913 - val_accuracy: 0.0250\n",
      "Epoch 24/70\n",
      "160/160 [==============================] - 1s 5ms/step - loss: 0.6912 - accuracy: 0.1725 - val_loss: 0.6899 - val_accuracy: 0.5450\n",
      "Epoch 25/70\n",
      "160/160 [==============================] - 1s 6ms/step - loss: 0.6890 - accuracy: 0.3625 - val_loss: 0.6897 - val_accuracy: 0.0300\n",
      "Epoch 26/70\n",
      "160/160 [==============================] - 1s 6ms/step - loss: 0.6890 - accuracy: 0.2362 - val_loss: 0.6901 - val_accuracy: 0.5250\n",
      "Epoch 27/70\n",
      "160/160 [==============================] - 1s 6ms/step - loss: 0.6890 - accuracy: 0.3000 - val_loss: 0.6905 - val_accuracy: 0.0850\n",
      "Epoch 28/70\n",
      "160/160 [==============================] - 1s 6ms/step - loss: 0.6887 - accuracy: 0.2225 - val_loss: 0.6832 - val_accuracy: 0.3200\n",
      "Epoch 29/70\n",
      "160/160 [==============================] - 1s 6ms/step - loss: 0.6876 - accuracy: 0.3350 - val_loss: 0.6870 - val_accuracy: 0.2900\n",
      "Epoch 30/70\n",
      "160/160 [==============================] - 1s 5ms/step - loss: 0.6880 - accuracy: 0.2375 - val_loss: 0.6849 - val_accuracy: 0.3100\n",
      "Epoch 31/70\n",
      "160/160 [==============================] - 1s 5ms/step - loss: 0.6877 - accuracy: 0.1800 - val_loss: 0.6833 - val_accuracy: 0.5450\n",
      "Epoch 32/70\n",
      "160/160 [==============================] - 1s 6ms/step - loss: 0.6867 - accuracy: 0.2713 - val_loss: 0.6875 - val_accuracy: 0.0400\n",
      "Epoch 33/70\n",
      "160/160 [==============================] - 1s 6ms/step - loss: 0.6857 - accuracy: 0.3000 - val_loss: 0.6874 - val_accuracy: 0.5050\n",
      "Epoch 34/70\n",
      "160/160 [==============================] - 1s 5ms/step - loss: 0.6881 - accuracy: 0.4712 - val_loss: 0.6883 - val_accuracy: 0.5300\n",
      "Epoch 35/70\n",
      "160/160 [==============================] - 1s 5ms/step - loss: 0.6828 - accuracy: 0.4825 - val_loss: 0.6783 - val_accuracy: 0.5400\n",
      "Epoch 36/70\n",
      "160/160 [==============================] - 1s 5ms/step - loss: 0.6801 - accuracy: 0.5462 - val_loss: 0.6804 - val_accuracy: 0.5150\n",
      "Epoch 37/70\n",
      "160/160 [==============================] - 1s 6ms/step - loss: 0.6805 - accuracy: 0.5050 - val_loss: 0.6739 - val_accuracy: 0.5150\n",
      "Epoch 38/70\n",
      "160/160 [==============================] - 1s 6ms/step - loss: 0.6784 - accuracy: 0.5088 - val_loss: 0.6790 - val_accuracy: 0.5050\n",
      "Epoch 39/70\n",
      "160/160 [==============================] - 1s 6ms/step - loss: 0.6798 - accuracy: 0.4762 - val_loss: 0.6811 - val_accuracy: 0.5150\n",
      "Epoch 40/70\n",
      "160/160 [==============================] - 1s 6ms/step - loss: 0.6810 - accuracy: 0.5350 - val_loss: 0.6860 - val_accuracy: 0.5050\n",
      "Epoch 41/70\n",
      "160/160 [==============================] - 1s 6ms/step - loss: 0.6853 - accuracy: 0.3713 - val_loss: 0.6837 - val_accuracy: 0.5600\n",
      "Epoch 42/70\n",
      "160/160 [==============================] - 1s 6ms/step - loss: 0.6863 - accuracy: 0.4425 - val_loss: 0.6819 - val_accuracy: 0.5050\n",
      "Epoch 43/70\n",
      "160/160 [==============================] - 1s 6ms/step - loss: 0.6851 - accuracy: 0.4588 - val_loss: 0.6836 - val_accuracy: 0.5100\n",
      "Epoch 44/70\n",
      "160/160 [==============================] - 1s 6ms/step - loss: 0.6857 - accuracy: 0.3600 - val_loss: 0.6829 - val_accuracy: 0.5050\n",
      "Epoch 45/70\n",
      "160/160 [==============================] - 1s 6ms/step - loss: 0.6845 - accuracy: 0.3825 - val_loss: 0.6812 - val_accuracy: 0.3050\n",
      "Epoch 46/70\n",
      "160/160 [==============================] - 1s 6ms/step - loss: 0.6843 - accuracy: 0.2688 - val_loss: 0.6831 - val_accuracy: 0.5500\n",
      "Epoch 47/70\n",
      "160/160 [==============================] - 1s 5ms/step - loss: 0.6846 - accuracy: 0.2225 - val_loss: 0.6833 - val_accuracy: 0.0900\n",
      "Epoch 48/70\n",
      "160/160 [==============================] - 1s 6ms/step - loss: 0.6845 - accuracy: 0.2300 - val_loss: 0.6806 - val_accuracy: 0.5450\n",
      "Epoch 49/70\n",
      "160/160 [==============================] - 1s 5ms/step - loss: 0.6848 - accuracy: 0.2562 - val_loss: 0.6830 - val_accuracy: 0.3000\n",
      "Epoch 50/70\n",
      "160/160 [==============================] - 1s 6ms/step - loss: 0.6839 - accuracy: 0.3525 - val_loss: 0.6845 - val_accuracy: 0.5450\n",
      "Epoch 51/70\n",
      "160/160 [==============================] - 1s 6ms/step - loss: 0.6844 - accuracy: 0.3225 - val_loss: 0.6860 - val_accuracy: 0.0850\n",
      "Epoch 52/70\n",
      "160/160 [==============================] - 1s 7ms/step - loss: 0.6845 - accuracy: 0.2750 - val_loss: 0.6851 - val_accuracy: 0.5300\n",
      "Epoch 53/70\n",
      "160/160 [==============================] - 1s 7ms/step - loss: 0.6836 - accuracy: 0.2138 - val_loss: 0.6850 - val_accuracy: 0.5450\n",
      "Epoch 54/70\n",
      "160/160 [==============================] - 1s 6ms/step - loss: 0.6835 - accuracy: 0.3400 - val_loss: 0.6860 - val_accuracy: 0.2950\n",
      "Epoch 55/70\n",
      "160/160 [==============================] - 1s 6ms/step - loss: 0.6843 - accuracy: 0.2675 - val_loss: 0.6851 - val_accuracy: 0.0250\n",
      "Epoch 56/70\n",
      "160/160 [==============================] - 1s 7ms/step - loss: 0.6838 - accuracy: 0.2788 - val_loss: 0.6819 - val_accuracy: 0.0450\n",
      "Epoch 57/70\n",
      "160/160 [==============================] - 1s 6ms/step - loss: 0.6836 - accuracy: 0.2313 - val_loss: 0.6816 - val_accuracy: 0.5100\n",
      "Epoch 58/70\n"
     ]
    },
    {
     "name": "stdout",
     "output_type": "stream",
     "text": [
      "160/160 [==============================] - 1s 6ms/step - loss: 0.6827 - accuracy: 0.3425 - val_loss: 0.6809 - val_accuracy: 0.5100\n",
      "Epoch 59/70\n",
      "160/160 [==============================] - 1s 6ms/step - loss: 0.6834 - accuracy: 0.2537 - val_loss: 0.6784 - val_accuracy: 0.5350\n",
      "Epoch 60/70\n",
      "160/160 [==============================] - 1s 6ms/step - loss: 0.6813 - accuracy: 0.2925 - val_loss: 0.6867 - val_accuracy: 0.5400\n",
      "Epoch 61/70\n",
      "160/160 [==============================] - 1s 6ms/step - loss: 0.6830 - accuracy: 0.3050 - val_loss: 0.6800 - val_accuracy: 0.5450\n",
      "Epoch 62/70\n",
      "160/160 [==============================] - 1s 5ms/step - loss: 0.6822 - accuracy: 0.3587 - val_loss: 0.6794 - val_accuracy: 0.5300\n",
      "Epoch 63/70\n",
      "160/160 [==============================] - 1s 6ms/step - loss: 0.6807 - accuracy: 0.2887 - val_loss: 0.6817 - val_accuracy: 0.0550\n",
      "Epoch 64/70\n",
      "160/160 [==============================] - 1s 6ms/step - loss: 0.6826 - accuracy: 0.2562 - val_loss: 0.6849 - val_accuracy: 0.0150\n",
      "Epoch 65/70\n",
      "160/160 [==============================] - 1s 6ms/step - loss: 0.6821 - accuracy: 0.2400 - val_loss: 0.6808 - val_accuracy: 0.5250\n",
      "Epoch 66/70\n",
      "160/160 [==============================] - 1s 6ms/step - loss: 0.6833 - accuracy: 0.2925 - val_loss: 0.6763 - val_accuracy: 0.1200\n",
      "Epoch 67/70\n",
      "160/160 [==============================] - 1s 6ms/step - loss: 0.6817 - accuracy: 0.2738 - val_loss: 0.6809 - val_accuracy: 0.5350\n",
      "Epoch 68/70\n",
      "160/160 [==============================] - 1s 6ms/step - loss: 0.6811 - accuracy: 0.2800 - val_loss: 0.6792 - val_accuracy: 0.3150\n",
      "Epoch 69/70\n",
      "160/160 [==============================] - 1s 6ms/step - loss: 0.6815 - accuracy: 0.2488 - val_loss: 0.6753 - val_accuracy: 0.0300\n",
      "Epoch 70/70\n",
      "160/160 [==============================] - 1s 6ms/step - loss: 0.6799 - accuracy: 0.2587 - val_loss: 0.6783 - val_accuracy: 0.0550\n"
     ]
    }
   ],
   "source": [
    "from utils.LSTM import LSTMModel\n",
    "\n",
    "###################################################\n",
    "# TODO: Instantiate your own model and train it.  #\n",
    "###################################################\n",
    "batch_size = 4\n",
    "units = 64\n",
    "output_dim = 1\n",
    "input_shape = (8, 1)\n",
    "activation = 'tanh'\n",
    "model = LSTMModel(units, output_dim, activation, input_shape)\n",
    "model.compile(loss=tf.keras.losses.BinaryCrossentropy(),\n",
    "              optimizer=tf.keras.optimizers.Adam(learning_rate=1e-3),\n",
    "              metrics=['accuracy'])\n",
    "history = model.fit(in_data, out_data, batch_size=5, epochs=70, validation_split=0.2)\n",
    "###################################################\n",
    "# END TODO                                        #\n",
    "###################################################"
   ]
  },
  {
   "cell_type": "markdown",
   "metadata": {},
   "source": [
    "### Visualize loss and accuracy"
   ]
  },
  {
   "cell_type": "code",
   "execution_count": 93,
   "metadata": {},
   "outputs": [
    {
     "data": {
      "image/png": "[encoded data removed]",
      "text/plain": [
       "<Figure size 432x288 with 1 Axes>"
      ]
     },
     "metadata": {
      "needs_background": "light"
     },
     "output_type": "display_data"
    }
   ],
   "source": [
    "plt.plot(history.history['loss'], label='loss')\n",
    "plt.plot(history.history['accuracy'], label='accuracy')\n",
    "plt.title('Training history')\n",
    "plt.ylabel('value')\n",
    "plt.xlabel('No. epoch')\n",
    "plt.legend(loc=\"upper left\")\n",
    "plt.show()"
   ]
  },
  {
   "cell_type": "code",
   "execution_count": null,
   "metadata": {},
   "outputs": [],
   "source": []
  }
 ],
 "metadata": {
  "kernelspec": {
   "display_name": "Python 3 (ipykernel)",
   "language": "python",
   "name": "python3"
  },
  "language_info": {
   "codemirror_mode": {
    "name": "ipython",
    "version": 3
   },
   "file_extension": ".py",
   "mimetype": "text/x-python",
   "name": "python",
   "nbconvert_exporter": "python",
   "pygments_lexer": "ipython3",
   "version": "3.9.7"
  },
  "vscode": {
   "interpreter": {
    "hash": "36142657f443a869bd2c1b509e6f1df9b014ad48aa206cdd00d27f8f22cb37ba"
   }
  }
 },
 "nbformat": 4,
 "nbformat_minor": 4
}
