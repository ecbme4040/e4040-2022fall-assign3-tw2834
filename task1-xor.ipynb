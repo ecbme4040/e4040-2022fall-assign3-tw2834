{
 "cells": [
  {
   "cell_type": "markdown",
   "metadata": {},
   "source": [
    "## Columbia University\n",
    "### ECBM E4040 Neural Networks and Deep Learning. Fall 2022."
   ]
  },
  {
   "cell_type": "markdown",
   "metadata": {},
   "source": [
    "## **Task 1: XOR** (50%)"
   ]
  },
  {
   "cell_type": "code",
   "execution_count": 50,
   "metadata": {},
   "outputs": [
    {
     "name": "stdout",
     "output_type": "stream",
     "text": [
      "Using CPU\n",
      "The autoreload extension is already loaded. To reload it, use:\n",
      "  %reload_ext autoreload\n",
      "2.8.0\n"
     ]
    }
   ],
   "source": [
    "# Import modules\n",
    "from __future__ import print_function\n",
    "import tensorflow as tf\n",
    "\n",
    "physical_devices = tf.config.experimental.list_physical_devices('GPU')\n",
    "if len(physical_devices) > 0:\n",
    "    print('Using GPU(0):', physical_devices[0])\n",
    "    tf.config.experimental.set_memory_growth(physical_devices[0], enable=True)\n",
    "else:\n",
    "    print('Using CPU')\n",
    "\n",
    "import numpy as np\n",
    "from numpy.random import shuffle\n",
    "import time\n",
    "import matplotlib.pyplot as plt\n",
    "\n",
    "# Plot configurations\n",
    "%matplotlib inline\n",
    "\n",
    "# Notebook auto reloads code. (Ref: http://stackoverflow.com/questions/1907993/autoreload-of-modules-in-ipython)\n",
    "%load_ext autoreload\n",
    "%autoreload 2\n",
    "print(tf.__version__)"
   ]
  },
  {
   "cell_type": "markdown",
   "metadata": {},
   "source": [
    "##  Part 1: Backpropagation through time (10%)"
   ]
  },
  {
   "cell_type": "markdown",
   "metadata": {},
   "source": [
    "**Question:** Consider some input data $x_1, x_2$ and groud truth $p_1, p_2$ (the indices denote different time steps), a simple RNN network is shown in the following figure. \n",
    "\n",
    "![bptt](./img/bptt2.jpg)\n",
    "\n",
    "Here, $w_x, w_h, b_1, w, b_2 \\in R$ are scalar parameters. Loss function is **mean squared error (MSE)**. "
   ]
  },
  {
   "cell_type": "markdown",
   "metadata": {},
   "source": [
    "<font color=\"red\"><strong>TODO:</strong></font>\n",
    "\n",
    "Assume the input $(x_1, x_2) = (1, -1)$, ground truth $(p_1, p_2) = (0, 1)$, $h_0 = 0$, and $(w_x, w_h, b_1, w, b_2) = (1, -2, 3, 2, 1)$, derive both the forward and backward pass (keep $4$ digits after the decimal). "
   ]
  },
  {
   "cell_type": "markdown",
   "metadata": {},
   "source": [
    "<font color=\"red\"><strong>Hint:</strong></font> The sigmoid function and its derivative\n",
    "\n",
    "$$\n",
    "\\sigma (x) = \\frac{1}{1 + e^{-x}}, \\quad\n",
    "\\nabla_x \\sigma (x) = \\frac{e^{-x}}{1 + e^{-x}} = \\sigma (x) (1 - \\sigma (x))\n",
    "$$\n",
    "\n",
    "- Derive the equations and intermediate variables first before plugging in values, don't just fill in the answers\n",
    "- Use latex style equations\n",
    "- You derivations don't need to be wrapped with special color :)"
   ]
  },
  {
   "cell_type": "markdown",
   "metadata": {},
   "source": [
    "<font color=\"red\"><strong>Asnwer:</strong></font>\n",
    "\n",
    "$$\\text{Your Derivations Here.}$$\n",
    "$(x_1, x_2) = (1, -1)$\n",
    "$(p_1, p_2) = (0, 1)$, and $(w_x, w_h, b_1, w, b_2) = (1, -2, 3, 2, 1) \\\\ $\n",
    "$h_0 = 0 \\\\ $ \n",
    "$h_1 = \\sigma (w_x*x_1 + w_h*h_0 + b1) = \\sigma (4) = 0.982 \\\\ $\n",
    "$y_1 = \\sigma (w*h_1 + b2) = \\sigma (2.964) = 0.9509 \\\\ $\n",
    "$h_2 = \\sigma (w_x*x_2 + w_h*h_1 + b1) = \\sigma (0.036) = 0.509 \\\\ $\n",
    "$y_2 = \\sigma (w*h_2 + b2) = \\sigma (2.0179) = 0.8827 \\\\ $\n",
    "\n",
    "- Loss function for time t\n",
    "\n",
    "$ L_t = 1/2(y_t -p_t)^2 \\\\ $ \n",
    "$$ \\frac{\\partial L_1}{\\partial w_x} = \\frac{\\partial L_1}{\\partial y_1} \\frac{\\partial y_1}{\\partial h_1} \\frac{\\partial h_1}{\\partial w_x} \\\\ $$\n",
    "$$\\frac{\\partial L_1}{\\partial w_x} = (y_1 - p_1)*y_1(1- y_1)*w*h_1(1- h_1)*x_1$$\n",
    "$$\\frac{\\partial L_1}{\\partial w_x} = 0.0016$$\n",
    "$$ \\frac{\\partial L_2}{\\partial w_x} = \\frac{\\partial L_2}{\\partial y_2} \\frac{\\partial y_2}{\\partial h_2} \\frac{\\partial h_2}{\\partial w_x} \\\\ $$\n",
    "$$\\frac{\\partial L_2}{\\partial w_x} = (y_2 - p_2)*y_2(1- y_2)*w*h_2(1- h_2)*x_2$$\n",
    "$$\\frac{\\partial L_2}{\\partial w_x} = 0.0063$$\n",
    "$$ \\nabla_{w_x} L = \\frac{\\partial L_1}{\\partial w_x}  + \\frac{\\partial L_2}{\\partial w_x} $$\n",
    "$$ \\nabla_{w_x} L = 0.0079$$\n",
    "\n",
    "$$ \\frac{\\partial L_1}{\\partial w_h} = \\frac{\\partial L_1}{\\partial y_1} \\frac{\\partial y_1}{\\partial h_1} \\frac{\\partial h_1}{\\partial w_h} \\\\ $$\n",
    "$$ \\frac{\\partial L_1}{\\partial w_h} = (y_1 - p_1)*y_1(1- y_1)*w*h_1(1- h_1)*h_0$$\n",
    "$$ \\frac{\\partial L_1}{\\partial w_h} = 0 $$\n",
    "\n",
    "$$ \\frac{\\partial L_2}{\\partial w_h} = \\frac{\\partial L_2}{\\partial y_2} \\frac{\\partial y_2}{\\partial h_2} \\frac{\\partial h_2}{\\partial w_h} \\\\ $$\n",
    "$$ \\frac{\\partial L_2}{\\partial w_h} = (y_2 - p_2)*y_2(1- y_2)*w*h_2(1- h_2)*h_1$$\n",
    "$$ \\frac{\\partial L_2}{\\partial w_h} = -0.0060$$\n",
    "$$\\nabla_{w_h} L = \\frac{\\partial L_1}{\\partial w_h} + \\frac{\\partial L_2}{\\partial w_h} $$\n",
    "$$\\nabla_{w_h} L = -0.0060$$\n",
    "\n",
    "$$ \\frac{\\partial L_1}{\\partial b_1} = \\frac{\\partial L_1}{\\partial y_1} \\frac{\\partial y_1}{\\partial h_1} \\frac{\\partial h_1}{\\partial b_1} \\\\ $$\n",
    "$$ \\frac{\\partial L_1}{\\partial b_1} = (y_1 - p_1)*y_1(1- y_1)*w*h_1(1- h_1)$$\n",
    "$$ \\frac{\\partial L_1}{\\partial b_1} = 0.0016$$\n",
    "\n",
    "$$ \\frac{\\partial L_2}{\\partial b_1} = \\frac{\\partial L_2}{\\partial y_2} \\frac{\\partial y_2}{\\partial h_2} \\frac{\\partial h_2}{\\partial b_1} $$\n",
    "$$ \\frac{\\partial L_2}{\\partial b_1} = (y_2 - p_2)*y_2(1- y_2)*w*h_2(1- h_2)$$\n",
    "$$ \\frac{\\partial L_2}{\\partial b_1} = -0.0060$$\n",
    "$$\\nabla_{b_1} L = \\frac{\\partial L_1}{\\partial b_1} + \\frac{\\partial L_2}{\\partial b_1} $$\n",
    "$$\\nabla_{b_1} L = -0.0044$$\n",
    "\n",
    "$$ \\frac{\\partial L_1}{\\partial w} = \\frac{\\partial L_1}{\\partial y_1} \\frac{\\partial y_1}{\\partial w} $$\n",
    "$$ \\frac{\\partial L_1}{\\partial b_1} = (y_1 - p_1)*y_1(1- y_1)*h_1$$\n",
    "$$ \\frac{\\partial L_1}{\\partial b_1} = 0.0436$$\n",
    " \n",
    "$$ \\frac{\\partial L_2}{\\partial w} = \\frac{\\partial L_2}{\\partial y_2} \\frac{\\partial y_2}{\\partial w} $$\n",
    "$$ \\frac{\\partial L_2}{\\partial w} = (y_2 - p_2)*y_2(1- y_2)*h_2$$\n",
    "$$ \\frac{\\partial L_2}{\\partial w} = 0.0062$$\n",
    "$$ \\nabla_{w} L = 0.0374$$\n",
    "\n",
    "$$ \\frac{\\partial L_1}{\\partial b_2} = \\frac{\\partial L_1}{\\partial y_1} \\frac{\\partial y_1}{\\partial b_2}  $$\n",
    "$$ \\frac{\\partial L_1}{\\partial b_2} = (y_1 - p_1)*y_1(1- y_1)$$\n",
    "$$ \\frac{\\partial L_1}{\\partial b_2} = 0.0016$$\n",
    "\n",
    "$$ \\frac{\\partial L_2}{\\partial b_2} = \\frac{\\partial L_2}{\\partial y_2} \\frac{\\partial y_2}{\\partial b_2} $$\n",
    "$$ \\frac{\\partial L_2}{\\partial b_2} = (y_2 - p_2)*y_2(1- y_2)$$\n",
    "$$ \\frac{\\partial L_2}{\\partial b_2} = 0.0443$$\n",
    "$$\\nabla_{b_2} L = \\frac{\\partial L_1}{\\partial b_2} + \\frac{\\partial L_2}{\\partial b_2} $$\n",
    "$$\\nabla_{b_2} L = 0.0322$$\n",
    "\n",
    "- The gradients\n",
    "\n",
    "$$\n",
    "\\begin{cases}\n",
    "\\nabla_{w_x} L = \\color{cyan}{[0.0079]} \\\\\n",
    "\\nabla_{w_h} L = \\color{cyan}{[-0.0060]} \\\\\n",
    "\\nabla_{b_1} L = \\color{cyan}{[-0.0044]} \\\\\n",
    "\\nabla_{w} L = \\color{cyan}{[0.0374]} \\\\\n",
    "\\nabla_{b_2} L = \\color{cyan}{[0.0322]} \\\\\n",
    "\\end{cases}\n",
    "$$"
   ]
  },
  {
   "cell_type": "code",
   "execution_count": 51,
   "metadata": {},
   "outputs": [
    {
     "name": "stdout",
     "output_type": "stream",
     "text": [
      "Verified by tensorflow (TODO compare values with your hand-written calculations):\n",
      "dwx = 0.0079, dwh = -0.0060, db1 = -0.0043, dw = 0.0374, db2 = 0.0322\n"
     ]
    }
   ],
   "source": [
    "# use tensorflow to verify the answer.\n",
    "with tf.GradientTape() as G:\n",
    "    wx = tf.Variable(1.0, dtype=tf.float64)\n",
    "    wh = tf.Variable(-2.0, dtype=tf.float64)\n",
    "    b1 = tf.Variable(3.0, dtype=tf.float64)\n",
    "    w = tf.Variable(2.0, dtype=tf.float64)\n",
    "    b2 = tf.Variable(1.0, dtype=tf.float64)\n",
    "\n",
    "    h0 = tf.Variable(0.0, dtype=tf.float64)\n",
    "    x = tf.Variable((1.0, -1.0), dtype=tf.float64)\n",
    "    p = tf.Variable((0.0, 1.0), dtype=tf.float64)\n",
    "\n",
    "    y = []\n",
    "    h1 = tf.sigmoid(wx*x[0] + wh*h0 + b1)\n",
    "    y.append(tf.sigmoid(w*h1 + b2))\n",
    "    h2 = tf.sigmoid(wx*x[1] + wh*h1 + b1)\n",
    "    y.append(tf.sigmoid(w*h2 + b2))\n",
    "\n",
    "    loss = 0.5*(tf.square(p[0]-y[0]) + tf.square(p[1]-y[1]))\n",
    "\n",
    "    dw_t, db2_t, dwx_t, dwh_t, db1_t = G.gradient(loss, [w, b2, wx, wh, b1])\n",
    "\n",
    "\n",
    "print(\"Verified by tensorflow (TODO compare values with your hand-written calculations):\")\n",
    "print(\"dwx = {:.4f}, dwh = {:.4f}, db1 = {:.4f}, dw = {:.4f}, db2 = {:.4f}\".format(dwx_t, dwh_t, db1_t, dw_t, db2_t))"
   ]
  },
  {
   "cell_type": "markdown",
   "metadata": {},
   "source": [
    "## Part 2: Use TensorFlow modules to create XOR network (15%)\n",
    "\n",
    "In this part, you need to build and train an XOR network that can learn the XOR function. It is a very simple implementation of RNN and will give you an idea how RNN is built and how to train it."
   ]
  },
  {
   "cell_type": "markdown",
   "metadata": {},
   "source": [
    "### XOR network\n",
    "\n",
    "![xnor_net](./img/xnor.png)\n",
    "\n",
    "XOR network can learn the XOR ($\\oplus$) function. If input \n",
    "\n",
    "$$\n",
    "(x_0, ..., x_7) = (0, 0, 1, 1, 1, 1, 1, 0)\n",
    "$$\n",
    "\n",
    "Then output should be\n",
    "\n",
    "$$\n",
    "(y_0, ..., y_7) = (0, 0, 1, 0, 1, 0, 1, 1)\n",
    "$$\n",
    "\n",
    "That is, \n",
    "\n",
    "$$\n",
    "y_n = x_0 \\oplus x_1 \\oplus ... \\oplus x_{n-1} \\oplus x_{n}\n",
    "$$\n",
    "\n",
    "It is also interesting to realize that the equation effectively equivalates to \n",
    "\n",
    "$$\n",
    "y_i = \\sum_{j = 0}^i x_j \\mod 2\n",
    "$$"
   ]
  },
  {
   "cell_type": "markdown",
   "metadata": {},
   "source": [
    "### Create a data set\n",
    "This function provides a way to generate the data which is needed for the training process. You should utilize it when building your training function for the GRU. Read the source code for more information."
   ]
  },
  {
   "cell_type": "code",
   "execution_count": 52,
   "metadata": {},
   "outputs": [],
   "source": [
    "from utils.dataset import create_xor_dataset"
   ]
  },
  {
   "cell_type": "code",
   "execution_count": 53,
   "metadata": {},
   "outputs": [
    {
     "data": {
      "text/plain": [
       "(array([[[0],\n",
       "         [0],\n",
       "         [0],\n",
       "         [0],\n",
       "         [0],\n",
       "         [1],\n",
       "         [0],\n",
       "         [0]]]),\n",
       " array([[0, 0, 0, 0, 0, 1, 1, 1]]))"
      ]
     },
     "execution_count": 53,
     "metadata": {},
     "output_type": "execute_result"
    }
   ],
   "source": [
    "create_xor_dataset(1)"
   ]
  },
  {
   "cell_type": "markdown",
   "metadata": {},
   "source": [
    "### Build a network using a TensorFlow LSTMCell and GRUCell\n",
    "\n",
    "In this section, you are asked to build a XOR net using a TensorFlow LSTMCell and a GRUCell. In TensorFlow 2, these two cells are supported by Keras. Please check online documents below.\n",
    "\n",
    "Use TensorFlow to build and train your XOR net. The dataset is already provided. You will do the following:\n",
    "- Learn how to use `tf.keras.layers.LSTM` and `tf.keras.layers.GRU` in TensorFlow(Keras). \n",
    "- Choose appropriate parameters to build a model (Sequential Model in Keras is suggested). \n",
    "- Compile your model with appropriate loss function, optimizer, metrics, etc.\n",
    "- Train your model and see the loss history.\n",
    "\n",
    "Tips: \n",
    "1. Make sure that the shape of your data is corrrect after every step.\n",
    "2. Choose your loss function according to your network design.\n",
    "3. Choose 'accuracy' as your metrics when compiling your model.\n",
    "4. Make sure that names of history for the network with LSTMCell and GRUCell (which you used while training) are the same as the ones in the plotting functions.\n",
    "4. Feel free to ask TAs if you get stuck somewhere.\n",
    "\n",
    "Reference: \n",
    "1. [TensorFlow(Keras): Working with RNNs](https://keras.io/guides/working_with_rnns/)\n",
    "2. [TensorFlow: Recurrent Neural Networks (RNN) with Keras](https://www.tensorflow.org/guide/keras/rnn)\n",
    "3. [TensorFlow LSTM Cell](https://www.tensorflow.org/api_docs/python/tf/keras/layers/LSTM)\n",
    "4. [TensorFlow GRU Cell](https://www.tensorflow.org/api_docs/python/tf/keras/layers/GRU)\n",
    "5. [TensorFlow: Sequential Model](https://www.tensorflow.org/guide/keras/sequential_model)\n"
   ]
  },
  {
   "cell_type": "markdown",
   "metadata": {},
   "source": [
    "### Build a network with LSTM"
   ]
  },
  {
   "cell_type": "code",
   "execution_count": 54,
   "metadata": {
    "pycharm": {
     "is_executing": true
    }
   },
   "outputs": [
    {
     "name": "stdout",
     "output_type": "stream",
     "text": [
      "Input data: (1000, 8, 1) int64\n",
      "Labels: (1000, 8) int64\n"
     ]
    }
   ],
   "source": [
    "in_data, out_data = create_xor_dataset(1000) # create a dataset with a batch size of 1000\n",
    "print('Input data:', in_data.shape, in_data.dtype)\n",
    "print('Labels:', out_data.shape, out_data.dtype)"
   ]
  },
  {
   "cell_type": "markdown",
   "metadata": {},
   "source": [
    "#### Interpreting RNN Inputs\n",
    "\n",
    "Typically, the input data of an RNN has form of\n",
    "\n",
    "$$\n",
    "X \\in R^{T \\times N \\times D}\n",
    "$$\n",
    "\n",
    "where $T$ is ***the number of time steps***, $N$ is the batch size and $D$ is the dimension of each input. \n",
    "\n",
    "At each time step $t$, we feed \n",
    "\n",
    "$$\n",
    "X_t \\in R^{N \\times D}\n",
    "$$\n",
    "\n",
    "into the RNN to generate an output (i.e. the hidden state) $h_t \\in R^{N \\times K}$. \n",
    "\n",
    "Some tasks only take interest in the final output $h_T$, while others need the output from all of the time steps as \n",
    "\n",
    "$$\n",
    "H = [h_1, \\dots, h_T] \\in R^{T \\times N \\times K}\n",
    "$$"
   ]
  },
  {
   "cell_type": "markdown",
   "metadata": {},
   "source": [
    "<font color=\"red\"><strong>NOTE:</strong></font>\n",
    "\n",
    "In real-life RNN models, the orders of $T$ and $N$ are actually exchangable by specifying certain model parameters, which is `time_major` in Tensorflow and `batch_first` in Pytorch. \n",
    "\n",
    "Use whatever you like in your implementations, but make sure to have a consistent input shape. "
   ]
  },
  {
   "cell_type": "markdown",
   "metadata": {},
   "source": [
    "<span style=\"color:red\">__TODO:__</span> Answer the question: \n",
    "\n",
    "We talked about two usages of RNN model: \n",
    "\n",
    "- Return only $h_T$\n",
    "- Return all $H = [h_1, \\dots, h_T]$\n",
    "\n",
    "In the context of our XOR function, which one should we use? "
   ]
  },
  {
   "cell_type": "markdown",
   "metadata": {},
   "source": [
    "## Answer\n",
    "In case of XOR function, we will use:\n",
    "  - Return all $H = [h_1, \\dots, h_T]$ where each $h_T$ for each input bit. In the LSTM Keras code, the parameter return_sequences=True enables this feature."
   ]
  },
  {
   "cell_type": "markdown",
   "metadata": {},
   "source": [
    "<font color=\"red\"><strong>HINT:</strong></font>\n",
    "\n",
    "Upon answering the question above, think about how this is done with Tensorflow. Please reference [`LSTM` documents](https://www.tensorflow.org/api_docs/python/tf/keras/layers/LSTM). "
   ]
  },
  {
   "cell_type": "markdown",
   "metadata": {},
   "source": [
    "#### Hint for creating a model with LSTM\n",
    "\n",
    "```\n",
    "model = tf.keras.Sequential() \n",
    "model.add([LAYER1])\n",
    "model.add([LAYER2])\n",
    "model.add([...])\n",
    "model.add([OUTPUT_LAYER])\n",
    "\n",
    "model.summary() \n",
    "model.compile(loss=[LOSS_FUNCTION], optimizer=[OPTIMIZER], metrics=['accuracy'])\n",
    "\n",
    "history_LSTM = model.fit(in_data, out_data, batch_size=64, epochs=15) \n",
    "```"
   ]
  },
  {
   "cell_type": "markdown",
   "metadata": {},
   "source": [
    "<span style=\"color:red\">__TODO:__</span> Build a LSTM Network"
   ]
  },
  {
   "cell_type": "code",
   "execution_count": 55,
   "metadata": {
    "pycharm": {
     "is_executing": true
    },
    "scrolled": true
   },
   "outputs": [
    {
     "name": "stdout",
     "output_type": "stream",
     "text": [
      "Model: \"sequential_18\"\n",
      "_________________________________________________________________\n",
      " Layer (type)                Output Shape              Param #   \n",
      "=================================================================\n",
      " lstm_18 (LSTM)              (None, 8, 128)            66560     \n",
      "                                                                 \n",
      " dense_25 (Dense)            (None, 8, 1)              129       \n",
      "                                                                 \n",
      "=================================================================\n",
      "Total params: 66,689\n",
      "Trainable params: 66,689\n",
      "Non-trainable params: 0\n",
      "_________________________________________________________________\n",
      "Epoch 1/50\n",
      "13/13 [==============================] - 3s 46ms/step - loss: 0.6932 - accuracy: 0.5428 - val_loss: 0.6898 - val_accuracy: 0.5556\n",
      "Epoch 2/50\n",
      "13/13 [==============================] - 0s 15ms/step - loss: 0.6866 - accuracy: 0.5611 - val_loss: 0.6869 - val_accuracy: 0.5544\n",
      "Epoch 3/50\n",
      "13/13 [==============================] - 0s 14ms/step - loss: 0.6755 - accuracy: 0.5606 - val_loss: 0.6522 - val_accuracy: 0.5600\n",
      "Epoch 4/50\n",
      "13/13 [==============================] - 0s 12ms/step - loss: 0.6109 - accuracy: 0.6216 - val_loss: 0.5737 - val_accuracy: 0.6112\n",
      "Epoch 5/50\n",
      "13/13 [==============================] - 0s 11ms/step - loss: 0.5638 - accuracy: 0.6694 - val_loss: 0.5415 - val_accuracy: 0.6556\n",
      "Epoch 6/50\n",
      "13/13 [==============================] - 0s 17ms/step - loss: 0.5176 - accuracy: 0.6988 - val_loss: 0.4882 - val_accuracy: 0.7038\n",
      "Epoch 7/50\n",
      "13/13 [==============================] - 0s 12ms/step - loss: 0.4442 - accuracy: 0.7462 - val_loss: 0.3520 - val_accuracy: 0.8625\n",
      "Epoch 8/50\n",
      "13/13 [==============================] - 0s 14ms/step - loss: 0.3181 - accuracy: 0.8633 - val_loss: 0.2202 - val_accuracy: 0.9119\n",
      "Epoch 9/50\n",
      "13/13 [==============================] - 0s 15ms/step - loss: 0.2095 - accuracy: 0.9133 - val_loss: 0.1649 - val_accuracy: 0.9413\n",
      "Epoch 10/50\n",
      "13/13 [==============================] - 0s 15ms/step - loss: 0.0943 - accuracy: 0.9681 - val_loss: 0.0846 - val_accuracy: 0.9688\n",
      "Epoch 11/50\n",
      "13/13 [==============================] - 0s 16ms/step - loss: 0.0884 - accuracy: 0.9616 - val_loss: 0.1100 - val_accuracy: 0.9438\n",
      "Epoch 12/50\n",
      "13/13 [==============================] - 0s 17ms/step - loss: 0.0665 - accuracy: 0.9708 - val_loss: 0.0593 - val_accuracy: 0.9725\n",
      "Epoch 13/50\n",
      "13/13 [==============================] - 0s 16ms/step - loss: 0.0268 - accuracy: 0.9917 - val_loss: 0.0083 - val_accuracy: 1.0000\n",
      "Epoch 14/50\n",
      "13/13 [==============================] - 0s 16ms/step - loss: 0.0074 - accuracy: 1.0000 - val_loss: 0.0062 - val_accuracy: 1.0000\n",
      "Epoch 15/50\n",
      "13/13 [==============================] - 0s 15ms/step - loss: 0.0055 - accuracy: 1.0000 - val_loss: 0.0048 - val_accuracy: 1.0000\n",
      "Epoch 16/50\n",
      "13/13 [==============================] - 0s 15ms/step - loss: 0.0043 - accuracy: 1.0000 - val_loss: 0.0039 - val_accuracy: 1.0000\n",
      "Epoch 17/50\n",
      "13/13 [==============================] - 0s 16ms/step - loss: 0.0035 - accuracy: 1.0000 - val_loss: 0.0032 - val_accuracy: 1.0000\n",
      "Epoch 18/50\n",
      "13/13 [==============================] - 0s 15ms/step - loss: 0.0030 - accuracy: 1.0000 - val_loss: 0.0028 - val_accuracy: 1.0000\n",
      "Epoch 19/50\n",
      "13/13 [==============================] - 0s 15ms/step - loss: 0.0026 - accuracy: 1.0000 - val_loss: 0.0024 - val_accuracy: 1.0000\n",
      "Epoch 20/50\n",
      "13/13 [==============================] - 0s 16ms/step - loss: 0.0023 - accuracy: 1.0000 - val_loss: 0.0022 - val_accuracy: 1.0000\n",
      "Epoch 21/50\n",
      "13/13 [==============================] - 0s 16ms/step - loss: 0.0020 - accuracy: 1.0000 - val_loss: 0.0019 - val_accuracy: 1.0000\n",
      "Epoch 22/50\n",
      "13/13 [==============================] - 0s 18ms/step - loss: 0.0018 - accuracy: 1.0000 - val_loss: 0.0017 - val_accuracy: 1.0000\n",
      "Epoch 23/50\n",
      "13/13 [==============================] - 0s 15ms/step - loss: 0.0017 - accuracy: 1.0000 - val_loss: 0.0016 - val_accuracy: 1.0000\n",
      "Epoch 24/50\n",
      "13/13 [==============================] - 0s 15ms/step - loss: 0.0015 - accuracy: 1.0000 - val_loss: 0.0014 - val_accuracy: 1.0000\n",
      "Epoch 25/50\n",
      "13/13 [==============================] - 0s 14ms/step - loss: 0.0014 - accuracy: 1.0000 - val_loss: 0.0013 - val_accuracy: 1.0000\n",
      "Epoch 26/50\n",
      "13/13 [==============================] - 0s 13ms/step - loss: 0.0013 - accuracy: 1.0000 - val_loss: 0.0012 - val_accuracy: 1.0000\n",
      "Epoch 27/50\n",
      "13/13 [==============================] - 0s 14ms/step - loss: 0.0012 - accuracy: 1.0000 - val_loss: 0.0011 - val_accuracy: 1.0000\n",
      "Epoch 28/50\n",
      "13/13 [==============================] - 0s 17ms/step - loss: 0.0011 - accuracy: 1.0000 - val_loss: 0.0010 - val_accuracy: 1.0000\n",
      "Epoch 29/50\n",
      "13/13 [==============================] - 0s 14ms/step - loss: 0.0010 - accuracy: 1.0000 - val_loss: 9.7332e-04 - val_accuracy: 1.0000\n",
      "Epoch 30/50\n",
      "13/13 [==============================] - 0s 26ms/step - loss: 9.3755e-04 - accuracy: 1.0000 - val_loss: 9.0927e-04 - val_accuracy: 1.0000\n",
      "Epoch 31/50\n",
      "13/13 [==============================] - 0s 20ms/step - loss: 8.7648e-04 - accuracy: 1.0000 - val_loss: 8.5144e-04 - val_accuracy: 1.0000\n",
      "Epoch 32/50\n",
      "13/13 [==============================] - 0s 12ms/step - loss: 8.2111e-04 - accuracy: 1.0000 - val_loss: 7.9947e-04 - val_accuracy: 1.0000\n",
      "Epoch 33/50\n",
      "13/13 [==============================] - 0s 12ms/step - loss: 7.7191e-04 - accuracy: 1.0000 - val_loss: 7.5251e-04 - val_accuracy: 1.0000\n",
      "Epoch 34/50\n",
      "13/13 [==============================] - 0s 14ms/step - loss: 7.2725e-04 - accuracy: 1.0000 - val_loss: 7.0922e-04 - val_accuracy: 1.0000\n",
      "Epoch 35/50\n",
      "13/13 [==============================] - 0s 23ms/step - loss: 6.8599e-04 - accuracy: 1.0000 - val_loss: 6.7043e-04 - val_accuracy: 1.0000\n",
      "Epoch 36/50\n",
      "13/13 [==============================] - 0s 16ms/step - loss: 6.4890e-04 - accuracy: 1.0000 - val_loss: 6.3466e-04 - val_accuracy: 1.0000\n",
      "Epoch 37/50\n",
      "13/13 [==============================] - 0s 16ms/step - loss: 6.1451e-04 - accuracy: 1.0000 - val_loss: 6.0155e-04 - val_accuracy: 1.0000\n",
      "Epoch 38/50\n",
      "13/13 [==============================] - 0s 19ms/step - loss: 5.8293e-04 - accuracy: 1.0000 - val_loss: 5.7155e-04 - val_accuracy: 1.0000\n",
      "Epoch 39/50\n",
      "13/13 [==============================] - 0s 15ms/step - loss: 5.5400e-04 - accuracy: 1.0000 - val_loss: 5.4341e-04 - val_accuracy: 1.0000\n",
      "Epoch 40/50\n",
      "13/13 [==============================] - 0s 14ms/step - loss: 5.2721e-04 - accuracy: 1.0000 - val_loss: 5.1764e-04 - val_accuracy: 1.0000\n",
      "Epoch 41/50\n",
      "13/13 [==============================] - 0s 15ms/step - loss: 5.0247e-04 - accuracy: 1.0000 - val_loss: 4.9363e-04 - val_accuracy: 1.0000\n",
      "Epoch 42/50\n",
      "13/13 [==============================] - 0s 14ms/step - loss: 4.7930e-04 - accuracy: 1.0000 - val_loss: 4.7141e-04 - val_accuracy: 1.0000\n",
      "Epoch 43/50\n",
      "13/13 [==============================] - 0s 16ms/step - loss: 4.5786e-04 - accuracy: 1.0000 - val_loss: 4.5070e-04 - val_accuracy: 1.0000\n",
      "Epoch 44/50\n",
      "13/13 [==============================] - 0s 19ms/step - loss: 4.3781e-04 - accuracy: 1.0000 - val_loss: 4.3145e-04 - val_accuracy: 1.0000\n",
      "Epoch 45/50\n",
      "13/13 [==============================] - 0s 19ms/step - loss: 4.1919e-04 - accuracy: 1.0000 - val_loss: 4.1359e-04 - val_accuracy: 1.0000\n",
      "Epoch 46/50\n",
      "13/13 [==============================] - 0s 12ms/step - loss: 4.0176e-04 - accuracy: 1.0000 - val_loss: 3.9642e-04 - val_accuracy: 1.0000\n",
      "Epoch 47/50\n",
      "13/13 [==============================] - 0s 11ms/step - loss: 3.8534e-04 - accuracy: 1.0000 - val_loss: 3.8043e-04 - val_accuracy: 1.0000\n",
      "Epoch 48/50\n",
      "13/13 [==============================] - 0s 12ms/step - loss: 3.6994e-04 - accuracy: 1.0000 - val_loss: 3.6550e-04 - val_accuracy: 1.0000\n",
      "Epoch 49/50\n",
      "13/13 [==============================] - 0s 23ms/step - loss: 3.5546e-04 - accuracy: 1.0000 - val_loss: 3.5152e-04 - val_accuracy: 1.0000\n",
      "Epoch 50/50\n",
      "13/13 [==============================] - 0s 14ms/step - loss: 3.4200e-04 - accuracy: 1.0000 - val_loss: 3.3819e-04 - val_accuracy: 1.0000\n"
     ]
    }
   ],
   "source": [
    "###################################################\n",
    "# TODO: build a network with LSTM and train it    #\n",
    "#                                                 #\n",
    "###################################################\n",
    "model = tf.keras.Sequential()\n",
    "model.add(tf.keras.layers.LSTM(128, input_shape=(8, 1), return_sequences=True))\n",
    "model.add(tf.keras.layers.Dense(1, activation=\"sigmoid\"))\n",
    "\n",
    "model.summary()\n",
    "model.compile(loss=tf.keras.losses.BinaryCrossentropy(),\n",
    "              optimizer=tf.keras.optimizers.Adam(learning_rate=0.01),\n",
    "              metrics=['accuracy'])\n",
    "history_LSTM = model.fit(in_data, out_data, batch_size=64, epochs=50, validation_split=0.2)\n",
    "\n",
    "\n",
    "###################################################\n",
    "# END TODO                                        #\n",
    "###################################################"
   ]
  },
  {
   "cell_type": "markdown",
   "metadata": {},
   "source": [
    "### Build a network with GRU"
   ]
  },
  {
   "cell_type": "code",
   "execution_count": 56,
   "metadata": {
    "pycharm": {
     "is_executing": true
    }
   },
   "outputs": [
    {
     "name": "stdout",
     "output_type": "stream",
     "text": [
      "Input data: (1000, 8, 1) int64\n",
      "Labels: (1000, 8) int64\n"
     ]
    }
   ],
   "source": [
    "in_data, out_data = create_xor_dataset(1000) # create a dataset with a batch size of 1000\n",
    "print('Input data:', in_data.shape, in_data.dtype)\n",
    "print('Labels:', out_data.shape, out_data.dtype)"
   ]
  },
  {
   "cell_type": "markdown",
   "metadata": {},
   "source": [
    "<span style=\"color:red\">__TODO:__</span> Build a GRU Network"
   ]
  },
  {
   "cell_type": "code",
   "execution_count": 57,
   "metadata": {},
   "outputs": [
    {
     "name": "stdout",
     "output_type": "stream",
     "text": [
      "Model: \"sequential_19\"\n",
      "_________________________________________________________________\n",
      " Layer (type)                Output Shape              Param #   \n",
      "=================================================================\n",
      " gru_1 (GRU)                 (None, 8, 128)            50304     \n",
      "                                                                 \n",
      " dense_26 (Dense)            (None, 8, 1)              129       \n",
      "                                                                 \n",
      "=================================================================\n",
      "Total params: 50,433\n",
      "Trainable params: 50,433\n",
      "Non-trainable params: 0\n",
      "_________________________________________________________________\n",
      "Epoch 1/15\n",
      "13/13 [==============================] - 3s 47ms/step - loss: 0.6868 - accuracy: 0.5450 - val_loss: 0.6794 - val_accuracy: 0.5644\n",
      "Epoch 2/15\n",
      "13/13 [==============================] - 0s 10ms/step - loss: 0.6650 - accuracy: 0.5798 - val_loss: 0.6332 - val_accuracy: 0.6100\n",
      "Epoch 3/15\n",
      "13/13 [==============================] - 0s 12ms/step - loss: 0.6031 - accuracy: 0.6414 - val_loss: 0.5563 - val_accuracy: 0.6956\n",
      "Epoch 4/15\n",
      "13/13 [==============================] - 0s 11ms/step - loss: 0.5319 - accuracy: 0.6850 - val_loss: 0.5172 - val_accuracy: 0.6656\n",
      "Epoch 5/15\n",
      "13/13 [==============================] - 0s 11ms/step - loss: 0.4675 - accuracy: 0.7527 - val_loss: 0.4103 - val_accuracy: 0.7887\n",
      "Epoch 6/15\n",
      "13/13 [==============================] - 0s 14ms/step - loss: 0.3576 - accuracy: 0.8505 - val_loss: 0.2440 - val_accuracy: 0.9206\n",
      "Epoch 7/15\n",
      "13/13 [==============================] - 0s 12ms/step - loss: 0.1395 - accuracy: 0.9647 - val_loss: 0.0415 - val_accuracy: 0.9994\n",
      "Epoch 8/15\n",
      "13/13 [==============================] - 0s 13ms/step - loss: 0.0216 - accuracy: 0.9992 - val_loss: 0.0092 - val_accuracy: 1.0000\n",
      "Epoch 9/15\n",
      "13/13 [==============================] - 0s 13ms/step - loss: 0.0055 - accuracy: 1.0000 - val_loss: 0.0039 - val_accuracy: 1.0000\n",
      "Epoch 10/15\n",
      "13/13 [==============================] - 0s 13ms/step - loss: 0.0030 - accuracy: 1.0000 - val_loss: 0.0025 - val_accuracy: 1.0000\n",
      "Epoch 11/15\n",
      "13/13 [==============================] - 0s 10ms/step - loss: 0.0020 - accuracy: 1.0000 - val_loss: 0.0020 - val_accuracy: 1.0000\n",
      "Epoch 12/15\n",
      "13/13 [==============================] - 0s 10ms/step - loss: 0.0016 - accuracy: 1.0000 - val_loss: 0.0016 - val_accuracy: 1.0000\n",
      "Epoch 13/15\n",
      "13/13 [==============================] - 0s 9ms/step - loss: 0.0014 - accuracy: 1.0000 - val_loss: 0.0014 - val_accuracy: 1.0000\n",
      "Epoch 14/15\n",
      "13/13 [==============================] - 0s 10ms/step - loss: 0.0012 - accuracy: 1.0000 - val_loss: 0.0012 - val_accuracy: 1.0000\n",
      "Epoch 15/15\n",
      "13/13 [==============================] - 0s 12ms/step - loss: 0.0010 - accuracy: 1.0000 - val_loss: 0.0011 - val_accuracy: 1.0000\n"
     ]
    }
   ],
   "source": [
    "###################################################\n",
    "# TODO: build a model with GRU and train it.      #\n",
    "#                                                 #\n",
    "###################################################\n",
    "model = tf.keras.Sequential()\n",
    "model.add(tf.keras.layers.GRU(128, input_shape=(8, 1), return_sequences=True))\n",
    "model.add(tf.keras.layers.Dense(1, activation=\"sigmoid\"))\n",
    "\n",
    "model.summary()\n",
    "model.compile(loss=tf.keras.losses.BinaryCrossentropy(),\n",
    "              optimizer=tf.keras.optimizers.Adam(learning_rate=0.01),\n",
    "              metrics=['accuracy'])\n",
    "history_GRU = model.fit(in_data, out_data, batch_size=64, epochs=15, validation_split=0.2)\n",
    "\n",
    "\n",
    "###################################################\n",
    "# END TODO                                        #\n",
    "###################################################"
   ]
  },
  {
   "cell_type": "markdown",
   "metadata": {},
   "source": [
    "### Visualize loss and accuracy"
   ]
  },
  {
   "cell_type": "code",
   "execution_count": 58,
   "metadata": {},
   "outputs": [
    {
     "data": {
      "image/png": "[encoded data removed]",
      "text/plain": [
       "<Figure size 432x288 with 1 Axes>"
      ]
     },
     "metadata": {
      "needs_background": "light"
     },
     "output_type": "display_data"
    }
   ],
   "source": [
    "plt.plot(history_LSTM.history['loss'], label='LSTM')\n",
    "plt.plot(history_GRU.history['loss'], label='GRU')\n",
    "plt.title('LSTM/GRU loss')\n",
    "plt.ylabel('loss')\n",
    "plt.xlabel('No. epoch')\n",
    "plt.legend(loc=\"upper left\")\n",
    "plt.show()"
   ]
  },
  {
   "cell_type": "code",
   "execution_count": 59,
   "metadata": {},
   "outputs": [
    {
     "data": {
      "image/png": "[encoded data removed]",
      "text/plain": [
       "<Figure size 432x288 with 1 Axes>"
      ]
     },
     "metadata": {
      "needs_background": "light"
     },
     "output_type": "display_data"
    }
   ],
   "source": [
    "plt.plot(history_LSTM.history['accuracy'], label='LSTM')\n",
    "plt.plot(history_GRU.history['accuracy'], label='GRU')\n",
    "plt.title('LSTM/GRU accuracy')\n",
    "plt.ylabel('accuracy')\n",
    "plt.xlabel('No. epoch')\n",
    "plt.legend(loc=\"upper left\")\n",
    "plt.show()"
   ]
  },
  {
   "cell_type": "markdown",
   "metadata": {},
   "source": [
    "<span style=\"color:red\">__TODO:__</span> Answer the question:\n",
    "\n",
    "Which part of this task have you been struggling with most of the  time? Describe how you resolved it.s"
   ]
  },
  {
   "cell_type": "markdown",
   "metadata": {},
   "source": [
    "### Answer\n",
    "I had a hard time understanding LSTM architecture and its implementation. Thus, I read many articles on LSTM and Keras' implementation documents to understand better."
   ]
  },
  {
   "cell_type": "markdown",
   "metadata": {},
   "source": [
    "<span style=\"color:red\">__TODO:__</span> Answer the question:\n",
    "\n",
    "Which loss function did you use? Why?"
   ]
  },
  {
   "cell_type": "markdown",
   "metadata": {},
   "source": [
    "### Answer\n",
    "\n",
    "I used the binary cross entropy. Each output can be either 0 or 1. Thus binary cross entropy is the correct loss function."
   ]
  },
  {
   "cell_type": "markdown",
   "metadata": {},
   "source": [
    "## Part 3 :  Build your own LSTMCell (25%)\n",
    "\n",
    "In this part, you need to build your own LSTM Cell to achieve the LSTM functionality (including different types of gates that constitute the cell).\n",
    "\n",
    "It is recommanded to see the course slides and [`LSTM` source code](https://github.com/keras-team/keras/blob/v2.10.0/keras/layers/rnn/lstm.py). [This link](https://colah.github.io/posts/2015-08-Understanding-LSTMs) also provides a good intuition. \n",
    "\n",
    "![](./img/lstm_cell.png)\n",
    "\n",
    "**Note that this is a simplified figure and not all operations are illustrated.** Please refer to the lectures and follow the equations. "
   ]
  },
  {
   "cell_type": "markdown",
   "metadata": {},
   "source": [
    "Assume some **old** carry state $c_{t-1}$ and hidden state $h_{t-1}$, we try to compute the **new states** given some input $X_t$ using the ideas of LSTM. \n",
    "\n",
    "Remember that for an LSTM cell, we actually have (yellow boxes from left to right) a **forget gate**, an **input gate**, a **cell** and an **output gate**, whose output can be denoted by $f_{t-1}$, $i_{t-1}$, $\\tilde{c}_{t-1}$ and $o_{t-1}$. Each yellow box in the graph denotes a linear projection followed by a particular activation (`sigmoid` or `tanh`). \n",
    "\n",
    "Then for some input $X_t \\in R^{N \\times D}$ and a target output dimension $K$ (also called \"units\"), let's first combine the inputs with the old hidden state $h_{t-1} \\in R^{N \\times K}$ by projecting them into the same dimension \n",
    "\n",
    "$$\n",
    "Z_t = X_t + h_{t-1} W_h\n",
    "$$\n",
    "\n",
    "where $W_h \\in R^{K \\times D}$. Then all new states can be computed one by one as \n",
    "\n",
    "$$\n",
    "\\begin{cases}\n",
    "f_t = \\sigma (Z_t W_f) \\\\\n",
    "i_t = \\sigma (Z_t W_i) \\\\\n",
    "\\tilde{c}_t = \\tanh (Z_t W_c) \\\\\n",
    "o_t = \\sigma (Z_t W_o)\n",
    "\\end{cases}\n",
    "$$\n",
    "\n",
    "where the weights (also called kernels)\n",
    "\n",
    "$$\n",
    "W_f, W_i, W_c, W_o \\in R^{D \\times K}\n",
    "$$\n",
    "\n",
    "Then the **new** carry state is given by the **old carry state** passing through the forget gate and combining with the input\n",
    "\n",
    "$$\n",
    "c_t = f_t \\odot c_{t-1} + i_t \\odot \\tilde{c}_t\n",
    "$$\n",
    "\n",
    "And the hidden state is given by the **new carry state** passing through the output gate\n",
    "\n",
    "$$\n",
    "h_t = o_t \\odot \\tanh (c_t)\n",
    "$$"
   ]
  },
  {
   "cell_type": "markdown",
   "metadata": {},
   "source": [
    "Note that when computing each state, we are actually computing the four linear projections on $Z_t$, which is **four** projections on $X_t$ and **eight** (becuase of the $W_h$) projections on $h_{t-1}$. This doesn't look smart enough, so let's rewrite the equations. \n",
    "\n",
    "First define a kernel $W \\in R^{D \\times 4 K}$, which can be thought of as\n",
    "\n",
    "$$\n",
    "W \\gets [W_f, W_i, W_c, W_o]\n",
    "$$\n",
    "\n",
    "Similarly define a recurrent kernel $W_r \\in R^{K \\times 4 K}$, which is equivalent to \n",
    "\n",
    "$$\n",
    "W_r \\gets W_h W = [W_h W_f, W_h W_i, W_h W_c, W_h W_o]\n",
    "$$\n",
    "\n",
    "\n",
    "We can, of course, also add a bias $b \\in R^{4 K}$, and now all the projections simplifies to \n",
    "\n",
    "$$\n",
    "Z_t = X_t W + h_{t-1} W_r + \\mathbb{1} b^T \\in R^{N \\times 4 K}\n",
    "$$\n",
    "\n",
    "We do exactly **one** projection on $X_t$ and **one** on $h_{t-1}$. Then we partition $Z_t$ into \n",
    "\n",
    "$$\n",
    "[z_t^f, z_t^i, z_t^c, z_t^o] \\gets Z_t, \\quad\n",
    "z_t^* \\in R^{N \\times K}\n",
    "$$\n",
    "\n",
    "Easily, \n",
    "\n",
    "$$\n",
    "\\begin{cases}\n",
    "f_t = \\sigma (z_t^f) \\\\\n",
    "i_t = \\sigma (z_t^i) \\\\\n",
    "\\tilde{c}_t = \\tanh (z_t^c) \\\\\n",
    "o_t = \\sigma (z_t^o)\n",
    "\\end{cases}\n",
    "$$\n",
    "\n",
    "And the rest stays the same. "
   ]
  },
  {
   "cell_type": "markdown",
   "metadata": {},
   "source": [
    "<span style=\"color:red\">__TODO:__</span> \n",
    "\n",
    "1. Complete the model `LSTMCell` in **utils/LSTM.py**\n",
    "2. Verify the function with Tensorflow by running the provided code"
   ]
  },
  {
   "cell_type": "markdown",
   "metadata": {},
   "source": [
    "<span style=\"color:red\">__NOTE:__</span> \n",
    "\n",
    "You should use the \"simplified\" (second) set of equations as tensorflow does. "
   ]
  },
  {
   "cell_type": "code",
   "execution_count": 60,
   "metadata": {},
   "outputs": [
    {
     "name": "stdout",
     "output_type": "stream",
     "text": [
      "Simple verification:\n",
      "Is h correct? True\n",
      "Is c correct? True\n"
     ]
    }
   ],
   "source": [
    "# Veirification Code\n",
    "# Please don't change anything\n",
    "\n",
    "from utils.LSTM import LSTMCell\n",
    "\n",
    "batch_size = 4\n",
    "input_dim = 8\n",
    "units = 64\n",
    "\n",
    "inputs = tf.random.normal((batch_size, input_dim))\n",
    "states = [tf.random.normal((batch_size, units)), tf.zeros((batch_size, units))]\n",
    "\n",
    "# By default, the weights will be initialized randomly (as is specified in the code). \n",
    "# Here we try to enforce deterministic (non-random) initializers \n",
    "# so that the two results can be correctly compared. \n",
    "# NOTE: You should NOT do this and leave them to default during actual training\n",
    "\n",
    "lstm_cell = LSTMCell(\n",
    "    units, \n",
    "    kernel_initializer=tf.keras.initializers.Ones, \n",
    "    recurrent_initializer=tf.keras.initializers.Ones, \n",
    "    bias_initializer=tf.keras.initializers.Zeros\n",
    ")\n",
    "h, (_, c) = lstm_cell(inputs, states)\n",
    "\n",
    "lstm_cell_tf = tf.keras.layers.LSTMCell(\n",
    "    units, \n",
    "    kernel_initializer='ones', \n",
    "    recurrent_initializer='ones', \n",
    "    bias_initializer='zeros'\n",
    ")\n",
    "h_tf, (_, c_tf) = lstm_cell_tf(inputs, states)\n",
    "\n",
    "print('Simple verification:')\n",
    "print('Is h correct?', np.allclose(h.numpy(), h_tf.numpy()))\n",
    "print('Is c correct?', np.allclose(c.numpy(), c_tf.numpy()))"
   ]
  },
  {
   "cell_type": "code",
   "execution_count": 61,
   "metadata": {},
   "outputs": [],
   "source": [
    "in_data, out_data = create_xor_dataset(1024)# create a dataset with a batch size of 1000"
   ]
  },
  {
   "cell_type": "code",
   "execution_count": 62,
   "metadata": {},
   "outputs": [
    {
     "name": "stdout",
     "output_type": "stream",
     "text": [
      "(1024, 8, 1) (1024, 8)\n"
     ]
    }
   ],
   "source": [
    "print(in_data.shape, out_data.shape)"
   ]
  },
  {
   "cell_type": "markdown",
   "metadata": {},
   "source": [
    "#### Hint on building a model with your own LSTMCell\n",
    "\n",
    "When creating an RNN with your own custom cell, you can just plug in your `LSTMCell` as a building block into a basic `RNN` layer, specify other parameters (e.g. input_shape) as needed, and add it into your model as you did with other layers before. \n",
    "\n",
    "```\n",
    "self.rnn = tf.keras.layers.RNN([YOUR_CELL], **OTHER_ARGS)\n",
    "```\n",
    "\n",
    "For details, please refer to https://www.tensorflow.org/guide/keras/rnn. "
   ]
  },
  {
   "cell_type": "markdown",
   "metadata": {},
   "source": [
    "<span style=\"color:red\">__TODO:__</span> Complete the model `LSTMModel` in **utils/LSTM.py**"
   ]
  },
  {
   "cell_type": "markdown",
   "metadata": {},
   "source": [
    "<span style=\"color:red\">__NOTE:__</span> \n",
    "\n",
    "We are trying to use a custom layer (our `LSTMCell`) with multiple `call` arguments (\"inputs\" and \"states\"). The pre-building of these types of models is currently NOT allowed in tensorflow. \n",
    "\n",
    "So be sure NOT to call `model.summary()`. Compile and fit it directly and the building will be automatically done in runtime. "
   ]
  },
  {
   "cell_type": "markdown",
   "metadata": {},
   "source": [
    "<span style=\"color:red\">__TODO:__</span> Train your `LSTMModel`"
   ]
  },
  {
   "cell_type": "code",
   "execution_count": 63,
   "metadata": {},
   "outputs": [
    {
     "name": "stdout",
     "output_type": "stream",
     "text": [
      "Epoch 1/20\n",
      "15/15 [==============================] - 2s 35ms/step - loss: 0.7383 - accuracy: 0.2704 - val_loss: 0.7014 - val_accuracy: 0.0194\n",
      "Epoch 2/20\n",
      "15/15 [==============================] - 0s 16ms/step - loss: 0.6981 - accuracy: 0.3876 - val_loss: 0.6890 - val_accuracy: 0.0194\n",
      "Epoch 3/20\n",
      "15/15 [==============================] - 0s 16ms/step - loss: 0.6958 - accuracy: 0.2128 - val_loss: 0.6989 - val_accuracy: 0.5534\n",
      "Epoch 4/20\n",
      "15/15 [==============================] - 0s 29ms/step - loss: 0.6933 - accuracy: 0.4180 - val_loss: 0.6975 - val_accuracy: 0.5534\n",
      "Epoch 5/20\n",
      "15/15 [==============================] - 0s 21ms/step - loss: 0.6908 - accuracy: 0.4376 - val_loss: 0.6859 - val_accuracy: 0.5825\n",
      "Epoch 6/20\n",
      "15/15 [==============================] - 0s 22ms/step - loss: 0.6993 - accuracy: 0.4115 - val_loss: 0.6980 - val_accuracy: 0.6214\n",
      "Epoch 7/20\n",
      "15/15 [==============================] - 0s 17ms/step - loss: 0.6931 - accuracy: 0.4973 - val_loss: 0.6937 - val_accuracy: 0.6311\n",
      "Epoch 8/20\n",
      "15/15 [==============================] - 0s 16ms/step - loss: 0.6929 - accuracy: 0.5212 - val_loss: 0.7067 - val_accuracy: 0.0874\n",
      "Epoch 9/20\n",
      "15/15 [==============================] - 0s 23ms/step - loss: 0.6917 - accuracy: 0.3149 - val_loss: 0.6972 - val_accuracy: 0.5922\n",
      "Epoch 10/20\n",
      "15/15 [==============================] - 0s 15ms/step - loss: 0.6991 - accuracy: 0.4267 - val_loss: 0.7036 - val_accuracy: 0.2136\n",
      "Epoch 11/20\n",
      "15/15 [==============================] - 0s 15ms/step - loss: 0.7005 - accuracy: 0.3236 - val_loss: 0.7246 - val_accuracy: 0.0583\n",
      "Epoch 12/20\n",
      "15/15 [==============================] - 0s 16ms/step - loss: 0.7016 - accuracy: 0.2345 - val_loss: 0.7095 - val_accuracy: 0.2524\n",
      "Epoch 13/20\n",
      "15/15 [==============================] - 0s 16ms/step - loss: 0.7012 - accuracy: 0.2454 - val_loss: 0.6909 - val_accuracy: 0.5922\n",
      "Epoch 14/20\n",
      "15/15 [==============================] - 0s 17ms/step - loss: 0.7002 - accuracy: 0.2258 - val_loss: 0.7202 - val_accuracy: 0.0777\n",
      "Epoch 15/20\n",
      "15/15 [==============================] - 0s 17ms/step - loss: 0.7006 - accuracy: 0.1574 - val_loss: 0.6986 - val_accuracy: 0.2621\n",
      "Epoch 16/20\n",
      "15/15 [==============================] - 0s 17ms/step - loss: 0.6948 - accuracy: 0.2693 - val_loss: 0.6924 - val_accuracy: 0.0583\n",
      "Epoch 17/20\n",
      "15/15 [==============================] - 0s 17ms/step - loss: 0.6975 - accuracy: 0.2128 - val_loss: 0.7055 - val_accuracy: 0.0874\n",
      "Epoch 18/20\n",
      "15/15 [==============================] - 0s 16ms/step - loss: 0.6943 - accuracy: 0.2997 - val_loss: 0.7152 - val_accuracy: 0.2718\n",
      "Epoch 19/20\n",
      "15/15 [==============================] - 0s 17ms/step - loss: 0.6954 - accuracy: 0.3507 - val_loss: 0.6777 - val_accuracy: 0.0680\n",
      "Epoch 20/20\n",
      "15/15 [==============================] - 0s 16ms/step - loss: 0.6973 - accuracy: 0.3616 - val_loss: 0.7021 - val_accuracy: 0.1068\n"
     ]
    }
   ],
   "source": [
    "from utils.LSTM import LSTMModel\n",
    "\n",
    "###################################################\n",
    "# TODO: Instantiate your own model and train it.  #\n",
    "###################################################\n",
    "batch_size = 8\n",
    "units = 128\n",
    "output_dim = 1\n",
    "input_shape = (8, 1)\n",
    "activation = 'tanh'\n",
    "model = LSTMModel(units, output_dim, activation, input_shape)\n",
    "model.compile(loss=tf.keras.losses.BinaryCrossentropy(),\n",
    "              optimizer=tf.keras.optimizers.Adam(learning_rate=1e-2),\n",
    "              metrics=['accuracy'])\n",
    "history = model.fit(in_data, out_data, batch_size=64, epochs=20, validation_split=0.1)\n",
    "###################################################\n",
    "# END TODO                                        #\n",
    "###################################################"
   ]
  },
  {
   "cell_type": "markdown",
   "metadata": {},
   "source": [
    "### Visualize loss and accuracy"
   ]
  },
  {
   "cell_type": "code",
   "execution_count": 64,
   "metadata": {},
   "outputs": [
    {
     "data": {
      "image/png": "[encoded data removed]",
      "text/plain": [
       "<Figure size 432x288 with 1 Axes>"
      ]
     },
     "metadata": {
      "needs_background": "light"
     },
     "output_type": "display_data"
    }
   ],
   "source": [
    "plt.plot(history.history['loss'], label='loss')\n",
    "plt.plot(history.history['accuracy'], label='accuracy')\n",
    "plt.title('Training history')\n",
    "plt.ylabel('value')\n",
    "plt.xlabel('No. epoch')\n",
    "plt.legend(loc=\"upper left\")\n",
    "plt.show()"
   ]
  },
  {
   "cell_type": "code",
   "execution_count": null,
   "metadata": {},
   "outputs": [],
   "source": []
  }
 ],
 "metadata": {
  "kernelspec": {
   "display_name": "Python 3 (ipykernel)",
   "language": "python",
   "name": "python3"
  },
  "language_info": {
   "codemirror_mode": {
    "name": "ipython",
    "version": 3
   },
   "file_extension": ".py",
   "mimetype": "text/x-python",
   "name": "python",
   "nbconvert_exporter": "python",
   "pygments_lexer": "ipython3",
   "version": "3.9.7"
  },
  "vscode": {
   "interpreter": {
    "hash": "36142657f443a869bd2c1b509e6f1df9b014ad48aa206cdd00d27f8f22cb37ba"
   }
  }
 },
 "nbformat": 4,
 "nbformat_minor": 4
}
